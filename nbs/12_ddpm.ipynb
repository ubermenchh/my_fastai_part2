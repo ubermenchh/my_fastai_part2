{
  "cells": [
    {
      "cell_type": "code",
      "execution_count": 3,
      "metadata": {
        "id": "CUNFJLWKr5dM"
      },
      "outputs": [],
      "source": [
        "#|default_exp accel"
      ]
    },
    {
      "attachments": {},
      "cell_type": "markdown",
      "metadata": {
        "id": "NWRl_XUXsUQV"
      },
      "source": [
        "# Denoising Diffusion Probabilistic Models (DDPMs)"
      ]
    },
    {
      "attachments": {},
      "cell_type": "markdown",
      "metadata": {
        "id": "Qbua9KyNsZmz"
      },
      "source": [
        "## Imports"
      ]
    },
    {
      "cell_type": "code",
      "execution_count": 4,
      "metadata": {
        "id": "gncR6eLisIjy"
      },
      "outputs": [],
      "source": [
        "#|export\n",
        "import pickle,gzip,math,os,time,shutil,torch,random,logging\n",
        "import fastcore.all as fc,matplotlib as mpl,numpy as np,matplotlib.pyplot as plt\n",
        "from collections.abc import Mapping\n",
        "from pathlib import Path\n",
        "from functools import partial\n",
        "\n",
        "from fastcore.foundation import L\n",
        "import torchvision.transforms.functional as TF,torch.nn.functional as F\n",
        "from torch import tensor,nn,optim\n",
        "from torch.utils.data import DataLoader,default_collate\n",
        "from torch.nn import init\n",
        "from torch.optim import lr_scheduler\n",
        "\n",
        "from miniai.datasets import *\n",
        "from miniai.conv import *\n",
        "from miniai.learner import *\n",
        "from miniai.activations import *\n",
        "from miniai.init import *\n",
        "from miniai.sgd import *\n",
        "from miniai.resnet import *\n",
        "from miniai.augment import *"
      ]
    },
    {
      "cell_type": "code",
      "execution_count": 5,
      "metadata": {
        "id": "M5cyodG5sKBy"
      },
      "outputs": [],
      "source": [
        "from torcheval.metrics import MulticlassAccuracy\n",
        "from datasets import load_dataset,load_dataset_builder\n",
        "\n",
        "mpl.rcParams['image.cmap'] = 'gray_r'\n",
        "logging.disable(logging.WARNING)"
      ]
    },
    {
      "attachments": {},
      "cell_type": "markdown",
      "metadata": {
        "id": "ejlcKd84sOa-"
      },
      "source": [
        "## Load the Dataset"
      ]
    },
    {
      "cell_type": "code",
      "execution_count": 6,
      "metadata": {
        "colab": {
          "base_uri": "https://localhost:8080/",
          "height": 426,
          "referenced_widgets": [
            "77a78245cb584d4dac07f5ede5a56bfc",
            "6d18972f662244229b846a2f7cc1d41b",
            "4797b9ee0a994ca7ac08e765f9e82408",
            "122137f0c8c24f8c9d91b798312335ec",
            "faf8041a3d934488b0f7f162ab65e087",
            "28df30199ab64390b247498c6788a2e6",
            "b0396fc30a4f402b851a56514629a922",
            "c773eead4b9542f6ae249b6692e0890d",
            "5bc4dbdc2ca24600992406ab47e6c0b3",
            "93695997e185461e8a2cc9948bcbdae2",
            "137007f94921476b8c58b1f1deca9389",
            "5af9dcec818d45c188a3cba204852cf5",
            "3196ae6a31a047dcb70a61d5bf8f44d3",
            "6f97c6a4b52141d38995f6afce69ecbd",
            "3052d92a83c546d3b00c9e44b0262f4b",
            "7a1b45f4f444428da760e5d542cea8f0",
            "fed5864f19ee47b5bb7b6eb0a727a01f",
            "22ecd007b9ef4acba362e54f34493edb",
            "23f7cd0a39cc4cee985d6dbc01af0117",
            "62f2cd6c2f644601af82ad2eab6900d7",
            "be78e843689548459a64acac889c1dfb",
            "5892e17e54e440c29fd10ba958a06d01",
            "f9e0f13f4d24485ea0b4126582277882",
            "911bb09366b249f1ac3c5f3bbb20392b",
            "2621ef82a8444cbf846154d2cd2e0339",
            "47d0b01a60d043ccb9450f0550ea7dad",
            "497bfdaba4fd4d9e934b24d4c88a0664",
            "294c949f834a439e96ca69aec5932811",
            "a206bddd629749ae9968e2597a334e30",
            "80fe41488aa7452480bf69e67b4a4860",
            "232d497884b04e9d9d4d5e3723980c1d",
            "93519587cc954ba3ab10107b7ac30d49",
            "dd32dfcf38394c17b8e9714281a2755e",
            "ba6f6250efbd4e0491a5a0f161b53cd8",
            "7e7865ae09544d83ba7f944a0f77ffc4",
            "3446707472a24c19ae85021340a04d15",
            "e9852d2d34454f58b4edb532db8d0b78",
            "d234038e207f48d0a4d8d0da712fd199",
            "e992051a6851446d913b24ab0eb95da5",
            "e9aedb8d91e447d5949330dfb30350f7",
            "23997832ca684ab0be0b66c72e2e5662",
            "ba8d62ad0ec242c2a57cfccdddf7030a",
            "600c154b36524b06b1cf6ccd71e1555d",
            "fb67fbc36a574cf597152a903c82bdec",
            "fd5dd85519e64498a4d72563b66cf728",
            "0cdc9089627b4f27ad51eca3a50f5b95",
            "ba95af530812473f85f639d546c93d73",
            "8987d2eafd75479badc6c395bbf0557e",
            "fcca21d1a1da45b390bc0b3769a545d1",
            "8c2eb20ff6064f678d0945590e865e37",
            "09c3697c7fe644c6a09b9976bcc77d67",
            "07dd8cc114d140fa8b10854bce7d7765",
            "0adb4485b0d045cc90a364d48a0b9ac7",
            "128770d44caa4e1b9fc5767b1051c975",
            "c0334e233472406d88165b2d5aab4c58",
            "7e2a5f0d17b44e3f89e1d8791eaa3043",
            "5ac24f8d386b414ba2a9b944a0334549",
            "2f04f0020f4d4e578da7f6fbd22ba952",
            "0ccfd11573c74ccaaaefa0938f5398ad",
            "cf895e054a774c21a7e2adda9b13e12f",
            "97fd535b926b414cbff6135cf21f8b68",
            "421f74c0a8b5418bbb3ef5e9778a8f0e",
            "0e9cef98648d4c249323bab4b501ad83",
            "99434dfdfe364866be195ffe2e3e5e57",
            "9a840922484d465d97bffa3bfce7c971",
            "d2a05ee454ba4cb58afe61fab659a3de",
            "cb22590ccf9048c2b09f535698e6e1e0",
            "a0a92c918b454cfb95babd0843d41647",
            "eea51c478a8741dcb0c3749d0b0ea5a2",
            "b74cf8bcb299454bbc0614c56031d2c9",
            "25ea0abc8d274b0b832ddcec444a535d",
            "6d6510f87ba348e4bb80fdb3ca13f5ce",
            "7ac5e79490a944ab96710b20a3ad8d37",
            "468e328822144a13b6d025e839527c9d",
            "e98dbc08f7ea4a4a9ec8735ef179b5aa",
            "bc84a9c5021942d18f6739545f35c18b",
            "252f0be84dc54843b9c48737fd915b60",
            "50894e7798ed4761a55aa1e78842c4d7",
            "69fc9fb986914d8c81328f212433d7e4",
            "b2511b9f042548a0b15ed09bfb649fa4",
            "37f2e818745046b09e2c03892827bbcf",
            "e2a67688dac344dda97f4720f11e6767",
            "bd7c1bd4aef548d3b36d3edfd8ff666a",
            "efe24cfb79fd4d78808c4c880b1699c1",
            "84e15841b160443981dcfa0a6ab17d2f",
            "1c2d43b35c544f089090f5fb22e1a50e",
            "94c1f3ecdace465db4465b2d1f4fcc84",
            "af912d90f1c94cf3a169653f96987336",
            "6b89fa740bd14b3bbbfecd7493572498",
            "5210bc85164a415cb19149b2abc78017",
            "9097d1a30ab6430fb0d26e92f8e22bbe",
            "90ca0b0be7724ac7b02355231e8e4d98",
            "81f01edebb794b02b0778b0d2b3e66c1",
            "5912611a27aa4c7891aeee7c2330ad1f",
            "bbf271996ad14b7fac8ae64ee06240bb",
            "5fdec5b91c984abcad5dd343c7b069a6",
            "42c654106b104af7bad95828ac054fe9",
            "9438d4b1b36840e2b1f278ca85fe8fea",
            "df24126a31a840a7baf0cfcc110b4b5e",
            "ebe491534e2844d5b5207a96b4860ac6",
            "fecf260d2190463b88798e266cf90f1e",
            "5880eb8e1ccb44ec8eb4e2e1b919dd30",
            "a181834f90ab4643bda02b95c0adf1a1",
            "06b5ed4d394e416aab167a99f2a9b305",
            "158978d32a284ed6b78e8603d3b04ac4",
            "4b74cd2dd6034b748f543ec785582fff",
            "314054584c7746808d0fbd4e4c8f526a",
            "58517cfcef124efc959abec7843e530f",
            "7e16cc70dd7a491ab0d09bce33163900",
            "74073953946845f7ba9279dd16e96864",
            "2909555273a849c99f1576e5752d8349",
            "9aaba7ca4bed4a2792dde17df6e97aed",
            "39e4abe2266d40e0b10e4badd6b1b321",
            "1dd6bd409ae44fd8af33e3654cdb074a",
            "508cdd003b8b40d7ad3c009d95134723",
            "4dd4f0fe83054406b53585ee8c51cd20",
            "519d7e46c47646e0a1c4dfa79756d609",
            "b6bf3de0f14e48ff9d46f514699788a7",
            "29a22e1bd4b94ba19b3b0435ab85496a",
            "78889126d07f4c4baea69223f5f96cd1",
            "2c3c60fa3ee04382a75c81d5084012ac",
            "f6182480e90f49d184d5a4b075fd3dd7",
            "907cefc786674976825d21c5837f0d01",
            "cd16fba2809d4ce8962a9ffd3521d49b",
            "22e199fef2a44c0c88374aa009553b78",
            "01657ccc9ab2497897cdb95f82fe4918",
            "4ca5e4e1b48d4d91b2e41fe019783fa4",
            "8b75d73ff7674a209a304037295236e1",
            "dd28326b2a0e410ca609c1deccb2a0b6",
            "774634f2d69149cfa3c30272bb4eba7d",
            "566aae19efea4614989adeef9f1e0246",
            "d6d1f71bd612422397788d3d6f84af40"
          ]
        },
        "id": "ZxsfbRUHsdpG",
        "outputId": "3b2674eb-6462-4717-ea05-56ada2623313"
      },
      "outputs": [
        {
          "data": {
            "application/vnd.jupyter.widget-view+json": {
              "model_id": "77a78245cb584d4dac07f5ede5a56bfc",
              "version_major": 2,
              "version_minor": 0
            },
            "text/plain": [
              "Downloading builder script:   0%|          | 0.00/4.83k [00:00<?, ?B/s]"
            ]
          },
          "metadata": {},
          "output_type": "display_data"
        },
        {
          "data": {
            "application/vnd.jupyter.widget-view+json": {
              "model_id": "5af9dcec818d45c188a3cba204852cf5",
              "version_major": 2,
              "version_minor": 0
            },
            "text/plain": [
              "Downloading metadata:   0%|          | 0.00/3.13k [00:00<?, ?B/s]"
            ]
          },
          "metadata": {},
          "output_type": "display_data"
        },
        {
          "data": {
            "application/vnd.jupyter.widget-view+json": {
              "model_id": "f9e0f13f4d24485ea0b4126582277882",
              "version_major": 2,
              "version_minor": 0
            },
            "text/plain": [
              "Downloading readme:   0%|          | 0.00/8.85k [00:00<?, ?B/s]"
            ]
          },
          "metadata": {},
          "output_type": "display_data"
        },
        {
          "name": "stdout",
          "output_type": "stream",
          "text": [
            "Downloading and preparing dataset fashion_mnist/fashion_mnist to /root/.cache/huggingface/datasets/fashion_mnist/fashion_mnist/1.0.0/0a671f063342996f19779d38c0ab4abef9c64f757b35af8134b331c294d7ba48...\n"
          ]
        },
        {
          "data": {
            "application/vnd.jupyter.widget-view+json": {
              "model_id": "ba6f6250efbd4e0491a5a0f161b53cd8",
              "version_major": 2,
              "version_minor": 0
            },
            "text/plain": [
              "Downloading data files:   0%|          | 0/4 [00:00<?, ?it/s]"
            ]
          },
          "metadata": {},
          "output_type": "display_data"
        },
        {
          "data": {
            "application/vnd.jupyter.widget-view+json": {
              "model_id": "fd5dd85519e64498a4d72563b66cf728",
              "version_major": 2,
              "version_minor": 0
            },
            "text/plain": [
              "Downloading data:   0%|          | 0.00/26.4M [00:00<?, ?B/s]"
            ]
          },
          "metadata": {},
          "output_type": "display_data"
        },
        {
          "data": {
            "application/vnd.jupyter.widget-view+json": {
              "model_id": "7e2a5f0d17b44e3f89e1d8791eaa3043",
              "version_major": 2,
              "version_minor": 0
            },
            "text/plain": [
              "Downloading data:   0%|          | 0.00/29.5k [00:00<?, ?B/s]"
            ]
          },
          "metadata": {},
          "output_type": "display_data"
        },
        {
          "data": {
            "application/vnd.jupyter.widget-view+json": {
              "model_id": "cb22590ccf9048c2b09f535698e6e1e0",
              "version_major": 2,
              "version_minor": 0
            },
            "text/plain": [
              "Downloading data:   0%|          | 0.00/4.42M [00:00<?, ?B/s]"
            ]
          },
          "metadata": {},
          "output_type": "display_data"
        },
        {
          "data": {
            "application/vnd.jupyter.widget-view+json": {
              "model_id": "50894e7798ed4761a55aa1e78842c4d7",
              "version_major": 2,
              "version_minor": 0
            },
            "text/plain": [
              "Downloading data:   0%|          | 0.00/5.15k [00:00<?, ?B/s]"
            ]
          },
          "metadata": {},
          "output_type": "display_data"
        },
        {
          "data": {
            "application/vnd.jupyter.widget-view+json": {
              "model_id": "6b89fa740bd14b3bbbfecd7493572498",
              "version_major": 2,
              "version_minor": 0
            },
            "text/plain": [
              "Extracting data files:   0%|          | 0/4 [00:00<?, ?it/s]"
            ]
          },
          "metadata": {},
          "output_type": "display_data"
        },
        {
          "data": {
            "application/vnd.jupyter.widget-view+json": {
              "model_id": "ebe491534e2844d5b5207a96b4860ac6",
              "version_major": 2,
              "version_minor": 0
            },
            "text/plain": [
              "Generating train split:   0%|          | 0/60000 [00:00<?, ? examples/s]"
            ]
          },
          "metadata": {},
          "output_type": "display_data"
        },
        {
          "data": {
            "application/vnd.jupyter.widget-view+json": {
              "model_id": "2909555273a849c99f1576e5752d8349",
              "version_major": 2,
              "version_minor": 0
            },
            "text/plain": [
              "Generating test split:   0%|          | 0/10000 [00:00<?, ? examples/s]"
            ]
          },
          "metadata": {},
          "output_type": "display_data"
        },
        {
          "name": "stdout",
          "output_type": "stream",
          "text": [
            "Dataset fashion_mnist downloaded and prepared to /root/.cache/huggingface/datasets/fashion_mnist/fashion_mnist/1.0.0/0a671f063342996f19779d38c0ab4abef9c64f757b35af8134b331c294d7ba48. Subsequent calls will reuse this data.\n"
          ]
        },
        {
          "data": {
            "application/vnd.jupyter.widget-view+json": {
              "model_id": "f6182480e90f49d184d5a4b075fd3dd7",
              "version_major": 2,
              "version_minor": 0
            },
            "text/plain": [
              "  0%|          | 0/2 [00:00<?, ?it/s]"
            ]
          },
          "metadata": {},
          "output_type": "display_data"
        },
        {
          "name": "stderr",
          "output_type": "stream",
          "text": [
            "/usr/local/lib/python3.10/dist-packages/torch/utils/data/dataloader.py:560: UserWarning: This DataLoader will create 8 worker processes in total. Our suggested max number of worker in current system is 2, which is smaller than what this DataLoader is going to create. Please be aware that excessive worker creation might get DataLoader running slow or even freeze, lower the worker number to avoid potential slowness/freeze if necessary.\n",
            "  warnings.warn(_create_warning_msg(\n"
          ]
        }
      ],
      "source": [
        "xl,yl = 'image','label'\n",
        "name = \"fashion_mnist\"\n",
        "dsd = load_dataset(name)\n",
        "\n",
        "@inplace\n",
        "def transformi(b): b[xl] = [F.pad(TF.to_tensor(o), (2,2,2,2)) for o in b[xl]]\n",
        "\n",
        "bs = 128\n",
        "tds = dsd.with_transform(transformi)\n",
        "dls = DataLoaders.from_dd(tds, bs, num_workers=8)"
      ]
    },
    {
      "cell_type": "code",
      "execution_count": 7,
      "metadata": {
        "id": "RhE2ds0wsfRH"
      },
      "outputs": [],
      "source": [
        "dt = dls.train\n",
        "xb, yb = next(iter(dt))"
      ]
    },
    {
      "cell_type": "code",
      "execution_count": 8,
      "metadata": {
        "colab": {
          "base_uri": "https://localhost:8080/",
          "height": 499
        },
        "id": "LkJ7FYSksh--",
        "outputId": "bd82bff6-caa8-4116-9647-89484c8b62fe"
      },
      "outputs": [
        {
          "data": {
            "image/png": "[encoded data removed]",
            "text/plain": [
              "<Figure size 600x600 with 16 Axes>"
            ]
          },
          "metadata": {},
          "output_type": "display_data"
        }
      ],
      "source": [
        "show_images(xb[:16], imsize=1.5)"
      ]
    },
    {
      "cell_type": "code",
      "execution_count": 9,
      "metadata": {
        "id": "sR2o9Mw_slc-"
      },
      "outputs": [],
      "source": [
        "betamin, betamax, n_steps = 0.0001, 0.02, 1000\n",
        "beta = torch.linspace(betamin, betamax, n_steps)\n",
        "alpha = 1. - beta\n",
        "alphabar = alpha.cumprod(dim=0)\n",
        "sigma = beta.sqrt()"
      ]
    },
    {
      "cell_type": "code",
      "execution_count": 10,
      "metadata": {
        "colab": {
          "base_uri": "https://localhost:8080/",
          "height": 430
        },
        "id": "lNQ01cIqs0ZZ",
        "outputId": "bbd7d1ce-97a5-4298-a3bb-4029d21f3aa8"
      },
      "outputs": [
        {
          "data": {
            "image/png": "[encoded data removed]",
            "text/plain": [
              "<Figure size 640x480 with 1 Axes>"
            ]
          },
          "metadata": {},
          "output_type": "display_data"
        }
      ],
      "source": [
        "plt.plot(beta);"
      ]
    },
    {
      "cell_type": "code",
      "execution_count": 11,
      "metadata": {
        "colab": {
          "base_uri": "https://localhost:8080/",
          "height": 430
        },
        "id": "Og6gZx9Rs9ix",
        "outputId": "32376b0c-764e-4237-f7b6-6853b16e5f7a"
      },
      "outputs": [
        {
          "data": {
            "image/png": "[encoded data removed]",
            "text/plain": [
              "<Figure size 640x480 with 1 Axes>"
            ]
          },
          "metadata": {},
          "output_type": "display_data"
        }
      ],
      "source": [
        "plt.plot(alpha);"
      ]
    },
    {
      "cell_type": "code",
      "execution_count": 12,
      "metadata": {
        "colab": {
          "base_uri": "https://localhost:8080/",
          "height": 430
        },
        "id": "RXsKuFHstHH6",
        "outputId": "1693413c-fcce-497b-fd4a-ec81aab2169f"
      },
      "outputs": [
        {
          "data": {
            "image/png": "[encoded data removed]",
            "text/plain": [
              "<Figure size 640x480 with 1 Axes>"
            ]
          },
          "metadata": {},
          "output_type": "display_data"
        }
      ],
      "source": [
        "plt.plot(alphabar);"
      ]
    },
    {
      "cell_type": "code",
      "execution_count": 13,
      "metadata": {
        "colab": {
          "base_uri": "https://localhost:8080/",
          "height": 430
        },
        "id": "AGSPFMqmtITp",
        "outputId": "01dbee3a-53cd-4471-87a6-6a9fb4c5ab8b"
      },
      "outputs": [
        {
          "data": {
            "image/png": "[encoded data removed]",
            "text/plain": [
              "<Figure size 640x480 with 1 Axes>"
            ]
          },
          "metadata": {},
          "output_type": "display_data"
        }
      ],
      "source": [
        "plt.plot(sigma);"
      ]
    },
    {
      "attachments": {},
      "cell_type": "markdown",
      "metadata": {
        "id": "Nywo6F_AuYqN"
      },
      "source": [
        "![image.png](data:image/png;base64,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)"
      ]
    },
    {
      "cell_type": "code",
      "execution_count": 14,
      "metadata": {
        "id": "8Xlpy9kQtIqk"
      },
      "outputs": [],
      "source": [
        "def noisify(x0, alphabar):\n",
        "    device = x0.device\n",
        "    n = len(x0)\n",
        "    t = torch.randint(0, n_steps, (n,), dtype=torch.long)\n",
        "    epsilon = torch.randn(x0.shape, device=device)\n",
        "    alphabar_t = alphabar[t].reshape(-1, 1, 1, 1).to(device)\n",
        "    xt = alphabar_t.sqrt() * x0 + (1 - alphabar_t).sqrt() * epsilon\n",
        "    return (xt, t.to(device)), epsilon"
      ]
    },
    {
      "cell_type": "code",
      "execution_count": 15,
      "metadata": {
        "colab": {
          "base_uri": "https://localhost:8080/"
        },
        "id": "X7EAIVrGtnmT",
        "outputId": "a4a79d56-0b84-4084-cef5-69462a0ef61d"
      },
      "outputs": [
        {
          "data": {
            "text/plain": [
              "tensor([821, 117,  53, 363, 780, 852, 164,  54, 932,   9, 155, 880, 427, 821,\n",
              "        732, 445, 741, 201, 645, 823, 994,  88, 217, 942, 659])"
            ]
          },
          "execution_count": 15,
          "metadata": {},
          "output_type": "execute_result"
        }
      ],
      "source": [
        "(xt, t), epsilon = noisify(xb[:25], alphabar)\n",
        "t"
      ]
    },
    {
      "cell_type": "code",
      "execution_count": 16,
      "metadata": {
        "colab": {
          "base_uri": "https://localhost:8080/",
          "height": 636
        },
        "id": "qEtHBwfguhlP",
        "outputId": "dbb6bf8b-bfe5-4734-b857-314331876a3a"
      },
      "outputs": [
        {
          "data": {
            "image/png": "[encoded data removed]",
            "text/plain": [
              "<Figure size 750x750 with 25 Axes>"
            ]
          },
          "metadata": {},
          "output_type": "display_data"
        }
      ],
      "source": [
        "titles = fc.map_ex(t, '{}')\n",
        "show_images(xt, imsize=1.5, titles=titles)"
      ]
    },
    {
      "attachments": {},
      "cell_type": "markdown",
      "metadata": {
        "id": "IxiymN0QwcLX"
      },
      "source": [
        "## Training"
      ]
    },
    {
      "cell_type": "code",
      "execution_count": 17,
      "metadata": {
        "id": "aHAx0sGywlvN"
      },
      "outputs": [],
      "source": [
        "from diffusers import UNet2DModel"
      ]
    },
    {
      "cell_type": "code",
      "execution_count": 18,
      "metadata": {
        "id": "tebiw7ZQwpz0"
      },
      "outputs": [],
      "source": [
        "@torch.no_grad()\n",
        "def sample(model, sz, alpha, alphabar, sigma, n_steps):\n",
        "    device = next(model.parameters()).device\n",
        "    x_t = torch.randn(sz, device=device)\n",
        "    preds = []\n",
        "    for t in reversed(range(n_steps)):\n",
        "        t_batch = torch.full((x_t.shape[0],), t, device=device, dtype=torch.long)\n",
        "        z = (torch.randn(x_t.shape) if t > 0 else torch.zeros(x_t.shape)).to(device)\n",
        "        alphabar_t1 = alphabar[t-1] if t > 0 else torch.tensor(1)\n",
        "        betabar_t = 1 - alphabar[t]\n",
        "        betabar_t1 = 1 - alphabar_t1\n",
        "        x_0_hat = ((x_t - betabar_t.sqrt() * learn.model((x_t, t_batch))) / alphabar[t].sqrt()).clamp(-1, 1)\n",
        "        x_t = x_0_hat * alphabar_t1.sqrt() * (1 - alpha[t]) / betabar_t + x_t * alpha[t].sqrt() * betabar_t1 / betabar_t + sigma[t] * z\n",
        "        preds.append(x_t.cpu())\n",
        "    return preds"
      ]
    },
    {
      "cell_type": "code",
      "execution_count": 19,
      "metadata": {
        "id": "MooT0QzOx2nA"
      },
      "outputs": [],
      "source": [
        "class DDPMCB(Callback):\n",
        "    order = DeviceCB.order + 1\n",
        "    def __init__(self, n_steps, beta_min, beta_max):\n",
        "        super().__init__()\n",
        "        fc.store_attr()\n",
        "        self.beta = torch.linspace(self.beta_min, self.beta_max, self.n_steps)\n",
        "        self.alpha = 1. - self.beta\n",
        "        self.alphabar = torch.cumprod(self.alpha, dim=0)\n",
        "        self.sigma = self.beta.sqrt()\n",
        "\n",
        "    def before_batch(self, learn): learn.batch = noisify(learn.batch[0], self.alphabar)\n",
        "    def sample(self, model, sz): return sample(model, sz, self.alpha, self.alphabar, self.sigma, self.n_steps)"
      ]
    },
    {
      "cell_type": "code",
      "execution_count": 20,
      "metadata": {
        "id": "DWcXAQuyzQdh"
      },
      "outputs": [],
      "source": [
        "class UNet(UNet2DModel):\n",
        "    def forward(self, x): return super().forward(*x).sample"
      ]
    },
    {
      "cell_type": "code",
      "execution_count": 21,
      "metadata": {
        "id": "arjnc_FEzX0P"
      },
      "outputs": [],
      "source": [
        "ddpm_cb = DDPMCB(n_steps=1000, beta_min=0.0001, beta_max=0.02)"
      ]
    },
    {
      "cell_type": "code",
      "execution_count": 22,
      "metadata": {
        "colab": {
          "base_uri": "https://localhost:8080/",
          "height": 691
        },
        "id": "ETASmuWdzgGo",
        "outputId": "6549152d-3fde-42b8-f0cb-be327a9742cb"
      },
      "outputs": [
        {
          "name": "stderr",
          "output_type": "stream",
          "text": [
            "/usr/local/lib/python3.10/dist-packages/torch/utils/data/dataloader.py:560: UserWarning: This DataLoader will create 8 worker processes in total. Our suggested max number of worker in current system is 2, which is smaller than what this DataLoader is going to create. Please be aware that excessive worker creation might get DataLoader running slow or even freeze, lower the worker number to avoid potential slowness/freeze if necessary.\n",
            "  warnings.warn(_create_warning_msg(\n"
          ]
        },
        {
          "data": {
            "image/png": "[encoded data removed]",
            "text/plain": [
              "<Figure size 750x750 with 25 Axes>"
            ]
          },
          "metadata": {},
          "output_type": "display_data"
        }
      ],
      "source": [
        "model = UNet(in_channels=1, out_channels=1, block_out_channels=(16, 32, 64, 64), norm_num_groups=8)\n",
        "\n",
        "learn = TrainLearner(model, dls, nn.MSELoss())\n",
        "learn.fit(train=False, cbs=[ddpm_cb, SingleBatchCB()])\n",
        "(xt, t), epsilon = learn.batch\n",
        "show_images(xt[:25], titles=fc.map_ex(t[:25], '{}'), imsize=1.5)"
      ]
    },
    {
      "cell_type": "code",
      "execution_count": 23,
      "metadata": {
        "id": "hmnP8ho8z94V"
      },
      "outputs": [],
      "source": [
        "lr = 5e-3\n",
        "epochs = 5\n",
        "\n",
        "tmax = epochs * len(dls.train)\n",
        "sched = partial(lr_scheduler.OneCycleLR, max_lr=lr, total_steps=tmax)\n",
        "cbs = [ddpm_cb, DeviceCB(), ProgressCB(plot=True), MetricsCB(), BatchSchedCB(sched)]"
      ]
    },
    {
      "cell_type": "code",
      "execution_count": 24,
      "metadata": {
        "id": "ckEK0e3O4l5K"
      },
      "outputs": [],
      "source": [
        "model = UNet(in_channels=1, out_channels=1, block_out_channels=(16, 32, 64, 128), norm_num_groups=8)"
      ]
    },
    {
      "cell_type": "code",
      "execution_count": 25,
      "metadata": {
        "id": "GMVw2mCw4-aD"
      },
      "outputs": [],
      "source": [
        "def init_ddpm(model):\n",
        "    for o in model.down_blocks:\n",
        "        for p in o.resnets:\n",
        "            p.conv2.weight.data.zero_()\n",
        "            for p in fc.L(o.downsamplers): init.orthogonal_(p.conv.weight)\n",
        "\n",
        "    for o in model.up_blocks:\n",
        "        for p in o.resnets: p.conv2.weight.data.zero_()\n",
        "\n",
        "    model.conv_out.weight.data.zero_()"
      ]
    },
    {
      "cell_type": "code",
      "execution_count": 26,
      "metadata": {
        "id": "QWCl7oQA5V0H"
      },
      "outputs": [],
      "source": [
        "init_ddpm(model)"
      ]
    },
    {
      "cell_type": "code",
      "execution_count": 27,
      "metadata": {
        "id": "lP1uiO4m5lhb"
      },
      "outputs": [],
      "source": [
        "opt_func = partial(optim.Adam, eps=1e-5)"
      ]
    },
    {
      "cell_type": "code",
      "execution_count": 28,
      "metadata": {
        "id": "LwPebhru5p7m"
      },
      "outputs": [],
      "source": [
        "learn = TrainLearner(model, dls, nn.MSELoss(), lr=lr, cbs=cbs, opt_func=opt_func)"
      ]
    },
    {
      "cell_type": "code",
      "execution_count": 29,
      "metadata": {
        "colab": {
          "base_uri": "https://localhost:8080/",
          "height": 714
        },
        "id": "2XG-_jSv5v1c",
        "outputId": "52451d07-9f89-48ea-cedf-0083f0b917f7"
      },
      "outputs": [
        {
          "data": {
            "text/html": [
              "\n",
              "<style>\n",
              "    /* Turns off some styling */\n",
              "    progress {\n",
              "        /* gets rid of default border in Firefox and Opera. */\n",
              "        border: none;\n",
              "        /* Needs to be in here for Safari polyfill so background images work as expected. */\n",
              "        background-size: auto;\n",
              "    }\n",
              "    progress:not([value]), progress:not([value])::-webkit-progress-bar {\n",
              "        background: repeating-linear-gradient(45deg, #7e7e7e, #7e7e7e 10px, #5c5c5c 10px, #5c5c5c 20px);\n",
              "    }\n",
              "    .progress-bar-interrupted, .progress-bar-interrupted::-webkit-progress-bar {\n",
              "        background: #F44336;\n",
              "    }\n",
              "</style>\n"
            ],
            "text/plain": [
              "<IPython.core.display.HTML object>"
            ]
          },
          "metadata": {},
          "output_type": "display_data"
        },
        {
          "data": {
            "text/html": [
              "<table border=\"1\" class=\"dataframe\">\n",
              "  <thead>\n",
              "    <tr style=\"text-align: left;\">\n",
              "      <th>loss</th>\n",
              "      <th>epoch</th>\n",
              "      <th>train</th>\n",
              "    </tr>\n",
              "  </thead>\n",
              "  <tbody>\n",
              "    <tr>\n",
              "      <td>0.148</td>\n",
              "      <td>0</td>\n",
              "      <td>train</td>\n",
              "    </tr>\n",
              "    <tr>\n",
              "      <td>0.027</td>\n",
              "      <td>0</td>\n",
              "      <td>eval</td>\n",
              "    </tr>\n",
              "    <tr>\n",
              "      <td>0.024</td>\n",
              "      <td>1</td>\n",
              "      <td>train</td>\n",
              "    </tr>\n",
              "    <tr>\n",
              "      <td>0.023</td>\n",
              "      <td>1</td>\n",
              "      <td>eval</td>\n",
              "    </tr>\n",
              "    <tr>\n",
              "      <td>0.020</td>\n",
              "      <td>2</td>\n",
              "      <td>train</td>\n",
              "    </tr>\n",
              "    <tr>\n",
              "      <td>0.019</td>\n",
              "      <td>2</td>\n",
              "      <td>eval</td>\n",
              "    </tr>\n",
              "    <tr>\n",
              "      <td>0.019</td>\n",
              "      <td>3</td>\n",
              "      <td>train</td>\n",
              "    </tr>\n",
              "    <tr>\n",
              "      <td>0.019</td>\n",
              "      <td>3</td>\n",
              "      <td>eval</td>\n",
              "    </tr>\n",
              "    <tr>\n",
              "      <td>0.018</td>\n",
              "      <td>4</td>\n",
              "      <td>train</td>\n",
              "    </tr>\n",
              "    <tr>\n",
              "      <td>0.018</td>\n",
              "      <td>4</td>\n",
              "      <td>eval</td>\n",
              "    </tr>\n",
              "  </tbody>\n",
              "</table>"
            ],
            "text/plain": [
              "<IPython.core.display.HTML object>"
            ]
          },
          "metadata": {},
          "output_type": "display_data"
        },
        {
          "data": {
            "image/png": "[encoded data removed]",
            "text/plain": [
              "<Figure size 600x400 with 1 Axes>"
            ]
          },
          "metadata": {},
          "output_type": "display_data"
        }
      ],
      "source": [
        "learn.fit(epochs)"
      ]
    },
    {
      "cell_type": "code",
      "execution_count": 30,
      "metadata": {
        "id": "KDi-mn4Q5xJu"
      },
      "outputs": [],
      "source": [
        "mdl_path = Path('models')\n",
        "mdl_path.mkdir(exist_ok=True)"
      ]
    },
    {
      "cell_type": "code",
      "execution_count": 31,
      "metadata": {
        "id": "a1igqkzg6A2C"
      },
      "outputs": [],
      "source": [
        "torch.save(learn.model, mdl_path/'fashion_ddpm2.pkl')"
      ]
    },
    {
      "cell_type": "code",
      "execution_count": 32,
      "metadata": {
        "id": "TeYN3bHM6Evo"
      },
      "outputs": [],
      "source": [
        "learn.model = torch.load(mdl_path / 'fashion_ddpm2.pkl')"
      ]
    },
    {
      "attachments": {},
      "cell_type": "markdown",
      "metadata": {
        "id": "ArmqMJOR6JHy"
      },
      "source": [
        "## Sampling"
      ]
    },
    {
      "cell_type": "code",
      "execution_count": 33,
      "metadata": {
        "id": "VbgBCWFi6MdV"
      },
      "outputs": [],
      "source": [
        "samples = ddpm_cb.sample(learn.model, (16, 1, 32, 32))"
      ]
    },
    {
      "cell_type": "code",
      "execution_count": 34,
      "metadata": {
        "colab": {
          "base_uri": "https://localhost:8080/",
          "height": 422
        },
        "id": "6CSD_qWo6s0J",
        "outputId": "2d5ff0e0-446a-4e69-eb6f-4a2702acb81a"
      },
      "outputs": [
        {
          "data": {
            "image/png": "[encoded data removed]",
            "text/plain": [
              "<Figure size 500x500 with 16 Axes>"
            ]
          },
          "metadata": {},
          "output_type": "display_data"
        }
      ],
      "source": [
        "show_images(samples[-1], figsize=(5, 5))"
      ]
    },
    {
      "attachments": {},
      "cell_type": "markdown",
      "metadata": {
        "id": "4fGrVPaX6vdd"
      },
      "source": [
        "## Mixed Precision"
      ]
    },
    {
      "cell_type": "code",
      "execution_count": 35,
      "metadata": {
        "id": "_0FTEPdj6xy8"
      },
      "outputs": [],
      "source": [
        "bs = 512"
      ]
    },
    {
      "cell_type": "code",
      "execution_count": 36,
      "metadata": {
        "colab": {
          "base_uri": "https://localhost:8080/"
        },
        "id": "e1S-jquv6y-k",
        "outputId": "55a59fc7-2c51-44b7-b058-6546659955f6"
      },
      "outputs": [
        {
          "data": {
            "text/plain": [
              "{'image': tensor([[[[0., 0., 0.,  ..., 0., 0., 0.],\n",
              "           [0., 0., 0.,  ..., 0., 0., 0.],\n",
              "           [0., 0., 0.,  ..., 0., 0., 0.],\n",
              "           ...,\n",
              "           [0., 0., 0.,  ..., 0., 0., 0.],\n",
              "           [0., 0., 0.,  ..., 0., 0., 0.],\n",
              "           [0., 0., 0.,  ..., 0., 0., 0.]]],\n",
              " \n",
              " \n",
              "         [[[0., 0., 0.,  ..., 0., 0., 0.],\n",
              "           [0., 0., 0.,  ..., 0., 0., 0.],\n",
              "           [0., 0., 0.,  ..., 0., 0., 0.],\n",
              "           ...,\n",
              "           [0., 0., 0.,  ..., 0., 0., 0.],\n",
              "           [0., 0., 0.,  ..., 0., 0., 0.],\n",
              "           [0., 0., 0.,  ..., 0., 0., 0.]]]]),\n",
              " 'label': tensor([9, 0])}"
            ]
          },
          "execution_count": 36,
          "metadata": {},
          "output_type": "execute_result"
        }
      ],
      "source": [
        "next(iter(DataLoader(tds['train'], batch_size=2)))"
      ]
    },
    {
      "cell_type": "code",
      "execution_count": 37,
      "metadata": {
        "id": "ogqqAVgj63N6"
      },
      "outputs": [],
      "source": [
        "def collate_ddpm(b): return noisify(default_collate(b)[xl], alphabar)\n",
        "def dl_ddpm(ds): return DataLoader(ds, batch_size=bs, collate_fn=collate_ddpm, num_workers=4)"
      ]
    },
    {
      "cell_type": "code",
      "execution_count": 38,
      "metadata": {
        "colab": {
          "base_uri": "https://localhost:8080/"
        },
        "id": "oENIhRLEFdEy",
        "outputId": "ad4c8da8-f774-45f3-9163-dbe5e94a9d03"
      },
      "outputs": [
        {
          "name": "stderr",
          "output_type": "stream",
          "text": [
            "/usr/local/lib/python3.10/dist-packages/torch/utils/data/dataloader.py:560: UserWarning: This DataLoader will create 4 worker processes in total. Our suggested max number of worker in current system is 2, which is smaller than what this DataLoader is going to create. Please be aware that excessive worker creation might get DataLoader running slow or even freeze, lower the worker number to avoid potential slowness/freeze if necessary.\n",
            "  warnings.warn(_create_warning_msg(\n"
          ]
        }
      ],
      "source": [
        "dls = DataLoaders(dl_ddpm(tds['train']), dl_ddpm(tds['test']))"
      ]
    },
    {
      "cell_type": "code",
      "execution_count": 39,
      "metadata": {
        "id": "UbhhtD81Fjwa"
      },
      "outputs": [],
      "source": [
        "#|export\n",
        "class MixedPrecision(TrainCB):\n",
        "    order = DeviceCB.order+10\n",
        "\n",
        "    def before_fit(self, learn): self.scaler = torch.cuda.amp.GradScaler()\n",
        "\n",
        "    def before_batch(self, learn):\n",
        "        self.autocast = torch.autocast(\"cuda\", dtype=torch.float16)\n",
        "        self.autocast.__enter__()\n",
        "\n",
        "    def after_loss(self, learn): self.autocast.__exit__(None, None, None)\n",
        "\n",
        "    def backward(self, learn): self.scaler.scale(learn.loss).backward()\n",
        "\n",
        "    def step(self, learn):\n",
        "        self.scaler.step(learn.opt)\n",
        "        self.scaler.update()\n"
      ]
    },
    {
      "cell_type": "code",
      "execution_count": 40,
      "metadata": {
        "id": "MYhmIMQWGIic"
      },
      "outputs": [],
      "source": [
        "lr = 1e-2\n",
        "epochs = 8\n",
        "tmax = epochs * len(dls.train)\n",
        "sched = partial(lr_scheduler.OneCycleLR, max_lr=lr, total_steps=tmax)\n",
        "cbs = [DeviceCB(), MixedPrecision(), ProgressCB(plot=True), MetricsCB(), BatchSchedCB(sched)]\n",
        "model = UNet(in_channels=1, out_channels=1, block_out_channels=(16, 32, 64, 128), norm_num_groups=8)\n",
        "init_ddpm(model)\n",
        "learn = Learner(model, dls, nn.MSELoss(), lr=lr, cbs=cbs, opt_func=opt_func)\n"
      ]
    },
    {
      "cell_type": "code",
      "execution_count": 41,
      "metadata": {
        "colab": {
          "base_uri": "https://localhost:8080/",
          "height": 902
        },
        "id": "bZ92TSpsGKZU",
        "outputId": "b4412313-0768-47c7-f4cf-ed89f862b13e"
      },
      "outputs": [
        {
          "data": {
            "text/html": [
              "\n",
              "<style>\n",
              "    /* Turns off some styling */\n",
              "    progress {\n",
              "        /* gets rid of default border in Firefox and Opera. */\n",
              "        border: none;\n",
              "        /* Needs to be in here for Safari polyfill so background images work as expected. */\n",
              "        background-size: auto;\n",
              "    }\n",
              "    progress:not([value]), progress:not([value])::-webkit-progress-bar {\n",
              "        background: repeating-linear-gradient(45deg, #7e7e7e, #7e7e7e 10px, #5c5c5c 10px, #5c5c5c 20px);\n",
              "    }\n",
              "    .progress-bar-interrupted, .progress-bar-interrupted::-webkit-progress-bar {\n",
              "        background: #F44336;\n",
              "    }\n",
              "</style>\n"
            ],
            "text/plain": [
              "<IPython.core.display.HTML object>"
            ]
          },
          "metadata": {},
          "output_type": "display_data"
        },
        {
          "data": {
            "text/html": [
              "<table border=\"1\" class=\"dataframe\">\n",
              "  <thead>\n",
              "    <tr style=\"text-align: left;\">\n",
              "      <th>loss</th>\n",
              "      <th>epoch</th>\n",
              "      <th>train</th>\n",
              "    </tr>\n",
              "  </thead>\n",
              "  <tbody>\n",
              "    <tr>\n",
              "      <td>0.265</td>\n",
              "      <td>0</td>\n",
              "      <td>train</td>\n",
              "    </tr>\n",
              "    <tr>\n",
              "      <td>0.033</td>\n",
              "      <td>0</td>\n",
              "      <td>eval</td>\n",
              "    </tr>\n",
              "    <tr>\n",
              "      <td>0.029</td>\n",
              "      <td>1</td>\n",
              "      <td>train</td>\n",
              "    </tr>\n",
              "    <tr>\n",
              "      <td>0.028</td>\n",
              "      <td>1</td>\n",
              "      <td>eval</td>\n",
              "    </tr>\n",
              "    <tr>\n",
              "      <td>0.024</td>\n",
              "      <td>2</td>\n",
              "      <td>train</td>\n",
              "    </tr>\n",
              "    <tr>\n",
              "      <td>0.023</td>\n",
              "      <td>2</td>\n",
              "      <td>eval</td>\n",
              "    </tr>\n",
              "    <tr>\n",
              "      <td>0.021</td>\n",
              "      <td>3</td>\n",
              "      <td>train</td>\n",
              "    </tr>\n",
              "    <tr>\n",
              "      <td>0.021</td>\n",
              "      <td>3</td>\n",
              "      <td>eval</td>\n",
              "    </tr>\n",
              "    <tr>\n",
              "      <td>0.020</td>\n",
              "      <td>4</td>\n",
              "      <td>train</td>\n",
              "    </tr>\n",
              "    <tr>\n",
              "      <td>0.019</td>\n",
              "      <td>4</td>\n",
              "      <td>eval</td>\n",
              "    </tr>\n",
              "    <tr>\n",
              "      <td>0.019</td>\n",
              "      <td>5</td>\n",
              "      <td>train</td>\n",
              "    </tr>\n",
              "    <tr>\n",
              "      <td>0.019</td>\n",
              "      <td>5</td>\n",
              "      <td>eval</td>\n",
              "    </tr>\n",
              "    <tr>\n",
              "      <td>0.018</td>\n",
              "      <td>6</td>\n",
              "      <td>train</td>\n",
              "    </tr>\n",
              "    <tr>\n",
              "      <td>0.018</td>\n",
              "      <td>6</td>\n",
              "      <td>eval</td>\n",
              "    </tr>\n",
              "    <tr>\n",
              "      <td>0.018</td>\n",
              "      <td>7</td>\n",
              "      <td>train</td>\n",
              "    </tr>\n",
              "    <tr>\n",
              "      <td>0.019</td>\n",
              "      <td>7</td>\n",
              "      <td>eval</td>\n",
              "    </tr>\n",
              "  </tbody>\n",
              "</table>"
            ],
            "text/plain": [
              "<IPython.core.display.HTML object>"
            ]
          },
          "metadata": {},
          "output_type": "display_data"
        },
        {
          "data": {
            "image/png": "[encoded data removed]",
            "text/plain": [
              "<Figure size 600x400 with 1 Axes>"
            ]
          },
          "metadata": {},
          "output_type": "display_data"
        }
      ],
      "source": [
        "learn.fit(epochs)\n"
      ]
    },
    {
      "cell_type": "code",
      "execution_count": 42,
      "metadata": {
        "id": "2gOrgw3AGL7a"
      },
      "outputs": [],
      "source": [
        "samples = sample(learn.model, (32, 1, 32, 32), alpha, alphabar, sigma, n_steps)\n"
      ]
    },
    {
      "cell_type": "code",
      "execution_count": 43,
      "metadata": {
        "colab": {
          "base_uri": "https://localhost:8080/",
          "height": 614
        },
        "id": "9kkN0sMFGNwY",
        "outputId": "f01bed5c-f8b6-42d3-ba0c-b4940df45beb"
      },
      "outputs": [
        {
          "data": {
            "image/png": "[encoded data removed]",
            "text/plain": [
              "<Figure size 750x750 with 25 Axes>"
            ]
          },
          "metadata": {},
          "output_type": "display_data"
        }
      ],
      "source": [
        "show_images(samples[-1][:25], imsize=1.5)\n"
      ]
    },
    {
      "cell_type": "code",
      "execution_count": 44,
      "metadata": {
        "id": "4xkxQfHPGP6u"
      },
      "outputs": [],
      "source": [
        "torch.save(learn.model, 'models/fashion_ddpm_mp.pkl')"
      ]
    },
    {
      "cell_type": "code",
      "execution_count": 45,
      "metadata": {
        "id": "cevrM4siNUVY"
      },
      "outputs": [],
      "source": [
        "!pip install -q accelerate"
      ]
    },
    {
      "cell_type": "code",
      "execution_count": 46,
      "metadata": {
        "id": "9yUt01VKGS-Y"
      },
      "outputs": [],
      "source": [
        "\n",
        "#|export\n",
        "from accelerate import Accelerator\n"
      ]
    },
    {
      "cell_type": "code",
      "execution_count": 47,
      "metadata": {
        "id": "hyK11Ld_GUtp"
      },
      "outputs": [],
      "source": [
        "\n",
        "#|export\n",
        "class AccelerateCB(TrainCB):\n",
        "    order = DeviceCB.order+10\n",
        "    def __init__(self, n_inp=1, mixed_precision=\"fp16\"):\n",
        "        super().__init__(n_inp=n_inp)\n",
        "        self.acc = Accelerator(mixed_precision=mixed_precision)\n",
        "\n",
        "    def before_fit(self, learn):\n",
        "        learn.model,learn.opt,learn.dls.train,learn.dls.valid = self.acc.prepare(\n",
        "            learn.model, learn.opt, learn.dls.train, learn.dls.valid)\n",
        "\n",
        "    def backward(self, learn): self.acc.backward(learn.loss)\n"
      ]
    },
    {
      "cell_type": "code",
      "execution_count": 48,
      "metadata": {
        "id": "9gfPE7d4GZ3a"
      },
      "outputs": [],
      "source": [
        "def noisify(x0, alphabar):\n",
        "    device = x0.device\n",
        "    n = len(x0)\n",
        "    t = torch.randint(0, n_steps, (n,), dtype=torch.long)\n",
        "    epsilon = torch.randn(x0.shape, device=device)\n",
        "    alphabar_t = alphabar[t].reshape(-1, 1, 1, 1).to(device)\n",
        "    xt = alphabar_t.sqrt() * x0 + (1 - alphabar_t).sqrt() * epsilon\n",
        "    return xt, t.to(device), epsilon"
      ]
    },
    {
      "cell_type": "code",
      "execution_count": 49,
      "metadata": {
        "id": "nckaJAxAGbnL"
      },
      "outputs": [],
      "source": [
        "dls = DataLoaders(dl_ddpm(tds['train']), dl_ddpm(tds['test']))\n"
      ]
    },
    {
      "cell_type": "code",
      "execution_count": 50,
      "metadata": {
        "id": "HzB5zVBhGcqA"
      },
      "outputs": [],
      "source": [
        "\n",
        "class DDPMCB2(Callback):\n",
        "    def after_predict(self, learn): learn.preds = learn.preds.sample\n"
      ]
    },
    {
      "cell_type": "code",
      "execution_count": 51,
      "metadata": {
        "id": "AQtzKSL1Ge1y"
      },
      "outputs": [],
      "source": [
        "\n",
        "model = UNet2DModel(in_channels=1, out_channels=1, block_out_channels=(16, 32, 64, 128), norm_num_groups=8)\n",
        "init_ddpm(model)\n",
        "cbs = [DDPMCB2(), DeviceCB(), ProgressCB(plot=True), MetricsCB(), BatchSchedCB(sched), AccelerateCB(n_inp=2)]\n",
        "learn = Learner(model, dls, nn.MSELoss(), lr=lr, cbs=cbs, opt_func=opt_func)"
      ]
    },
    {
      "cell_type": "code",
      "execution_count": 52,
      "metadata": {
        "colab": {
          "base_uri": "https://localhost:8080/",
          "height": 902
        },
        "id": "HeP6xLiAGgFI",
        "outputId": "afd9e149-dfad-4ed6-c3e9-da4e23b2eed0"
      },
      "outputs": [
        {
          "data": {
            "text/html": [
              "\n",
              "<style>\n",
              "    /* Turns off some styling */\n",
              "    progress {\n",
              "        /* gets rid of default border in Firefox and Opera. */\n",
              "        border: none;\n",
              "        /* Needs to be in here for Safari polyfill so background images work as expected. */\n",
              "        background-size: auto;\n",
              "    }\n",
              "    progress:not([value]), progress:not([value])::-webkit-progress-bar {\n",
              "        background: repeating-linear-gradient(45deg, #7e7e7e, #7e7e7e 10px, #5c5c5c 10px, #5c5c5c 20px);\n",
              "    }\n",
              "    .progress-bar-interrupted, .progress-bar-interrupted::-webkit-progress-bar {\n",
              "        background: #F44336;\n",
              "    }\n",
              "</style>\n"
            ],
            "text/plain": [
              "<IPython.core.display.HTML object>"
            ]
          },
          "metadata": {},
          "output_type": "display_data"
        },
        {
          "data": {
            "text/html": [
              "<table border=\"1\" class=\"dataframe\">\n",
              "  <thead>\n",
              "    <tr style=\"text-align: left;\">\n",
              "      <th>loss</th>\n",
              "      <th>epoch</th>\n",
              "      <th>train</th>\n",
              "    </tr>\n",
              "  </thead>\n",
              "  <tbody>\n",
              "    <tr>\n",
              "      <td>0.266</td>\n",
              "      <td>0</td>\n",
              "      <td>train</td>\n",
              "    </tr>\n",
              "    <tr>\n",
              "      <td>0.033</td>\n",
              "      <td>0</td>\n",
              "      <td>eval</td>\n",
              "    </tr>\n",
              "    <tr>\n",
              "      <td>0.029</td>\n",
              "      <td>1</td>\n",
              "      <td>train</td>\n",
              "    </tr>\n",
              "    <tr>\n",
              "      <td>0.025</td>\n",
              "      <td>1</td>\n",
              "      <td>eval</td>\n",
              "    </tr>\n",
              "    <tr>\n",
              "      <td>0.024</td>\n",
              "      <td>2</td>\n",
              "      <td>train</td>\n",
              "    </tr>\n",
              "    <tr>\n",
              "      <td>0.023</td>\n",
              "      <td>2</td>\n",
              "      <td>eval</td>\n",
              "    </tr>\n",
              "    <tr>\n",
              "      <td>0.021</td>\n",
              "      <td>3</td>\n",
              "      <td>train</td>\n",
              "    </tr>\n",
              "    <tr>\n",
              "      <td>0.021</td>\n",
              "      <td>3</td>\n",
              "      <td>eval</td>\n",
              "    </tr>\n",
              "    <tr>\n",
              "      <td>0.020</td>\n",
              "      <td>4</td>\n",
              "      <td>train</td>\n",
              "    </tr>\n",
              "    <tr>\n",
              "      <td>0.021</td>\n",
              "      <td>4</td>\n",
              "      <td>eval</td>\n",
              "    </tr>\n",
              "    <tr>\n",
              "      <td>0.019</td>\n",
              "      <td>5</td>\n",
              "      <td>train</td>\n",
              "    </tr>\n",
              "    <tr>\n",
              "      <td>0.019</td>\n",
              "      <td>5</td>\n",
              "      <td>eval</td>\n",
              "    </tr>\n",
              "    <tr>\n",
              "      <td>0.019</td>\n",
              "      <td>6</td>\n",
              "      <td>train</td>\n",
              "    </tr>\n",
              "    <tr>\n",
              "      <td>0.019</td>\n",
              "      <td>6</td>\n",
              "      <td>eval</td>\n",
              "    </tr>\n",
              "    <tr>\n",
              "      <td>0.018</td>\n",
              "      <td>7</td>\n",
              "      <td>train</td>\n",
              "    </tr>\n",
              "    <tr>\n",
              "      <td>0.019</td>\n",
              "      <td>7</td>\n",
              "      <td>eval</td>\n",
              "    </tr>\n",
              "  </tbody>\n",
              "</table>"
            ],
            "text/plain": [
              "<IPython.core.display.HTML object>"
            ]
          },
          "metadata": {},
          "output_type": "display_data"
        },
        {
          "data": {
            "image/png": "[encoded data removed]",
            "text/plain": [
              "<Figure size 600x400 with 1 Axes>"
            ]
          },
          "metadata": {},
          "output_type": "display_data"
        }
      ],
      "source": [
        "learn.fit(epochs)\n"
      ]
    },
    {
      "attachments": {},
      "cell_type": "markdown",
      "metadata": {
        "id": "hbspGU9HFYhj"
      },
      "source": [
        "# Export -"
      ]
    },
    {
      "cell_type": "code",
      "execution_count": null,
      "metadata": {
        "id": "vtVKdEREFYhj"
      },
      "outputs": [],
      "source": [
        "import nbdev; nbdev.nbdev_export()"
      ]
    },
    {
      "cell_type": "code",
      "execution_count": null,
      "metadata": {
        "id": "28IchlU4FYhj"
      },
      "outputs": [],
      "source": []
    }
  ],
  "metadata": {
    "accelerator": "GPU",
    "colab": {
      "gpuType": "T4",
      "provenance": []
    },
    "kernelspec": {
      "display_name": "Python 3",
      "name": "python3"
    },
    "language_info": {
      "codemirror_mode": {
        "name": "ipython",
        "version": 3
      },
      "file_extension": ".py",
      "mimetype": "text/x-python",
      "name": "python",
      "nbconvert_exporter": "python",
      "pygments_lexer": "ipython3",
      "version": "3.9.13"
    },
    "widgets": {
      "application/vnd.jupyter.widget-state+json": {
        "01657ccc9ab2497897cdb95f82fe4918": {
          "model_module": "@jupyter-widgets/base",
          "model_module_version": "1.2.0",
          "model_name": "LayoutModel",
          "state": {
            "_model_module": "@jupyter-widgets/base",
            "_model_module_version": "1.2.0",
            "_model_name": "LayoutModel",
            "_view_count": null,
            "_view_module": "@jupyter-widgets/base",
            "_view_module_version": "1.2.0",
            "_view_name": "LayoutView",
            "align_content": null,
            "align_items": null,
            "align_self": null,
            "border": null,
            "bottom": null,
            "display": null,
            "flex": null,
            "flex_flow": null,
            "grid_area": null,
            "grid_auto_columns": null,
            "grid_auto_flow": null,
            "grid_auto_rows": null,
            "grid_column": null,
            "grid_gap": null,
            "grid_row": null,
            "grid_template_areas": null,
            "grid_template_columns": null,
            "grid_template_rows": null,
            "height": null,
            "justify_content": null,
            "justify_items": null,
            "left": null,
            "margin": null,
            "max_height": null,
            "max_width": null,
            "min_height": null,
            "min_width": null,
            "object_fit": null,
            "object_position": null,
            "order": null,
            "overflow": null,
            "overflow_x": null,
            "overflow_y": null,
            "padding": null,
            "right": null,
            "top": null,
            "visibility": null,
            "width": null
          }
        },
        "06b5ed4d394e416aab167a99f2a9b305": {
          "model_module": "@jupyter-widgets/base",
          "model_module_version": "1.2.0",
          "model_name": "LayoutModel",
          "state": {
            "_model_module": "@jupyter-widgets/base",
            "_model_module_version": "1.2.0",
            "_model_name": "LayoutModel",
            "_view_count": null,
            "_view_module": "@jupyter-widgets/base",
            "_view_module_version": "1.2.0",
            "_view_name": "LayoutView",
            "align_content": null,
            "align_items": null,
            "align_self": null,
            "border": null,
            "bottom": null,
            "display": null,
            "flex": null,
            "flex_flow": null,
            "grid_area": null,
            "grid_auto_columns": null,
            "grid_auto_flow": null,
            "grid_auto_rows": null,
            "grid_column": null,
            "grid_gap": null,
            "grid_row": null,
            "grid_template_areas": null,
            "grid_template_columns": null,
            "grid_template_rows": null,
            "height": null,
            "justify_content": null,
            "justify_items": null,
            "left": null,
            "margin": null,
            "max_height": null,
            "max_width": null,
            "min_height": null,
            "min_width": null,
            "object_fit": null,
            "object_position": null,
            "order": null,
            "overflow": null,
            "overflow_x": null,
            "overflow_y": null,
            "padding": null,
            "right": null,
            "top": null,
            "visibility": "hidden",
            "width": null
          }
        },
        "07dd8cc114d140fa8b10854bce7d7765": {
          "model_module": "@jupyter-widgets/base",
          "model_module_version": "1.2.0",
          "model_name": "LayoutModel",
          "state": {
            "_model_module": "@jupyter-widgets/base",
            "_model_module_version": "1.2.0",
            "_model_name": "LayoutModel",
            "_view_count": null,
            "_view_module": "@jupyter-widgets/base",
            "_view_module_version": "1.2.0",
            "_view_name": "LayoutView",
            "align_content": null,
            "align_items": null,
            "align_self": null,
            "border": null,
            "bottom": null,
            "display": null,
            "flex": null,
            "flex_flow": null,
            "grid_area": null,
            "grid_auto_columns": null,
            "grid_auto_flow": null,
            "grid_auto_rows": null,
            "grid_column": null,
            "grid_gap": null,
            "grid_row": null,
            "grid_template_areas": null,
            "grid_template_columns": null,
            "grid_template_rows": null,
            "height": null,
            "justify_content": null,
            "justify_items": null,
            "left": null,
            "margin": null,
            "max_height": null,
            "max_width": null,
            "min_height": null,
            "min_width": null,
            "object_fit": null,
            "object_position": null,
            "order": null,
            "overflow": null,
            "overflow_x": null,
            "overflow_y": null,
            "padding": null,
            "right": null,
            "top": null,
            "visibility": null,
            "width": null
          }
        },
        "09c3697c7fe644c6a09b9976bcc77d67": {
          "model_module": "@jupyter-widgets/controls",
          "model_module_version": "1.5.0",
          "model_name": "DescriptionStyleModel",
          "state": {
            "_model_module": "@jupyter-widgets/controls",
            "_model_module_version": "1.5.0",
            "_model_name": "DescriptionStyleModel",
            "_view_count": null,
            "_view_module": "@jupyter-widgets/base",
            "_view_module_version": "1.2.0",
            "_view_name": "StyleView",
            "description_width": ""
          }
        },
        "0adb4485b0d045cc90a364d48a0b9ac7": {
          "model_module": "@jupyter-widgets/controls",
          "model_module_version": "1.5.0",
          "model_name": "ProgressStyleModel",
          "state": {
            "_model_module": "@jupyter-widgets/controls",
            "_model_module_version": "1.5.0",
            "_model_name": "ProgressStyleModel",
            "_view_count": null,
            "_view_module": "@jupyter-widgets/base",
            "_view_module_version": "1.2.0",
            "_view_name": "StyleView",
            "bar_color": null,
            "description_width": ""
          }
        },
        "0ccfd11573c74ccaaaefa0938f5398ad": {
          "model_module": "@jupyter-widgets/controls",
          "model_module_version": "1.5.0",
          "model_name": "HTMLModel",
          "state": {
            "_dom_classes": [],
            "_model_module": "@jupyter-widgets/controls",
            "_model_module_version": "1.5.0",
            "_model_name": "HTMLModel",
            "_view_count": null,
            "_view_module": "@jupyter-widgets/controls",
            "_view_module_version": "1.5.0",
            "_view_name": "HTMLView",
            "description": "",
            "description_tooltip": null,
            "layout": "IPY_MODEL_9a840922484d465d97bffa3bfce7c971",
            "placeholder": "​",
            "style": "IPY_MODEL_d2a05ee454ba4cb58afe61fab659a3de",
            "value": " 29.5k/29.5k [00:00&lt;00:00, 1.67MB/s]"
          }
        },
        "0cdc9089627b4f27ad51eca3a50f5b95": {
          "model_module": "@jupyter-widgets/controls",
          "model_module_version": "1.5.0",
          "model_name": "HTMLModel",
          "state": {
            "_dom_classes": [],
            "_model_module": "@jupyter-widgets/controls",
            "_model_module_version": "1.5.0",
            "_model_name": "HTMLModel",
            "_view_count": null,
            "_view_module": "@jupyter-widgets/controls",
            "_view_module_version": "1.5.0",
            "_view_name": "HTMLView",
            "description": "",
            "description_tooltip": null,
            "layout": "IPY_MODEL_8c2eb20ff6064f678d0945590e865e37",
            "placeholder": "​",
            "style": "IPY_MODEL_09c3697c7fe644c6a09b9976bcc77d67",
            "value": "Downloading data: 100%"
          }
        },
        "0e9cef98648d4c249323bab4b501ad83": {
          "model_module": "@jupyter-widgets/base",
          "model_module_version": "1.2.0",
          "model_name": "LayoutModel",
          "state": {
            "_model_module": "@jupyter-widgets/base",
            "_model_module_version": "1.2.0",
            "_model_name": "LayoutModel",
            "_view_count": null,
            "_view_module": "@jupyter-widgets/base",
            "_view_module_version": "1.2.0",
            "_view_name": "LayoutView",
            "align_content": null,
            "align_items": null,
            "align_self": null,
            "border": null,
            "bottom": null,
            "display": null,
            "flex": null,
            "flex_flow": null,
            "grid_area": null,
            "grid_auto_columns": null,
            "grid_auto_flow": null,
            "grid_auto_rows": null,
            "grid_column": null,
            "grid_gap": null,
            "grid_row": null,
            "grid_template_areas": null,
            "grid_template_columns": null,
            "grid_template_rows": null,
            "height": null,
            "justify_content": null,
            "justify_items": null,
            "left": null,
            "margin": null,
            "max_height": null,
            "max_width": null,
            "min_height": null,
            "min_width": null,
            "object_fit": null,
            "object_position": null,
            "order": null,
            "overflow": null,
            "overflow_x": null,
            "overflow_y": null,
            "padding": null,
            "right": null,
            "top": null,
            "visibility": null,
            "width": null
          }
        },
        "122137f0c8c24f8c9d91b798312335ec": {
          "model_module": "@jupyter-widgets/controls",
          "model_module_version": "1.5.0",
          "model_name": "HTMLModel",
          "state": {
            "_dom_classes": [],
            "_model_module": "@jupyter-widgets/controls",
            "_model_module_version": "1.5.0",
            "_model_name": "HTMLModel",
            "_view_count": null,
            "_view_module": "@jupyter-widgets/controls",
            "_view_module_version": "1.5.0",
            "_view_name": "HTMLView",
            "description": "",
            "description_tooltip": null,
            "layout": "IPY_MODEL_93695997e185461e8a2cc9948bcbdae2",
            "placeholder": "​",
            "style": "IPY_MODEL_137007f94921476b8c58b1f1deca9389",
            "value": " 4.83k/4.83k [00:00&lt;00:00, 342kB/s]"
          }
        },
        "128770d44caa4e1b9fc5767b1051c975": {
          "model_module": "@jupyter-widgets/base",
          "model_module_version": "1.2.0",
          "model_name": "LayoutModel",
          "state": {
            "_model_module": "@jupyter-widgets/base",
            "_model_module_version": "1.2.0",
            "_model_name": "LayoutModel",
            "_view_count": null,
            "_view_module": "@jupyter-widgets/base",
            "_view_module_version": "1.2.0",
            "_view_name": "LayoutView",
            "align_content": null,
            "align_items": null,
            "align_self": null,
            "border": null,
            "bottom": null,
            "display": null,
            "flex": null,
            "flex_flow": null,
            "grid_area": null,
            "grid_auto_columns": null,
            "grid_auto_flow": null,
            "grid_auto_rows": null,
            "grid_column": null,
            "grid_gap": null,
            "grid_row": null,
            "grid_template_areas": null,
            "grid_template_columns": null,
            "grid_template_rows": null,
            "height": null,
            "justify_content": null,
            "justify_items": null,
            "left": null,
            "margin": null,
            "max_height": null,
            "max_width": null,
            "min_height": null,
            "min_width": null,
            "object_fit": null,
            "object_position": null,
            "order": null,
            "overflow": null,
            "overflow_x": null,
            "overflow_y": null,
            "padding": null,
            "right": null,
            "top": null,
            "visibility": null,
            "width": null
          }
        },
        "137007f94921476b8c58b1f1deca9389": {
          "model_module": "@jupyter-widgets/controls",
          "model_module_version": "1.5.0",
          "model_name": "DescriptionStyleModel",
          "state": {
            "_model_module": "@jupyter-widgets/controls",
            "_model_module_version": "1.5.0",
            "_model_name": "DescriptionStyleModel",
            "_view_count": null,
            "_view_module": "@jupyter-widgets/base",
            "_view_module_version": "1.2.0",
            "_view_name": "StyleView",
            "description_width": ""
          }
        },
        "158978d32a284ed6b78e8603d3b04ac4": {
          "model_module": "@jupyter-widgets/base",
          "model_module_version": "1.2.0",
          "model_name": "LayoutModel",
          "state": {
            "_model_module": "@jupyter-widgets/base",
            "_model_module_version": "1.2.0",
            "_model_name": "LayoutModel",
            "_view_count": null,
            "_view_module": "@jupyter-widgets/base",
            "_view_module_version": "1.2.0",
            "_view_name": "LayoutView",
            "align_content": null,
            "align_items": null,
            "align_self": null,
            "border": null,
            "bottom": null,
            "display": null,
            "flex": null,
            "flex_flow": null,
            "grid_area": null,
            "grid_auto_columns": null,
            "grid_auto_flow": null,
            "grid_auto_rows": null,
            "grid_column": null,
            "grid_gap": null,
            "grid_row": null,
            "grid_template_areas": null,
            "grid_template_columns": null,
            "grid_template_rows": null,
            "height": null,
            "justify_content": null,
            "justify_items": null,
            "left": null,
            "margin": null,
            "max_height": null,
            "max_width": null,
            "min_height": null,
            "min_width": null,
            "object_fit": null,
            "object_position": null,
            "order": null,
            "overflow": null,
            "overflow_x": null,
            "overflow_y": null,
            "padding": null,
            "right": null,
            "top": null,
            "visibility": null,
            "width": null
          }
        },
        "1c2d43b35c544f089090f5fb22e1a50e": {
          "model_module": "@jupyter-widgets/controls",
          "model_module_version": "1.5.0",
          "model_name": "ProgressStyleModel",
          "state": {
            "_model_module": "@jupyter-widgets/controls",
            "_model_module_version": "1.5.0",
            "_model_name": "ProgressStyleModel",
            "_view_count": null,
            "_view_module": "@jupyter-widgets/base",
            "_view_module_version": "1.2.0",
            "_view_name": "StyleView",
            "bar_color": null,
            "description_width": ""
          }
        },
        "1dd6bd409ae44fd8af33e3654cdb074a": {
          "model_module": "@jupyter-widgets/controls",
          "model_module_version": "1.5.0",
          "model_name": "HTMLModel",
          "state": {
            "_dom_classes": [],
            "_model_module": "@jupyter-widgets/controls",
            "_model_module_version": "1.5.0",
            "_model_name": "HTMLModel",
            "_view_count": null,
            "_view_module": "@jupyter-widgets/controls",
            "_view_module_version": "1.5.0",
            "_view_name": "HTMLView",
            "description": "",
            "description_tooltip": null,
            "layout": "IPY_MODEL_78889126d07f4c4baea69223f5f96cd1",
            "placeholder": "​",
            "style": "IPY_MODEL_2c3c60fa3ee04382a75c81d5084012ac",
            "value": " 9661/10000 [00:01&lt;00:00, 5466.23 examples/s]"
          }
        },
        "22e199fef2a44c0c88374aa009553b78": {
          "model_module": "@jupyter-widgets/controls",
          "model_module_version": "1.5.0",
          "model_name": "HTMLModel",
          "state": {
            "_dom_classes": [],
            "_model_module": "@jupyter-widgets/controls",
            "_model_module_version": "1.5.0",
            "_model_name": "HTMLModel",
            "_view_count": null,
            "_view_module": "@jupyter-widgets/controls",
            "_view_module_version": "1.5.0",
            "_view_name": "HTMLView",
            "description": "",
            "description_tooltip": null,
            "layout": "IPY_MODEL_566aae19efea4614989adeef9f1e0246",
            "placeholder": "​",
            "style": "IPY_MODEL_d6d1f71bd612422397788d3d6f84af40",
            "value": " 2/2 [00:00&lt;00:00, 52.05it/s]"
          }
        },
        "22ecd007b9ef4acba362e54f34493edb": {
          "model_module": "@jupyter-widgets/controls",
          "model_module_version": "1.5.0",
          "model_name": "DescriptionStyleModel",
          "state": {
            "_model_module": "@jupyter-widgets/controls",
            "_model_module_version": "1.5.0",
            "_model_name": "DescriptionStyleModel",
            "_view_count": null,
            "_view_module": "@jupyter-widgets/base",
            "_view_module_version": "1.2.0",
            "_view_name": "StyleView",
            "description_width": ""
          }
        },
        "232d497884b04e9d9d4d5e3723980c1d": {
          "model_module": "@jupyter-widgets/controls",
          "model_module_version": "1.5.0",
          "model_name": "ProgressStyleModel",
          "state": {
            "_model_module": "@jupyter-widgets/controls",
            "_model_module_version": "1.5.0",
            "_model_name": "ProgressStyleModel",
            "_view_count": null,
            "_view_module": "@jupyter-widgets/base",
            "_view_module_version": "1.2.0",
            "_view_name": "StyleView",
            "bar_color": null,
            "description_width": ""
          }
        },
        "23997832ca684ab0be0b66c72e2e5662": {
          "model_module": "@jupyter-widgets/base",
          "model_module_version": "1.2.0",
          "model_name": "LayoutModel",
          "state": {
            "_model_module": "@jupyter-widgets/base",
            "_model_module_version": "1.2.0",
            "_model_name": "LayoutModel",
            "_view_count": null,
            "_view_module": "@jupyter-widgets/base",
            "_view_module_version": "1.2.0",
            "_view_name": "LayoutView",
            "align_content": null,
            "align_items": null,
            "align_self": null,
            "border": null,
            "bottom": null,
            "display": null,
            "flex": null,
            "flex_flow": null,
            "grid_area": null,
            "grid_auto_columns": null,
            "grid_auto_flow": null,
            "grid_auto_rows": null,
            "grid_column": null,
            "grid_gap": null,
            "grid_row": null,
            "grid_template_areas": null,
            "grid_template_columns": null,
            "grid_template_rows": null,
            "height": null,
            "justify_content": null,
            "justify_items": null,
            "left": null,
            "margin": null,
            "max_height": null,
            "max_width": null,
            "min_height": null,
            "min_width": null,
            "object_fit": null,
            "object_position": null,
            "order": null,
            "overflow": null,
            "overflow_x": null,
            "overflow_y": null,
            "padding": null,
            "right": null,
            "top": null,
            "visibility": null,
            "width": null
          }
        },
        "23f7cd0a39cc4cee985d6dbc01af0117": {
          "model_module": "@jupyter-widgets/base",
          "model_module_version": "1.2.0",
          "model_name": "LayoutModel",
          "state": {
            "_model_module": "@jupyter-widgets/base",
            "_model_module_version": "1.2.0",
            "_model_name": "LayoutModel",
            "_view_count": null,
            "_view_module": "@jupyter-widgets/base",
            "_view_module_version": "1.2.0",
            "_view_name": "LayoutView",
            "align_content": null,
            "align_items": null,
            "align_self": null,
            "border": null,
            "bottom": null,
            "display": null,
            "flex": null,
            "flex_flow": null,
            "grid_area": null,
            "grid_auto_columns": null,
            "grid_auto_flow": null,
            "grid_auto_rows": null,
            "grid_column": null,
            "grid_gap": null,
            "grid_row": null,
            "grid_template_areas": null,
            "grid_template_columns": null,
            "grid_template_rows": null,
            "height": null,
            "justify_content": null,
            "justify_items": null,
            "left": null,
            "margin": null,
            "max_height": null,
            "max_width": null,
            "min_height": null,
            "min_width": null,
            "object_fit": null,
            "object_position": null,
            "order": null,
            "overflow": null,
            "overflow_x": null,
            "overflow_y": null,
            "padding": null,
            "right": null,
            "top": null,
            "visibility": null,
            "width": null
          }
        },
        "252f0be84dc54843b9c48737fd915b60": {
          "model_module": "@jupyter-widgets/controls",
          "model_module_version": "1.5.0",
          "model_name": "DescriptionStyleModel",
          "state": {
            "_model_module": "@jupyter-widgets/controls",
            "_model_module_version": "1.5.0",
            "_model_name": "DescriptionStyleModel",
            "_view_count": null,
            "_view_module": "@jupyter-widgets/base",
            "_view_module_version": "1.2.0",
            "_view_name": "StyleView",
            "description_width": ""
          }
        },
        "25ea0abc8d274b0b832ddcec444a535d": {
          "model_module": "@jupyter-widgets/base",
          "model_module_version": "1.2.0",
          "model_name": "LayoutModel",
          "state": {
            "_model_module": "@jupyter-widgets/base",
            "_model_module_version": "1.2.0",
            "_model_name": "LayoutModel",
            "_view_count": null,
            "_view_module": "@jupyter-widgets/base",
            "_view_module_version": "1.2.0",
            "_view_name": "LayoutView",
            "align_content": null,
            "align_items": null,
            "align_self": null,
            "border": null,
            "bottom": null,
            "display": null,
            "flex": null,
            "flex_flow": null,
            "grid_area": null,
            "grid_auto_columns": null,
            "grid_auto_flow": null,
            "grid_auto_rows": null,
            "grid_column": null,
            "grid_gap": null,
            "grid_row": null,
            "grid_template_areas": null,
            "grid_template_columns": null,
            "grid_template_rows": null,
            "height": null,
            "justify_content": null,
            "justify_items": null,
            "left": null,
            "margin": null,
            "max_height": null,
            "max_width": null,
            "min_height": null,
            "min_width": null,
            "object_fit": null,
            "object_position": null,
            "order": null,
            "overflow": null,
            "overflow_x": null,
            "overflow_y": null,
            "padding": null,
            "right": null,
            "top": null,
            "visibility": null,
            "width": null
          }
        },
        "2621ef82a8444cbf846154d2cd2e0339": {
          "model_module": "@jupyter-widgets/controls",
          "model_module_version": "1.5.0",
          "model_name": "FloatProgressModel",
          "state": {
            "_dom_classes": [],
            "_model_module": "@jupyter-widgets/controls",
            "_model_module_version": "1.5.0",
            "_model_name": "FloatProgressModel",
            "_view_count": null,
            "_view_module": "@jupyter-widgets/controls",
            "_view_module_version": "1.5.0",
            "_view_name": "ProgressView",
            "bar_style": "success",
            "description": "",
            "description_tooltip": null,
            "layout": "IPY_MODEL_80fe41488aa7452480bf69e67b4a4860",
            "max": 8845,
            "min": 0,
            "orientation": "horizontal",
            "style": "IPY_MODEL_232d497884b04e9d9d4d5e3723980c1d",
            "value": 8845
          }
        },
        "28df30199ab64390b247498c6788a2e6": {
          "model_module": "@jupyter-widgets/base",
          "model_module_version": "1.2.0",
          "model_name": "LayoutModel",
          "state": {
            "_model_module": "@jupyter-widgets/base",
            "_model_module_version": "1.2.0",
            "_model_name": "LayoutModel",
            "_view_count": null,
            "_view_module": "@jupyter-widgets/base",
            "_view_module_version": "1.2.0",
            "_view_name": "LayoutView",
            "align_content": null,
            "align_items": null,
            "align_self": null,
            "border": null,
            "bottom": null,
            "display": null,
            "flex": null,
            "flex_flow": null,
            "grid_area": null,
            "grid_auto_columns": null,
            "grid_auto_flow": null,
            "grid_auto_rows": null,
            "grid_column": null,
            "grid_gap": null,
            "grid_row": null,
            "grid_template_areas": null,
            "grid_template_columns": null,
            "grid_template_rows": null,
            "height": null,
            "justify_content": null,
            "justify_items": null,
            "left": null,
            "margin": null,
            "max_height": null,
            "max_width": null,
            "min_height": null,
            "min_width": null,
            "object_fit": null,
            "object_position": null,
            "order": null,
            "overflow": null,
            "overflow_x": null,
            "overflow_y": null,
            "padding": null,
            "right": null,
            "top": null,
            "visibility": null,
            "width": null
          }
        },
        "2909555273a849c99f1576e5752d8349": {
          "model_module": "@jupyter-widgets/controls",
          "model_module_version": "1.5.0",
          "model_name": "HBoxModel",
          "state": {
            "_dom_classes": [],
            "_model_module": "@jupyter-widgets/controls",
            "_model_module_version": "1.5.0",
            "_model_name": "HBoxModel",
            "_view_count": null,
            "_view_module": "@jupyter-widgets/controls",
            "_view_module_version": "1.5.0",
            "_view_name": "HBoxView",
            "box_style": "",
            "children": [
              "IPY_MODEL_9aaba7ca4bed4a2792dde17df6e97aed",
              "IPY_MODEL_39e4abe2266d40e0b10e4badd6b1b321",
              "IPY_MODEL_1dd6bd409ae44fd8af33e3654cdb074a"
            ],
            "layout": "IPY_MODEL_508cdd003b8b40d7ad3c009d95134723"
          }
        },
        "294c949f834a439e96ca69aec5932811": {
          "model_module": "@jupyter-widgets/base",
          "model_module_version": "1.2.0",
          "model_name": "LayoutModel",
          "state": {
            "_model_module": "@jupyter-widgets/base",
            "_model_module_version": "1.2.0",
            "_model_name": "LayoutModel",
            "_view_count": null,
            "_view_module": "@jupyter-widgets/base",
            "_view_module_version": "1.2.0",
            "_view_name": "LayoutView",
            "align_content": null,
            "align_items": null,
            "align_self": null,
            "border": null,
            "bottom": null,
            "display": null,
            "flex": null,
            "flex_flow": null,
            "grid_area": null,
            "grid_auto_columns": null,
            "grid_auto_flow": null,
            "grid_auto_rows": null,
            "grid_column": null,
            "grid_gap": null,
            "grid_row": null,
            "grid_template_areas": null,
            "grid_template_columns": null,
            "grid_template_rows": null,
            "height": null,
            "justify_content": null,
            "justify_items": null,
            "left": null,
            "margin": null,
            "max_height": null,
            "max_width": null,
            "min_height": null,
            "min_width": null,
            "object_fit": null,
            "object_position": null,
            "order": null,
            "overflow": null,
            "overflow_x": null,
            "overflow_y": null,
            "padding": null,
            "right": null,
            "top": null,
            "visibility": null,
            "width": null
          }
        },
        "29a22e1bd4b94ba19b3b0435ab85496a": {
          "model_module": "@jupyter-widgets/controls",
          "model_module_version": "1.5.0",
          "model_name": "ProgressStyleModel",
          "state": {
            "_model_module": "@jupyter-widgets/controls",
            "_model_module_version": "1.5.0",
            "_model_name": "ProgressStyleModel",
            "_view_count": null,
            "_view_module": "@jupyter-widgets/base",
            "_view_module_version": "1.2.0",
            "_view_name": "StyleView",
            "bar_color": null,
            "description_width": ""
          }
        },
        "2c3c60fa3ee04382a75c81d5084012ac": {
          "model_module": "@jupyter-widgets/controls",
          "model_module_version": "1.5.0",
          "model_name": "DescriptionStyleModel",
          "state": {
            "_model_module": "@jupyter-widgets/controls",
            "_model_module_version": "1.5.0",
            "_model_name": "DescriptionStyleModel",
            "_view_count": null,
            "_view_module": "@jupyter-widgets/base",
            "_view_module_version": "1.2.0",
            "_view_name": "StyleView",
            "description_width": ""
          }
        },
        "2f04f0020f4d4e578da7f6fbd22ba952": {
          "model_module": "@jupyter-widgets/controls",
          "model_module_version": "1.5.0",
          "model_name": "FloatProgressModel",
          "state": {
            "_dom_classes": [],
            "_model_module": "@jupyter-widgets/controls",
            "_model_module_version": "1.5.0",
            "_model_name": "FloatProgressModel",
            "_view_count": null,
            "_view_module": "@jupyter-widgets/controls",
            "_view_module_version": "1.5.0",
            "_view_name": "ProgressView",
            "bar_style": "success",
            "description": "",
            "description_tooltip": null,
            "layout": "IPY_MODEL_0e9cef98648d4c249323bab4b501ad83",
            "max": 29515,
            "min": 0,
            "orientation": "horizontal",
            "style": "IPY_MODEL_99434dfdfe364866be195ffe2e3e5e57",
            "value": 29515
          }
        },
        "3052d92a83c546d3b00c9e44b0262f4b": {
          "model_module": "@jupyter-widgets/controls",
          "model_module_version": "1.5.0",
          "model_name": "HTMLModel",
          "state": {
            "_dom_classes": [],
            "_model_module": "@jupyter-widgets/controls",
            "_model_module_version": "1.5.0",
            "_model_name": "HTMLModel",
            "_view_count": null,
            "_view_module": "@jupyter-widgets/controls",
            "_view_module_version": "1.5.0",
            "_view_name": "HTMLView",
            "description": "",
            "description_tooltip": null,
            "layout": "IPY_MODEL_be78e843689548459a64acac889c1dfb",
            "placeholder": "​",
            "style": "IPY_MODEL_5892e17e54e440c29fd10ba958a06d01",
            "value": " 3.13k/3.13k [00:00&lt;00:00, 237kB/s]"
          }
        },
        "314054584c7746808d0fbd4e4c8f526a": {
          "model_module": "@jupyter-widgets/base",
          "model_module_version": "1.2.0",
          "model_name": "LayoutModel",
          "state": {
            "_model_module": "@jupyter-widgets/base",
            "_model_module_version": "1.2.0",
            "_model_name": "LayoutModel",
            "_view_count": null,
            "_view_module": "@jupyter-widgets/base",
            "_view_module_version": "1.2.0",
            "_view_name": "LayoutView",
            "align_content": null,
            "align_items": null,
            "align_self": null,
            "border": null,
            "bottom": null,
            "display": null,
            "flex": null,
            "flex_flow": null,
            "grid_area": null,
            "grid_auto_columns": null,
            "grid_auto_flow": null,
            "grid_auto_rows": null,
            "grid_column": null,
            "grid_gap": null,
            "grid_row": null,
            "grid_template_areas": null,
            "grid_template_columns": null,
            "grid_template_rows": null,
            "height": null,
            "justify_content": null,
            "justify_items": null,
            "left": null,
            "margin": null,
            "max_height": null,
            "max_width": null,
            "min_height": null,
            "min_width": null,
            "object_fit": null,
            "object_position": null,
            "order": null,
            "overflow": null,
            "overflow_x": null,
            "overflow_y": null,
            "padding": null,
            "right": null,
            "top": null,
            "visibility": null,
            "width": null
          }
        },
        "3196ae6a31a047dcb70a61d5bf8f44d3": {
          "model_module": "@jupyter-widgets/controls",
          "model_module_version": "1.5.0",
          "model_name": "HTMLModel",
          "state": {
            "_dom_classes": [],
            "_model_module": "@jupyter-widgets/controls",
            "_model_module_version": "1.5.0",
            "_model_name": "HTMLModel",
            "_view_count": null,
            "_view_module": "@jupyter-widgets/controls",
            "_view_module_version": "1.5.0",
            "_view_name": "HTMLView",
            "description": "",
            "description_tooltip": null,
            "layout": "IPY_MODEL_fed5864f19ee47b5bb7b6eb0a727a01f",
            "placeholder": "​",
            "style": "IPY_MODEL_22ecd007b9ef4acba362e54f34493edb",
            "value": "Downloading metadata: 100%"
          }
        },
        "3446707472a24c19ae85021340a04d15": {
          "model_module": "@jupyter-widgets/controls",
          "model_module_version": "1.5.0",
          "model_name": "FloatProgressModel",
          "state": {
            "_dom_classes": [],
            "_model_module": "@jupyter-widgets/controls",
            "_model_module_version": "1.5.0",
            "_model_name": "FloatProgressModel",
            "_view_count": null,
            "_view_module": "@jupyter-widgets/controls",
            "_view_module_version": "1.5.0",
            "_view_name": "ProgressView",
            "bar_style": "success",
            "description": "",
            "description_tooltip": null,
            "layout": "IPY_MODEL_23997832ca684ab0be0b66c72e2e5662",
            "max": 4,
            "min": 0,
            "orientation": "horizontal",
            "style": "IPY_MODEL_ba8d62ad0ec242c2a57cfccdddf7030a",
            "value": 4
          }
        },
        "37f2e818745046b09e2c03892827bbcf": {
          "model_module": "@jupyter-widgets/controls",
          "model_module_version": "1.5.0",
          "model_name": "HTMLModel",
          "state": {
            "_dom_classes": [],
            "_model_module": "@jupyter-widgets/controls",
            "_model_module_version": "1.5.0",
            "_model_name": "HTMLModel",
            "_view_count": null,
            "_view_module": "@jupyter-widgets/controls",
            "_view_module_version": "1.5.0",
            "_view_name": "HTMLView",
            "description": "",
            "description_tooltip": null,
            "layout": "IPY_MODEL_94c1f3ecdace465db4465b2d1f4fcc84",
            "placeholder": "​",
            "style": "IPY_MODEL_af912d90f1c94cf3a169653f96987336",
            "value": " 5.15k/5.15k [00:00&lt;00:00, 53.2kB/s]"
          }
        },
        "39e4abe2266d40e0b10e4badd6b1b321": {
          "model_module": "@jupyter-widgets/controls",
          "model_module_version": "1.5.0",
          "model_name": "FloatProgressModel",
          "state": {
            "_dom_classes": [],
            "_model_module": "@jupyter-widgets/controls",
            "_model_module_version": "1.5.0",
            "_model_name": "FloatProgressModel",
            "_view_count": null,
            "_view_module": "@jupyter-widgets/controls",
            "_view_module_version": "1.5.0",
            "_view_name": "ProgressView",
            "bar_style": "",
            "description": "",
            "description_tooltip": null,
            "layout": "IPY_MODEL_b6bf3de0f14e48ff9d46f514699788a7",
            "max": 10000,
            "min": 0,
            "orientation": "horizontal",
            "style": "IPY_MODEL_29a22e1bd4b94ba19b3b0435ab85496a",
            "value": 10000
          }
        },
        "421f74c0a8b5418bbb3ef5e9778a8f0e": {
          "model_module": "@jupyter-widgets/controls",
          "model_module_version": "1.5.0",
          "model_name": "DescriptionStyleModel",
          "state": {
            "_model_module": "@jupyter-widgets/controls",
            "_model_module_version": "1.5.0",
            "_model_name": "DescriptionStyleModel",
            "_view_count": null,
            "_view_module": "@jupyter-widgets/base",
            "_view_module_version": "1.2.0",
            "_view_name": "StyleView",
            "description_width": ""
          }
        },
        "42c654106b104af7bad95828ac054fe9": {
          "model_module": "@jupyter-widgets/controls",
          "model_module_version": "1.5.0",
          "model_name": "ProgressStyleModel",
          "state": {
            "_model_module": "@jupyter-widgets/controls",
            "_model_module_version": "1.5.0",
            "_model_name": "ProgressStyleModel",
            "_view_count": null,
            "_view_module": "@jupyter-widgets/base",
            "_view_module_version": "1.2.0",
            "_view_name": "StyleView",
            "bar_color": null,
            "description_width": ""
          }
        },
        "468e328822144a13b6d025e839527c9d": {
          "model_module": "@jupyter-widgets/base",
          "model_module_version": "1.2.0",
          "model_name": "LayoutModel",
          "state": {
            "_model_module": "@jupyter-widgets/base",
            "_model_module_version": "1.2.0",
            "_model_name": "LayoutModel",
            "_view_count": null,
            "_view_module": "@jupyter-widgets/base",
            "_view_module_version": "1.2.0",
            "_view_name": "LayoutView",
            "align_content": null,
            "align_items": null,
            "align_self": null,
            "border": null,
            "bottom": null,
            "display": null,
            "flex": null,
            "flex_flow": null,
            "grid_area": null,
            "grid_auto_columns": null,
            "grid_auto_flow": null,
            "grid_auto_rows": null,
            "grid_column": null,
            "grid_gap": null,
            "grid_row": null,
            "grid_template_areas": null,
            "grid_template_columns": null,
            "grid_template_rows": null,
            "height": null,
            "justify_content": null,
            "justify_items": null,
            "left": null,
            "margin": null,
            "max_height": null,
            "max_width": null,
            "min_height": null,
            "min_width": null,
            "object_fit": null,
            "object_position": null,
            "order": null,
            "overflow": null,
            "overflow_x": null,
            "overflow_y": null,
            "padding": null,
            "right": null,
            "top": null,
            "visibility": null,
            "width": null
          }
        },
        "4797b9ee0a994ca7ac08e765f9e82408": {
          "model_module": "@jupyter-widgets/controls",
          "model_module_version": "1.5.0",
          "model_name": "FloatProgressModel",
          "state": {
            "_dom_classes": [],
            "_model_module": "@jupyter-widgets/controls",
            "_model_module_version": "1.5.0",
            "_model_name": "FloatProgressModel",
            "_view_count": null,
            "_view_module": "@jupyter-widgets/controls",
            "_view_module_version": "1.5.0",
            "_view_name": "ProgressView",
            "bar_style": "success",
            "description": "",
            "description_tooltip": null,
            "layout": "IPY_MODEL_c773eead4b9542f6ae249b6692e0890d",
            "max": 4833,
            "min": 0,
            "orientation": "horizontal",
            "style": "IPY_MODEL_5bc4dbdc2ca24600992406ab47e6c0b3",
            "value": 4833
          }
        },
        "47d0b01a60d043ccb9450f0550ea7dad": {
          "model_module": "@jupyter-widgets/controls",
          "model_module_version": "1.5.0",
          "model_name": "HTMLModel",
          "state": {
            "_dom_classes": [],
            "_model_module": "@jupyter-widgets/controls",
            "_model_module_version": "1.5.0",
            "_model_name": "HTMLModel",
            "_view_count": null,
            "_view_module": "@jupyter-widgets/controls",
            "_view_module_version": "1.5.0",
            "_view_name": "HTMLView",
            "description": "",
            "description_tooltip": null,
            "layout": "IPY_MODEL_93519587cc954ba3ab10107b7ac30d49",
            "placeholder": "​",
            "style": "IPY_MODEL_dd32dfcf38394c17b8e9714281a2755e",
            "value": " 8.85k/8.85k [00:00&lt;00:00, 489kB/s]"
          }
        },
        "497bfdaba4fd4d9e934b24d4c88a0664": {
          "model_module": "@jupyter-widgets/base",
          "model_module_version": "1.2.0",
          "model_name": "LayoutModel",
          "state": {
            "_model_module": "@jupyter-widgets/base",
            "_model_module_version": "1.2.0",
            "_model_name": "LayoutModel",
            "_view_count": null,
            "_view_module": "@jupyter-widgets/base",
            "_view_module_version": "1.2.0",
            "_view_name": "LayoutView",
            "align_content": null,
            "align_items": null,
            "align_self": null,
            "border": null,
            "bottom": null,
            "display": null,
            "flex": null,
            "flex_flow": null,
            "grid_area": null,
            "grid_auto_columns": null,
            "grid_auto_flow": null,
            "grid_auto_rows": null,
            "grid_column": null,
            "grid_gap": null,
            "grid_row": null,
            "grid_template_areas": null,
            "grid_template_columns": null,
            "grid_template_rows": null,
            "height": null,
            "justify_content": null,
            "justify_items": null,
            "left": null,
            "margin": null,
            "max_height": null,
            "max_width": null,
            "min_height": null,
            "min_width": null,
            "object_fit": null,
            "object_position": null,
            "order": null,
            "overflow": null,
            "overflow_x": null,
            "overflow_y": null,
            "padding": null,
            "right": null,
            "top": null,
            "visibility": null,
            "width": null
          }
        },
        "4b74cd2dd6034b748f543ec785582fff": {
          "model_module": "@jupyter-widgets/controls",
          "model_module_version": "1.5.0",
          "model_name": "DescriptionStyleModel",
          "state": {
            "_model_module": "@jupyter-widgets/controls",
            "_model_module_version": "1.5.0",
            "_model_name": "DescriptionStyleModel",
            "_view_count": null,
            "_view_module": "@jupyter-widgets/base",
            "_view_module_version": "1.2.0",
            "_view_name": "StyleView",
            "description_width": ""
          }
        },
        "4ca5e4e1b48d4d91b2e41fe019783fa4": {
          "model_module": "@jupyter-widgets/base",
          "model_module_version": "1.2.0",
          "model_name": "LayoutModel",
          "state": {
            "_model_module": "@jupyter-widgets/base",
            "_model_module_version": "1.2.0",
            "_model_name": "LayoutModel",
            "_view_count": null,
            "_view_module": "@jupyter-widgets/base",
            "_view_module_version": "1.2.0",
            "_view_name": "LayoutView",
            "align_content": null,
            "align_items": null,
            "align_self": null,
            "border": null,
            "bottom": null,
            "display": null,
            "flex": null,
            "flex_flow": null,
            "grid_area": null,
            "grid_auto_columns": null,
            "grid_auto_flow": null,
            "grid_auto_rows": null,
            "grid_column": null,
            "grid_gap": null,
            "grid_row": null,
            "grid_template_areas": null,
            "grid_template_columns": null,
            "grid_template_rows": null,
            "height": null,
            "justify_content": null,
            "justify_items": null,
            "left": null,
            "margin": null,
            "max_height": null,
            "max_width": null,
            "min_height": null,
            "min_width": null,
            "object_fit": null,
            "object_position": null,
            "order": null,
            "overflow": null,
            "overflow_x": null,
            "overflow_y": null,
            "padding": null,
            "right": null,
            "top": null,
            "visibility": null,
            "width": null
          }
        },
        "4dd4f0fe83054406b53585ee8c51cd20": {
          "model_module": "@jupyter-widgets/base",
          "model_module_version": "1.2.0",
          "model_name": "LayoutModel",
          "state": {
            "_model_module": "@jupyter-widgets/base",
            "_model_module_version": "1.2.0",
            "_model_name": "LayoutModel",
            "_view_count": null,
            "_view_module": "@jupyter-widgets/base",
            "_view_module_version": "1.2.0",
            "_view_name": "LayoutView",
            "align_content": null,
            "align_items": null,
            "align_self": null,
            "border": null,
            "bottom": null,
            "display": null,
            "flex": null,
            "flex_flow": null,
            "grid_area": null,
            "grid_auto_columns": null,
            "grid_auto_flow": null,
            "grid_auto_rows": null,
            "grid_column": null,
            "grid_gap": null,
            "grid_row": null,
            "grid_template_areas": null,
            "grid_template_columns": null,
            "grid_template_rows": null,
            "height": null,
            "justify_content": null,
            "justify_items": null,
            "left": null,
            "margin": null,
            "max_height": null,
            "max_width": null,
            "min_height": null,
            "min_width": null,
            "object_fit": null,
            "object_position": null,
            "order": null,
            "overflow": null,
            "overflow_x": null,
            "overflow_y": null,
            "padding": null,
            "right": null,
            "top": null,
            "visibility": null,
            "width": null
          }
        },
        "50894e7798ed4761a55aa1e78842c4d7": {
          "model_module": "@jupyter-widgets/controls",
          "model_module_version": "1.5.0",
          "model_name": "HBoxModel",
          "state": {
            "_dom_classes": [],
            "_model_module": "@jupyter-widgets/controls",
            "_model_module_version": "1.5.0",
            "_model_name": "HBoxModel",
            "_view_count": null,
            "_view_module": "@jupyter-widgets/controls",
            "_view_module_version": "1.5.0",
            "_view_name": "HBoxView",
            "box_style": "",
            "children": [
              "IPY_MODEL_69fc9fb986914d8c81328f212433d7e4",
              "IPY_MODEL_b2511b9f042548a0b15ed09bfb649fa4",
              "IPY_MODEL_37f2e818745046b09e2c03892827bbcf"
            ],
            "layout": "IPY_MODEL_e2a67688dac344dda97f4720f11e6767"
          }
        },
        "508cdd003b8b40d7ad3c009d95134723": {
          "model_module": "@jupyter-widgets/base",
          "model_module_version": "1.2.0",
          "model_name": "LayoutModel",
          "state": {
            "_model_module": "@jupyter-widgets/base",
            "_model_module_version": "1.2.0",
            "_model_name": "LayoutModel",
            "_view_count": null,
            "_view_module": "@jupyter-widgets/base",
            "_view_module_version": "1.2.0",
            "_view_name": "LayoutView",
            "align_content": null,
            "align_items": null,
            "align_self": null,
            "border": null,
            "bottom": null,
            "display": null,
            "flex": null,
            "flex_flow": null,
            "grid_area": null,
            "grid_auto_columns": null,
            "grid_auto_flow": null,
            "grid_auto_rows": null,
            "grid_column": null,
            "grid_gap": null,
            "grid_row": null,
            "grid_template_areas": null,
            "grid_template_columns": null,
            "grid_template_rows": null,
            "height": null,
            "justify_content": null,
            "justify_items": null,
            "left": null,
            "margin": null,
            "max_height": null,
            "max_width": null,
            "min_height": null,
            "min_width": null,
            "object_fit": null,
            "object_position": null,
            "order": null,
            "overflow": null,
            "overflow_x": null,
            "overflow_y": null,
            "padding": null,
            "right": null,
            "top": null,
            "visibility": "hidden",
            "width": null
          }
        },
        "519d7e46c47646e0a1c4dfa79756d609": {
          "model_module": "@jupyter-widgets/controls",
          "model_module_version": "1.5.0",
          "model_name": "DescriptionStyleModel",
          "state": {
            "_model_module": "@jupyter-widgets/controls",
            "_model_module_version": "1.5.0",
            "_model_name": "DescriptionStyleModel",
            "_view_count": null,
            "_view_module": "@jupyter-widgets/base",
            "_view_module_version": "1.2.0",
            "_view_name": "StyleView",
            "description_width": ""
          }
        },
        "5210bc85164a415cb19149b2abc78017": {
          "model_module": "@jupyter-widgets/controls",
          "model_module_version": "1.5.0",
          "model_name": "HTMLModel",
          "state": {
            "_dom_classes": [],
            "_model_module": "@jupyter-widgets/controls",
            "_model_module_version": "1.5.0",
            "_model_name": "HTMLModel",
            "_view_count": null,
            "_view_module": "@jupyter-widgets/controls",
            "_view_module_version": "1.5.0",
            "_view_name": "HTMLView",
            "description": "",
            "description_tooltip": null,
            "layout": "IPY_MODEL_5912611a27aa4c7891aeee7c2330ad1f",
            "placeholder": "​",
            "style": "IPY_MODEL_bbf271996ad14b7fac8ae64ee06240bb",
            "value": "Extracting data files: 100%"
          }
        },
        "566aae19efea4614989adeef9f1e0246": {
          "model_module": "@jupyter-widgets/base",
          "model_module_version": "1.2.0",
          "model_name": "LayoutModel",
          "state": {
            "_model_module": "@jupyter-widgets/base",
            "_model_module_version": "1.2.0",
            "_model_name": "LayoutModel",
            "_view_count": null,
            "_view_module": "@jupyter-widgets/base",
            "_view_module_version": "1.2.0",
            "_view_name": "LayoutView",
            "align_content": null,
            "align_items": null,
            "align_self": null,
            "border": null,
            "bottom": null,
            "display": null,
            "flex": null,
            "flex_flow": null,
            "grid_area": null,
            "grid_auto_columns": null,
            "grid_auto_flow": null,
            "grid_auto_rows": null,
            "grid_column": null,
            "grid_gap": null,
            "grid_row": null,
            "grid_template_areas": null,
            "grid_template_columns": null,
            "grid_template_rows": null,
            "height": null,
            "justify_content": null,
            "justify_items": null,
            "left": null,
            "margin": null,
            "max_height": null,
            "max_width": null,
            "min_height": null,
            "min_width": null,
            "object_fit": null,
            "object_position": null,
            "order": null,
            "overflow": null,
            "overflow_x": null,
            "overflow_y": null,
            "padding": null,
            "right": null,
            "top": null,
            "visibility": null,
            "width": null
          }
        },
        "58517cfcef124efc959abec7843e530f": {
          "model_module": "@jupyter-widgets/controls",
          "model_module_version": "1.5.0",
          "model_name": "ProgressStyleModel",
          "state": {
            "_model_module": "@jupyter-widgets/controls",
            "_model_module_version": "1.5.0",
            "_model_name": "ProgressStyleModel",
            "_view_count": null,
            "_view_module": "@jupyter-widgets/base",
            "_view_module_version": "1.2.0",
            "_view_name": "StyleView",
            "bar_color": null,
            "description_width": ""
          }
        },
        "5880eb8e1ccb44ec8eb4e2e1b919dd30": {
          "model_module": "@jupyter-widgets/controls",
          "model_module_version": "1.5.0",
          "model_name": "FloatProgressModel",
          "state": {
            "_dom_classes": [],
            "_model_module": "@jupyter-widgets/controls",
            "_model_module_version": "1.5.0",
            "_model_name": "FloatProgressModel",
            "_view_count": null,
            "_view_module": "@jupyter-widgets/controls",
            "_view_module_version": "1.5.0",
            "_view_name": "ProgressView",
            "bar_style": "",
            "description": "",
            "description_tooltip": null,
            "layout": "IPY_MODEL_314054584c7746808d0fbd4e4c8f526a",
            "max": 60000,
            "min": 0,
            "orientation": "horizontal",
            "style": "IPY_MODEL_58517cfcef124efc959abec7843e530f",
            "value": 60000
          }
        },
        "5892e17e54e440c29fd10ba958a06d01": {
          "model_module": "@jupyter-widgets/controls",
          "model_module_version": "1.5.0",
          "model_name": "DescriptionStyleModel",
          "state": {
            "_model_module": "@jupyter-widgets/controls",
            "_model_module_version": "1.5.0",
            "_model_name": "DescriptionStyleModel",
            "_view_count": null,
            "_view_module": "@jupyter-widgets/base",
            "_view_module_version": "1.2.0",
            "_view_name": "StyleView",
            "description_width": ""
          }
        },
        "5912611a27aa4c7891aeee7c2330ad1f": {
          "model_module": "@jupyter-widgets/base",
          "model_module_version": "1.2.0",
          "model_name": "LayoutModel",
          "state": {
            "_model_module": "@jupyter-widgets/base",
            "_model_module_version": "1.2.0",
            "_model_name": "LayoutModel",
            "_view_count": null,
            "_view_module": "@jupyter-widgets/base",
            "_view_module_version": "1.2.0",
            "_view_name": "LayoutView",
            "align_content": null,
            "align_items": null,
            "align_self": null,
            "border": null,
            "bottom": null,
            "display": null,
            "flex": null,
            "flex_flow": null,
            "grid_area": null,
            "grid_auto_columns": null,
            "grid_auto_flow": null,
            "grid_auto_rows": null,
            "grid_column": null,
            "grid_gap": null,
            "grid_row": null,
            "grid_template_areas": null,
            "grid_template_columns": null,
            "grid_template_rows": null,
            "height": null,
            "justify_content": null,
            "justify_items": null,
            "left": null,
            "margin": null,
            "max_height": null,
            "max_width": null,
            "min_height": null,
            "min_width": null,
            "object_fit": null,
            "object_position": null,
            "order": null,
            "overflow": null,
            "overflow_x": null,
            "overflow_y": null,
            "padding": null,
            "right": null,
            "top": null,
            "visibility": null,
            "width": null
          }
        },
        "5ac24f8d386b414ba2a9b944a0334549": {
          "model_module": "@jupyter-widgets/controls",
          "model_module_version": "1.5.0",
          "model_name": "HTMLModel",
          "state": {
            "_dom_classes": [],
            "_model_module": "@jupyter-widgets/controls",
            "_model_module_version": "1.5.0",
            "_model_name": "HTMLModel",
            "_view_count": null,
            "_view_module": "@jupyter-widgets/controls",
            "_view_module_version": "1.5.0",
            "_view_name": "HTMLView",
            "description": "",
            "description_tooltip": null,
            "layout": "IPY_MODEL_97fd535b926b414cbff6135cf21f8b68",
            "placeholder": "​",
            "style": "IPY_MODEL_421f74c0a8b5418bbb3ef5e9778a8f0e",
            "value": "Downloading data: 100%"
          }
        },
        "5af9dcec818d45c188a3cba204852cf5": {
          "model_module": "@jupyter-widgets/controls",
          "model_module_version": "1.5.0",
          "model_name": "HBoxModel",
          "state": {
            "_dom_classes": [],
            "_model_module": "@jupyter-widgets/controls",
            "_model_module_version": "1.5.0",
            "_model_name": "HBoxModel",
            "_view_count": null,
            "_view_module": "@jupyter-widgets/controls",
            "_view_module_version": "1.5.0",
            "_view_name": "HBoxView",
            "box_style": "",
            "children": [
              "IPY_MODEL_3196ae6a31a047dcb70a61d5bf8f44d3",
              "IPY_MODEL_6f97c6a4b52141d38995f6afce69ecbd",
              "IPY_MODEL_3052d92a83c546d3b00c9e44b0262f4b"
            ],
            "layout": "IPY_MODEL_7a1b45f4f444428da760e5d542cea8f0"
          }
        },
        "5bc4dbdc2ca24600992406ab47e6c0b3": {
          "model_module": "@jupyter-widgets/controls",
          "model_module_version": "1.5.0",
          "model_name": "ProgressStyleModel",
          "state": {
            "_model_module": "@jupyter-widgets/controls",
            "_model_module_version": "1.5.0",
            "_model_name": "ProgressStyleModel",
            "_view_count": null,
            "_view_module": "@jupyter-widgets/base",
            "_view_module_version": "1.2.0",
            "_view_name": "StyleView",
            "bar_color": null,
            "description_width": ""
          }
        },
        "5fdec5b91c984abcad5dd343c7b069a6": {
          "model_module": "@jupyter-widgets/base",
          "model_module_version": "1.2.0",
          "model_name": "LayoutModel",
          "state": {
            "_model_module": "@jupyter-widgets/base",
            "_model_module_version": "1.2.0",
            "_model_name": "LayoutModel",
            "_view_count": null,
            "_view_module": "@jupyter-widgets/base",
            "_view_module_version": "1.2.0",
            "_view_name": "LayoutView",
            "align_content": null,
            "align_items": null,
            "align_self": null,
            "border": null,
            "bottom": null,
            "display": null,
            "flex": null,
            "flex_flow": null,
            "grid_area": null,
            "grid_auto_columns": null,
            "grid_auto_flow": null,
            "grid_auto_rows": null,
            "grid_column": null,
            "grid_gap": null,
            "grid_row": null,
            "grid_template_areas": null,
            "grid_template_columns": null,
            "grid_template_rows": null,
            "height": null,
            "justify_content": null,
            "justify_items": null,
            "left": null,
            "margin": null,
            "max_height": null,
            "max_width": null,
            "min_height": null,
            "min_width": null,
            "object_fit": null,
            "object_position": null,
            "order": null,
            "overflow": null,
            "overflow_x": null,
            "overflow_y": null,
            "padding": null,
            "right": null,
            "top": null,
            "visibility": null,
            "width": null
          }
        },
        "600c154b36524b06b1cf6ccd71e1555d": {
          "model_module": "@jupyter-widgets/base",
          "model_module_version": "1.2.0",
          "model_name": "LayoutModel",
          "state": {
            "_model_module": "@jupyter-widgets/base",
            "_model_module_version": "1.2.0",
            "_model_name": "LayoutModel",
            "_view_count": null,
            "_view_module": "@jupyter-widgets/base",
            "_view_module_version": "1.2.0",
            "_view_name": "LayoutView",
            "align_content": null,
            "align_items": null,
            "align_self": null,
            "border": null,
            "bottom": null,
            "display": null,
            "flex": null,
            "flex_flow": null,
            "grid_area": null,
            "grid_auto_columns": null,
            "grid_auto_flow": null,
            "grid_auto_rows": null,
            "grid_column": null,
            "grid_gap": null,
            "grid_row": null,
            "grid_template_areas": null,
            "grid_template_columns": null,
            "grid_template_rows": null,
            "height": null,
            "justify_content": null,
            "justify_items": null,
            "left": null,
            "margin": null,
            "max_height": null,
            "max_width": null,
            "min_height": null,
            "min_width": null,
            "object_fit": null,
            "object_position": null,
            "order": null,
            "overflow": null,
            "overflow_x": null,
            "overflow_y": null,
            "padding": null,
            "right": null,
            "top": null,
            "visibility": null,
            "width": null
          }
        },
        "62f2cd6c2f644601af82ad2eab6900d7": {
          "model_module": "@jupyter-widgets/controls",
          "model_module_version": "1.5.0",
          "model_name": "ProgressStyleModel",
          "state": {
            "_model_module": "@jupyter-widgets/controls",
            "_model_module_version": "1.5.0",
            "_model_name": "ProgressStyleModel",
            "_view_count": null,
            "_view_module": "@jupyter-widgets/base",
            "_view_module_version": "1.2.0",
            "_view_name": "StyleView",
            "bar_color": null,
            "description_width": ""
          }
        },
        "69fc9fb986914d8c81328f212433d7e4": {
          "model_module": "@jupyter-widgets/controls",
          "model_module_version": "1.5.0",
          "model_name": "HTMLModel",
          "state": {
            "_dom_classes": [],
            "_model_module": "@jupyter-widgets/controls",
            "_model_module_version": "1.5.0",
            "_model_name": "HTMLModel",
            "_view_count": null,
            "_view_module": "@jupyter-widgets/controls",
            "_view_module_version": "1.5.0",
            "_view_name": "HTMLView",
            "description": "",
            "description_tooltip": null,
            "layout": "IPY_MODEL_bd7c1bd4aef548d3b36d3edfd8ff666a",
            "placeholder": "​",
            "style": "IPY_MODEL_efe24cfb79fd4d78808c4c880b1699c1",
            "value": "Downloading data: 100%"
          }
        },
        "6b89fa740bd14b3bbbfecd7493572498": {
          "model_module": "@jupyter-widgets/controls",
          "model_module_version": "1.5.0",
          "model_name": "HBoxModel",
          "state": {
            "_dom_classes": [],
            "_model_module": "@jupyter-widgets/controls",
            "_model_module_version": "1.5.0",
            "_model_name": "HBoxModel",
            "_view_count": null,
            "_view_module": "@jupyter-widgets/controls",
            "_view_module_version": "1.5.0",
            "_view_name": "HBoxView",
            "box_style": "",
            "children": [
              "IPY_MODEL_5210bc85164a415cb19149b2abc78017",
              "IPY_MODEL_9097d1a30ab6430fb0d26e92f8e22bbe",
              "IPY_MODEL_90ca0b0be7724ac7b02355231e8e4d98"
            ],
            "layout": "IPY_MODEL_81f01edebb794b02b0778b0d2b3e66c1"
          }
        },
        "6d18972f662244229b846a2f7cc1d41b": {
          "model_module": "@jupyter-widgets/controls",
          "model_module_version": "1.5.0",
          "model_name": "HTMLModel",
          "state": {
            "_dom_classes": [],
            "_model_module": "@jupyter-widgets/controls",
            "_model_module_version": "1.5.0",
            "_model_name": "HTMLModel",
            "_view_count": null,
            "_view_module": "@jupyter-widgets/controls",
            "_view_module_version": "1.5.0",
            "_view_name": "HTMLView",
            "description": "",
            "description_tooltip": null,
            "layout": "IPY_MODEL_28df30199ab64390b247498c6788a2e6",
            "placeholder": "​",
            "style": "IPY_MODEL_b0396fc30a4f402b851a56514629a922",
            "value": "Downloading builder script: 100%"
          }
        },
        "6d6510f87ba348e4bb80fdb3ca13f5ce": {
          "model_module": "@jupyter-widgets/base",
          "model_module_version": "1.2.0",
          "model_name": "LayoutModel",
          "state": {
            "_model_module": "@jupyter-widgets/base",
            "_model_module_version": "1.2.0",
            "_model_name": "LayoutModel",
            "_view_count": null,
            "_view_module": "@jupyter-widgets/base",
            "_view_module_version": "1.2.0",
            "_view_name": "LayoutView",
            "align_content": null,
            "align_items": null,
            "align_self": null,
            "border": null,
            "bottom": null,
            "display": null,
            "flex": null,
            "flex_flow": null,
            "grid_area": null,
            "grid_auto_columns": null,
            "grid_auto_flow": null,
            "grid_auto_rows": null,
            "grid_column": null,
            "grid_gap": null,
            "grid_row": null,
            "grid_template_areas": null,
            "grid_template_columns": null,
            "grid_template_rows": null,
            "height": null,
            "justify_content": null,
            "justify_items": null,
            "left": null,
            "margin": null,
            "max_height": null,
            "max_width": null,
            "min_height": null,
            "min_width": null,
            "object_fit": null,
            "object_position": null,
            "order": null,
            "overflow": null,
            "overflow_x": null,
            "overflow_y": null,
            "padding": null,
            "right": null,
            "top": null,
            "visibility": null,
            "width": null
          }
        },
        "6f97c6a4b52141d38995f6afce69ecbd": {
          "model_module": "@jupyter-widgets/controls",
          "model_module_version": "1.5.0",
          "model_name": "FloatProgressModel",
          "state": {
            "_dom_classes": [],
            "_model_module": "@jupyter-widgets/controls",
            "_model_module_version": "1.5.0",
            "_model_name": "FloatProgressModel",
            "_view_count": null,
            "_view_module": "@jupyter-widgets/controls",
            "_view_module_version": "1.5.0",
            "_view_name": "ProgressView",
            "bar_style": "success",
            "description": "",
            "description_tooltip": null,
            "layout": "IPY_MODEL_23f7cd0a39cc4cee985d6dbc01af0117",
            "max": 3126,
            "min": 0,
            "orientation": "horizontal",
            "style": "IPY_MODEL_62f2cd6c2f644601af82ad2eab6900d7",
            "value": 3126
          }
        },
        "74073953946845f7ba9279dd16e96864": {
          "model_module": "@jupyter-widgets/controls",
          "model_module_version": "1.5.0",
          "model_name": "DescriptionStyleModel",
          "state": {
            "_model_module": "@jupyter-widgets/controls",
            "_model_module_version": "1.5.0",
            "_model_name": "DescriptionStyleModel",
            "_view_count": null,
            "_view_module": "@jupyter-widgets/base",
            "_view_module_version": "1.2.0",
            "_view_name": "StyleView",
            "description_width": ""
          }
        },
        "774634f2d69149cfa3c30272bb4eba7d": {
          "model_module": "@jupyter-widgets/controls",
          "model_module_version": "1.5.0",
          "model_name": "ProgressStyleModel",
          "state": {
            "_model_module": "@jupyter-widgets/controls",
            "_model_module_version": "1.5.0",
            "_model_name": "ProgressStyleModel",
            "_view_count": null,
            "_view_module": "@jupyter-widgets/base",
            "_view_module_version": "1.2.0",
            "_view_name": "StyleView",
            "bar_color": null,
            "description_width": ""
          }
        },
        "77a78245cb584d4dac07f5ede5a56bfc": {
          "model_module": "@jupyter-widgets/controls",
          "model_module_version": "1.5.0",
          "model_name": "HBoxModel",
          "state": {
            "_dom_classes": [],
            "_model_module": "@jupyter-widgets/controls",
            "_model_module_version": "1.5.0",
            "_model_name": "HBoxModel",
            "_view_count": null,
            "_view_module": "@jupyter-widgets/controls",
            "_view_module_version": "1.5.0",
            "_view_name": "HBoxView",
            "box_style": "",
            "children": [
              "IPY_MODEL_6d18972f662244229b846a2f7cc1d41b",
              "IPY_MODEL_4797b9ee0a994ca7ac08e765f9e82408",
              "IPY_MODEL_122137f0c8c24f8c9d91b798312335ec"
            ],
            "layout": "IPY_MODEL_faf8041a3d934488b0f7f162ab65e087"
          }
        },
        "78889126d07f4c4baea69223f5f96cd1": {
          "model_module": "@jupyter-widgets/base",
          "model_module_version": "1.2.0",
          "model_name": "LayoutModel",
          "state": {
            "_model_module": "@jupyter-widgets/base",
            "_model_module_version": "1.2.0",
            "_model_name": "LayoutModel",
            "_view_count": null,
            "_view_module": "@jupyter-widgets/base",
            "_view_module_version": "1.2.0",
            "_view_name": "LayoutView",
            "align_content": null,
            "align_items": null,
            "align_self": null,
            "border": null,
            "bottom": null,
            "display": null,
            "flex": null,
            "flex_flow": null,
            "grid_area": null,
            "grid_auto_columns": null,
            "grid_auto_flow": null,
            "grid_auto_rows": null,
            "grid_column": null,
            "grid_gap": null,
            "grid_row": null,
            "grid_template_areas": null,
            "grid_template_columns": null,
            "grid_template_rows": null,
            "height": null,
            "justify_content": null,
            "justify_items": null,
            "left": null,
            "margin": null,
            "max_height": null,
            "max_width": null,
            "min_height": null,
            "min_width": null,
            "object_fit": null,
            "object_position": null,
            "order": null,
            "overflow": null,
            "overflow_x": null,
            "overflow_y": null,
            "padding": null,
            "right": null,
            "top": null,
            "visibility": null,
            "width": null
          }
        },
        "7a1b45f4f444428da760e5d542cea8f0": {
          "model_module": "@jupyter-widgets/base",
          "model_module_version": "1.2.0",
          "model_name": "LayoutModel",
          "state": {
            "_model_module": "@jupyter-widgets/base",
            "_model_module_version": "1.2.0",
            "_model_name": "LayoutModel",
            "_view_count": null,
            "_view_module": "@jupyter-widgets/base",
            "_view_module_version": "1.2.0",
            "_view_name": "LayoutView",
            "align_content": null,
            "align_items": null,
            "align_self": null,
            "border": null,
            "bottom": null,
            "display": null,
            "flex": null,
            "flex_flow": null,
            "grid_area": null,
            "grid_auto_columns": null,
            "grid_auto_flow": null,
            "grid_auto_rows": null,
            "grid_column": null,
            "grid_gap": null,
            "grid_row": null,
            "grid_template_areas": null,
            "grid_template_columns": null,
            "grid_template_rows": null,
            "height": null,
            "justify_content": null,
            "justify_items": null,
            "left": null,
            "margin": null,
            "max_height": null,
            "max_width": null,
            "min_height": null,
            "min_width": null,
            "object_fit": null,
            "object_position": null,
            "order": null,
            "overflow": null,
            "overflow_x": null,
            "overflow_y": null,
            "padding": null,
            "right": null,
            "top": null,
            "visibility": null,
            "width": null
          }
        },
        "7ac5e79490a944ab96710b20a3ad8d37": {
          "model_module": "@jupyter-widgets/controls",
          "model_module_version": "1.5.0",
          "model_name": "DescriptionStyleModel",
          "state": {
            "_model_module": "@jupyter-widgets/controls",
            "_model_module_version": "1.5.0",
            "_model_name": "DescriptionStyleModel",
            "_view_count": null,
            "_view_module": "@jupyter-widgets/base",
            "_view_module_version": "1.2.0",
            "_view_name": "StyleView",
            "description_width": ""
          }
        },
        "7e16cc70dd7a491ab0d09bce33163900": {
          "model_module": "@jupyter-widgets/base",
          "model_module_version": "1.2.0",
          "model_name": "LayoutModel",
          "state": {
            "_model_module": "@jupyter-widgets/base",
            "_model_module_version": "1.2.0",
            "_model_name": "LayoutModel",
            "_view_count": null,
            "_view_module": "@jupyter-widgets/base",
            "_view_module_version": "1.2.0",
            "_view_name": "LayoutView",
            "align_content": null,
            "align_items": null,
            "align_self": null,
            "border": null,
            "bottom": null,
            "display": null,
            "flex": null,
            "flex_flow": null,
            "grid_area": null,
            "grid_auto_columns": null,
            "grid_auto_flow": null,
            "grid_auto_rows": null,
            "grid_column": null,
            "grid_gap": null,
            "grid_row": null,
            "grid_template_areas": null,
            "grid_template_columns": null,
            "grid_template_rows": null,
            "height": null,
            "justify_content": null,
            "justify_items": null,
            "left": null,
            "margin": null,
            "max_height": null,
            "max_width": null,
            "min_height": null,
            "min_width": null,
            "object_fit": null,
            "object_position": null,
            "order": null,
            "overflow": null,
            "overflow_x": null,
            "overflow_y": null,
            "padding": null,
            "right": null,
            "top": null,
            "visibility": null,
            "width": null
          }
        },
        "7e2a5f0d17b44e3f89e1d8791eaa3043": {
          "model_module": "@jupyter-widgets/controls",
          "model_module_version": "1.5.0",
          "model_name": "HBoxModel",
          "state": {
            "_dom_classes": [],
            "_model_module": "@jupyter-widgets/controls",
            "_model_module_version": "1.5.0",
            "_model_name": "HBoxModel",
            "_view_count": null,
            "_view_module": "@jupyter-widgets/controls",
            "_view_module_version": "1.5.0",
            "_view_name": "HBoxView",
            "box_style": "",
            "children": [
              "IPY_MODEL_5ac24f8d386b414ba2a9b944a0334549",
              "IPY_MODEL_2f04f0020f4d4e578da7f6fbd22ba952",
              "IPY_MODEL_0ccfd11573c74ccaaaefa0938f5398ad"
            ],
            "layout": "IPY_MODEL_cf895e054a774c21a7e2adda9b13e12f"
          }
        },
        "7e7865ae09544d83ba7f944a0f77ffc4": {
          "model_module": "@jupyter-widgets/controls",
          "model_module_version": "1.5.0",
          "model_name": "HTMLModel",
          "state": {
            "_dom_classes": [],
            "_model_module": "@jupyter-widgets/controls",
            "_model_module_version": "1.5.0",
            "_model_name": "HTMLModel",
            "_view_count": null,
            "_view_module": "@jupyter-widgets/controls",
            "_view_module_version": "1.5.0",
            "_view_name": "HTMLView",
            "description": "",
            "description_tooltip": null,
            "layout": "IPY_MODEL_e992051a6851446d913b24ab0eb95da5",
            "placeholder": "​",
            "style": "IPY_MODEL_e9aedb8d91e447d5949330dfb30350f7",
            "value": "Downloading data files: 100%"
          }
        },
        "80fe41488aa7452480bf69e67b4a4860": {
          "model_module": "@jupyter-widgets/base",
          "model_module_version": "1.2.0",
          "model_name": "LayoutModel",
          "state": {
            "_model_module": "@jupyter-widgets/base",
            "_model_module_version": "1.2.0",
            "_model_name": "LayoutModel",
            "_view_count": null,
            "_view_module": "@jupyter-widgets/base",
            "_view_module_version": "1.2.0",
            "_view_name": "LayoutView",
            "align_content": null,
            "align_items": null,
            "align_self": null,
            "border": null,
            "bottom": null,
            "display": null,
            "flex": null,
            "flex_flow": null,
            "grid_area": null,
            "grid_auto_columns": null,
            "grid_auto_flow": null,
            "grid_auto_rows": null,
            "grid_column": null,
            "grid_gap": null,
            "grid_row": null,
            "grid_template_areas": null,
            "grid_template_columns": null,
            "grid_template_rows": null,
            "height": null,
            "justify_content": null,
            "justify_items": null,
            "left": null,
            "margin": null,
            "max_height": null,
            "max_width": null,
            "min_height": null,
            "min_width": null,
            "object_fit": null,
            "object_position": null,
            "order": null,
            "overflow": null,
            "overflow_x": null,
            "overflow_y": null,
            "padding": null,
            "right": null,
            "top": null,
            "visibility": null,
            "width": null
          }
        },
        "81f01edebb794b02b0778b0d2b3e66c1": {
          "model_module": "@jupyter-widgets/base",
          "model_module_version": "1.2.0",
          "model_name": "LayoutModel",
          "state": {
            "_model_module": "@jupyter-widgets/base",
            "_model_module_version": "1.2.0",
            "_model_name": "LayoutModel",
            "_view_count": null,
            "_view_module": "@jupyter-widgets/base",
            "_view_module_version": "1.2.0",
            "_view_name": "LayoutView",
            "align_content": null,
            "align_items": null,
            "align_self": null,
            "border": null,
            "bottom": null,
            "display": null,
            "flex": null,
            "flex_flow": null,
            "grid_area": null,
            "grid_auto_columns": null,
            "grid_auto_flow": null,
            "grid_auto_rows": null,
            "grid_column": null,
            "grid_gap": null,
            "grid_row": null,
            "grid_template_areas": null,
            "grid_template_columns": null,
            "grid_template_rows": null,
            "height": null,
            "justify_content": null,
            "justify_items": null,
            "left": null,
            "margin": null,
            "max_height": null,
            "max_width": null,
            "min_height": null,
            "min_width": null,
            "object_fit": null,
            "object_position": null,
            "order": null,
            "overflow": null,
            "overflow_x": null,
            "overflow_y": null,
            "padding": null,
            "right": null,
            "top": null,
            "visibility": null,
            "width": null
          }
        },
        "84e15841b160443981dcfa0a6ab17d2f": {
          "model_module": "@jupyter-widgets/base",
          "model_module_version": "1.2.0",
          "model_name": "LayoutModel",
          "state": {
            "_model_module": "@jupyter-widgets/base",
            "_model_module_version": "1.2.0",
            "_model_name": "LayoutModel",
            "_view_count": null,
            "_view_module": "@jupyter-widgets/base",
            "_view_module_version": "1.2.0",
            "_view_name": "LayoutView",
            "align_content": null,
            "align_items": null,
            "align_self": null,
            "border": null,
            "bottom": null,
            "display": null,
            "flex": null,
            "flex_flow": null,
            "grid_area": null,
            "grid_auto_columns": null,
            "grid_auto_flow": null,
            "grid_auto_rows": null,
            "grid_column": null,
            "grid_gap": null,
            "grid_row": null,
            "grid_template_areas": null,
            "grid_template_columns": null,
            "grid_template_rows": null,
            "height": null,
            "justify_content": null,
            "justify_items": null,
            "left": null,
            "margin": null,
            "max_height": null,
            "max_width": null,
            "min_height": null,
            "min_width": null,
            "object_fit": null,
            "object_position": null,
            "order": null,
            "overflow": null,
            "overflow_x": null,
            "overflow_y": null,
            "padding": null,
            "right": null,
            "top": null,
            "visibility": null,
            "width": null
          }
        },
        "8987d2eafd75479badc6c395bbf0557e": {
          "model_module": "@jupyter-widgets/controls",
          "model_module_version": "1.5.0",
          "model_name": "HTMLModel",
          "state": {
            "_dom_classes": [],
            "_model_module": "@jupyter-widgets/controls",
            "_model_module_version": "1.5.0",
            "_model_name": "HTMLModel",
            "_view_count": null,
            "_view_module": "@jupyter-widgets/controls",
            "_view_module_version": "1.5.0",
            "_view_name": "HTMLView",
            "description": "",
            "description_tooltip": null,
            "layout": "IPY_MODEL_128770d44caa4e1b9fc5767b1051c975",
            "placeholder": "​",
            "style": "IPY_MODEL_c0334e233472406d88165b2d5aab4c58",
            "value": " 26.4M/26.4M [00:00&lt;00:00, 93.5MB/s]"
          }
        },
        "8b75d73ff7674a209a304037295236e1": {
          "model_module": "@jupyter-widgets/controls",
          "model_module_version": "1.5.0",
          "model_name": "DescriptionStyleModel",
          "state": {
            "_model_module": "@jupyter-widgets/controls",
            "_model_module_version": "1.5.0",
            "_model_name": "DescriptionStyleModel",
            "_view_count": null,
            "_view_module": "@jupyter-widgets/base",
            "_view_module_version": "1.2.0",
            "_view_name": "StyleView",
            "description_width": ""
          }
        },
        "8c2eb20ff6064f678d0945590e865e37": {
          "model_module": "@jupyter-widgets/base",
          "model_module_version": "1.2.0",
          "model_name": "LayoutModel",
          "state": {
            "_model_module": "@jupyter-widgets/base",
            "_model_module_version": "1.2.0",
            "_model_name": "LayoutModel",
            "_view_count": null,
            "_view_module": "@jupyter-widgets/base",
            "_view_module_version": "1.2.0",
            "_view_name": "LayoutView",
            "align_content": null,
            "align_items": null,
            "align_self": null,
            "border": null,
            "bottom": null,
            "display": null,
            "flex": null,
            "flex_flow": null,
            "grid_area": null,
            "grid_auto_columns": null,
            "grid_auto_flow": null,
            "grid_auto_rows": null,
            "grid_column": null,
            "grid_gap": null,
            "grid_row": null,
            "grid_template_areas": null,
            "grid_template_columns": null,
            "grid_template_rows": null,
            "height": null,
            "justify_content": null,
            "justify_items": null,
            "left": null,
            "margin": null,
            "max_height": null,
            "max_width": null,
            "min_height": null,
            "min_width": null,
            "object_fit": null,
            "object_position": null,
            "order": null,
            "overflow": null,
            "overflow_x": null,
            "overflow_y": null,
            "padding": null,
            "right": null,
            "top": null,
            "visibility": null,
            "width": null
          }
        },
        "907cefc786674976825d21c5837f0d01": {
          "model_module": "@jupyter-widgets/controls",
          "model_module_version": "1.5.0",
          "model_name": "HTMLModel",
          "state": {
            "_dom_classes": [],
            "_model_module": "@jupyter-widgets/controls",
            "_model_module_version": "1.5.0",
            "_model_name": "HTMLModel",
            "_view_count": null,
            "_view_module": "@jupyter-widgets/controls",
            "_view_module_version": "1.5.0",
            "_view_name": "HTMLView",
            "description": "",
            "description_tooltip": null,
            "layout": "IPY_MODEL_4ca5e4e1b48d4d91b2e41fe019783fa4",
            "placeholder": "​",
            "style": "IPY_MODEL_8b75d73ff7674a209a304037295236e1",
            "value": "100%"
          }
        },
        "9097d1a30ab6430fb0d26e92f8e22bbe": {
          "model_module": "@jupyter-widgets/controls",
          "model_module_version": "1.5.0",
          "model_name": "FloatProgressModel",
          "state": {
            "_dom_classes": [],
            "_model_module": "@jupyter-widgets/controls",
            "_model_module_version": "1.5.0",
            "_model_name": "FloatProgressModel",
            "_view_count": null,
            "_view_module": "@jupyter-widgets/controls",
            "_view_module_version": "1.5.0",
            "_view_name": "ProgressView",
            "bar_style": "success",
            "description": "",
            "description_tooltip": null,
            "layout": "IPY_MODEL_5fdec5b91c984abcad5dd343c7b069a6",
            "max": 4,
            "min": 0,
            "orientation": "horizontal",
            "style": "IPY_MODEL_42c654106b104af7bad95828ac054fe9",
            "value": 4
          }
        },
        "90ca0b0be7724ac7b02355231e8e4d98": {
          "model_module": "@jupyter-widgets/controls",
          "model_module_version": "1.5.0",
          "model_name": "HTMLModel",
          "state": {
            "_dom_classes": [],
            "_model_module": "@jupyter-widgets/controls",
            "_model_module_version": "1.5.0",
            "_model_name": "HTMLModel",
            "_view_count": null,
            "_view_module": "@jupyter-widgets/controls",
            "_view_module_version": "1.5.0",
            "_view_name": "HTMLView",
            "description": "",
            "description_tooltip": null,
            "layout": "IPY_MODEL_9438d4b1b36840e2b1f278ca85fe8fea",
            "placeholder": "​",
            "style": "IPY_MODEL_df24126a31a840a7baf0cfcc110b4b5e",
            "value": " 4/4 [00:00&lt;00:00,  1.44it/s]"
          }
        },
        "911bb09366b249f1ac3c5f3bbb20392b": {
          "model_module": "@jupyter-widgets/controls",
          "model_module_version": "1.5.0",
          "model_name": "HTMLModel",
          "state": {
            "_dom_classes": [],
            "_model_module": "@jupyter-widgets/controls",
            "_model_module_version": "1.5.0",
            "_model_name": "HTMLModel",
            "_view_count": null,
            "_view_module": "@jupyter-widgets/controls",
            "_view_module_version": "1.5.0",
            "_view_name": "HTMLView",
            "description": "",
            "description_tooltip": null,
            "layout": "IPY_MODEL_294c949f834a439e96ca69aec5932811",
            "placeholder": "​",
            "style": "IPY_MODEL_a206bddd629749ae9968e2597a334e30",
            "value": "Downloading readme: 100%"
          }
        },
        "93519587cc954ba3ab10107b7ac30d49": {
          "model_module": "@jupyter-widgets/base",
          "model_module_version": "1.2.0",
          "model_name": "LayoutModel",
          "state": {
            "_model_module": "@jupyter-widgets/base",
            "_model_module_version": "1.2.0",
            "_model_name": "LayoutModel",
            "_view_count": null,
            "_view_module": "@jupyter-widgets/base",
            "_view_module_version": "1.2.0",
            "_view_name": "LayoutView",
            "align_content": null,
            "align_items": null,
            "align_self": null,
            "border": null,
            "bottom": null,
            "display": null,
            "flex": null,
            "flex_flow": null,
            "grid_area": null,
            "grid_auto_columns": null,
            "grid_auto_flow": null,
            "grid_auto_rows": null,
            "grid_column": null,
            "grid_gap": null,
            "grid_row": null,
            "grid_template_areas": null,
            "grid_template_columns": null,
            "grid_template_rows": null,
            "height": null,
            "justify_content": null,
            "justify_items": null,
            "left": null,
            "margin": null,
            "max_height": null,
            "max_width": null,
            "min_height": null,
            "min_width": null,
            "object_fit": null,
            "object_position": null,
            "order": null,
            "overflow": null,
            "overflow_x": null,
            "overflow_y": null,
            "padding": null,
            "right": null,
            "top": null,
            "visibility": null,
            "width": null
          }
        },
        "93695997e185461e8a2cc9948bcbdae2": {
          "model_module": "@jupyter-widgets/base",
          "model_module_version": "1.2.0",
          "model_name": "LayoutModel",
          "state": {
            "_model_module": "@jupyter-widgets/base",
            "_model_module_version": "1.2.0",
            "_model_name": "LayoutModel",
            "_view_count": null,
            "_view_module": "@jupyter-widgets/base",
            "_view_module_version": "1.2.0",
            "_view_name": "LayoutView",
            "align_content": null,
            "align_items": null,
            "align_self": null,
            "border": null,
            "bottom": null,
            "display": null,
            "flex": null,
            "flex_flow": null,
            "grid_area": null,
            "grid_auto_columns": null,
            "grid_auto_flow": null,
            "grid_auto_rows": null,
            "grid_column": null,
            "grid_gap": null,
            "grid_row": null,
            "grid_template_areas": null,
            "grid_template_columns": null,
            "grid_template_rows": null,
            "height": null,
            "justify_content": null,
            "justify_items": null,
            "left": null,
            "margin": null,
            "max_height": null,
            "max_width": null,
            "min_height": null,
            "min_width": null,
            "object_fit": null,
            "object_position": null,
            "order": null,
            "overflow": null,
            "overflow_x": null,
            "overflow_y": null,
            "padding": null,
            "right": null,
            "top": null,
            "visibility": null,
            "width": null
          }
        },
        "9438d4b1b36840e2b1f278ca85fe8fea": {
          "model_module": "@jupyter-widgets/base",
          "model_module_version": "1.2.0",
          "model_name": "LayoutModel",
          "state": {
            "_model_module": "@jupyter-widgets/base",
            "_model_module_version": "1.2.0",
            "_model_name": "LayoutModel",
            "_view_count": null,
            "_view_module": "@jupyter-widgets/base",
            "_view_module_version": "1.2.0",
            "_view_name": "LayoutView",
            "align_content": null,
            "align_items": null,
            "align_self": null,
            "border": null,
            "bottom": null,
            "display": null,
            "flex": null,
            "flex_flow": null,
            "grid_area": null,
            "grid_auto_columns": null,
            "grid_auto_flow": null,
            "grid_auto_rows": null,
            "grid_column": null,
            "grid_gap": null,
            "grid_row": null,
            "grid_template_areas": null,
            "grid_template_columns": null,
            "grid_template_rows": null,
            "height": null,
            "justify_content": null,
            "justify_items": null,
            "left": null,
            "margin": null,
            "max_height": null,
            "max_width": null,
            "min_height": null,
            "min_width": null,
            "object_fit": null,
            "object_position": null,
            "order": null,
            "overflow": null,
            "overflow_x": null,
            "overflow_y": null,
            "padding": null,
            "right": null,
            "top": null,
            "visibility": null,
            "width": null
          }
        },
        "94c1f3ecdace465db4465b2d1f4fcc84": {
          "model_module": "@jupyter-widgets/base",
          "model_module_version": "1.2.0",
          "model_name": "LayoutModel",
          "state": {
            "_model_module": "@jupyter-widgets/base",
            "_model_module_version": "1.2.0",
            "_model_name": "LayoutModel",
            "_view_count": null,
            "_view_module": "@jupyter-widgets/base",
            "_view_module_version": "1.2.0",
            "_view_name": "LayoutView",
            "align_content": null,
            "align_items": null,
            "align_self": null,
            "border": null,
            "bottom": null,
            "display": null,
            "flex": null,
            "flex_flow": null,
            "grid_area": null,
            "grid_auto_columns": null,
            "grid_auto_flow": null,
            "grid_auto_rows": null,
            "grid_column": null,
            "grid_gap": null,
            "grid_row": null,
            "grid_template_areas": null,
            "grid_template_columns": null,
            "grid_template_rows": null,
            "height": null,
            "justify_content": null,
            "justify_items": null,
            "left": null,
            "margin": null,
            "max_height": null,
            "max_width": null,
            "min_height": null,
            "min_width": null,
            "object_fit": null,
            "object_position": null,
            "order": null,
            "overflow": null,
            "overflow_x": null,
            "overflow_y": null,
            "padding": null,
            "right": null,
            "top": null,
            "visibility": null,
            "width": null
          }
        },
        "97fd535b926b414cbff6135cf21f8b68": {
          "model_module": "@jupyter-widgets/base",
          "model_module_version": "1.2.0",
          "model_name": "LayoutModel",
          "state": {
            "_model_module": "@jupyter-widgets/base",
            "_model_module_version": "1.2.0",
            "_model_name": "LayoutModel",
            "_view_count": null,
            "_view_module": "@jupyter-widgets/base",
            "_view_module_version": "1.2.0",
            "_view_name": "LayoutView",
            "align_content": null,
            "align_items": null,
            "align_self": null,
            "border": null,
            "bottom": null,
            "display": null,
            "flex": null,
            "flex_flow": null,
            "grid_area": null,
            "grid_auto_columns": null,
            "grid_auto_flow": null,
            "grid_auto_rows": null,
            "grid_column": null,
            "grid_gap": null,
            "grid_row": null,
            "grid_template_areas": null,
            "grid_template_columns": null,
            "grid_template_rows": null,
            "height": null,
            "justify_content": null,
            "justify_items": null,
            "left": null,
            "margin": null,
            "max_height": null,
            "max_width": null,
            "min_height": null,
            "min_width": null,
            "object_fit": null,
            "object_position": null,
            "order": null,
            "overflow": null,
            "overflow_x": null,
            "overflow_y": null,
            "padding": null,
            "right": null,
            "top": null,
            "visibility": null,
            "width": null
          }
        },
        "99434dfdfe364866be195ffe2e3e5e57": {
          "model_module": "@jupyter-widgets/controls",
          "model_module_version": "1.5.0",
          "model_name": "ProgressStyleModel",
          "state": {
            "_model_module": "@jupyter-widgets/controls",
            "_model_module_version": "1.5.0",
            "_model_name": "ProgressStyleModel",
            "_view_count": null,
            "_view_module": "@jupyter-widgets/base",
            "_view_module_version": "1.2.0",
            "_view_name": "StyleView",
            "bar_color": null,
            "description_width": ""
          }
        },
        "9a840922484d465d97bffa3bfce7c971": {
          "model_module": "@jupyter-widgets/base",
          "model_module_version": "1.2.0",
          "model_name": "LayoutModel",
          "state": {
            "_model_module": "@jupyter-widgets/base",
            "_model_module_version": "1.2.0",
            "_model_name": "LayoutModel",
            "_view_count": null,
            "_view_module": "@jupyter-widgets/base",
            "_view_module_version": "1.2.0",
            "_view_name": "LayoutView",
            "align_content": null,
            "align_items": null,
            "align_self": null,
            "border": null,
            "bottom": null,
            "display": null,
            "flex": null,
            "flex_flow": null,
            "grid_area": null,
            "grid_auto_columns": null,
            "grid_auto_flow": null,
            "grid_auto_rows": null,
            "grid_column": null,
            "grid_gap": null,
            "grid_row": null,
            "grid_template_areas": null,
            "grid_template_columns": null,
            "grid_template_rows": null,
            "height": null,
            "justify_content": null,
            "justify_items": null,
            "left": null,
            "margin": null,
            "max_height": null,
            "max_width": null,
            "min_height": null,
            "min_width": null,
            "object_fit": null,
            "object_position": null,
            "order": null,
            "overflow": null,
            "overflow_x": null,
            "overflow_y": null,
            "padding": null,
            "right": null,
            "top": null,
            "visibility": null,
            "width": null
          }
        },
        "9aaba7ca4bed4a2792dde17df6e97aed": {
          "model_module": "@jupyter-widgets/controls",
          "model_module_version": "1.5.0",
          "model_name": "HTMLModel",
          "state": {
            "_dom_classes": [],
            "_model_module": "@jupyter-widgets/controls",
            "_model_module_version": "1.5.0",
            "_model_name": "HTMLModel",
            "_view_count": null,
            "_view_module": "@jupyter-widgets/controls",
            "_view_module_version": "1.5.0",
            "_view_name": "HTMLView",
            "description": "",
            "description_tooltip": null,
            "layout": "IPY_MODEL_4dd4f0fe83054406b53585ee8c51cd20",
            "placeholder": "​",
            "style": "IPY_MODEL_519d7e46c47646e0a1c4dfa79756d609",
            "value": "Generating test split:  97%"
          }
        },
        "a0a92c918b454cfb95babd0843d41647": {
          "model_module": "@jupyter-widgets/controls",
          "model_module_version": "1.5.0",
          "model_name": "HTMLModel",
          "state": {
            "_dom_classes": [],
            "_model_module": "@jupyter-widgets/controls",
            "_model_module_version": "1.5.0",
            "_model_name": "HTMLModel",
            "_view_count": null,
            "_view_module": "@jupyter-widgets/controls",
            "_view_module_version": "1.5.0",
            "_view_name": "HTMLView",
            "description": "",
            "description_tooltip": null,
            "layout": "IPY_MODEL_6d6510f87ba348e4bb80fdb3ca13f5ce",
            "placeholder": "​",
            "style": "IPY_MODEL_7ac5e79490a944ab96710b20a3ad8d37",
            "value": "Downloading data: 100%"
          }
        },
        "a181834f90ab4643bda02b95c0adf1a1": {
          "model_module": "@jupyter-widgets/controls",
          "model_module_version": "1.5.0",
          "model_name": "HTMLModel",
          "state": {
            "_dom_classes": [],
            "_model_module": "@jupyter-widgets/controls",
            "_model_module_version": "1.5.0",
            "_model_name": "HTMLModel",
            "_view_count": null,
            "_view_module": "@jupyter-widgets/controls",
            "_view_module_version": "1.5.0",
            "_view_name": "HTMLView",
            "description": "",
            "description_tooltip": null,
            "layout": "IPY_MODEL_7e16cc70dd7a491ab0d09bce33163900",
            "placeholder": "​",
            "style": "IPY_MODEL_74073953946845f7ba9279dd16e96864",
            "value": " 59806/60000 [00:20&lt;00:00, 4760.34 examples/s]"
          }
        },
        "a206bddd629749ae9968e2597a334e30": {
          "model_module": "@jupyter-widgets/controls",
          "model_module_version": "1.5.0",
          "model_name": "DescriptionStyleModel",
          "state": {
            "_model_module": "@jupyter-widgets/controls",
            "_model_module_version": "1.5.0",
            "_model_name": "DescriptionStyleModel",
            "_view_count": null,
            "_view_module": "@jupyter-widgets/base",
            "_view_module_version": "1.2.0",
            "_view_name": "StyleView",
            "description_width": ""
          }
        },
        "af912d90f1c94cf3a169653f96987336": {
          "model_module": "@jupyter-widgets/controls",
          "model_module_version": "1.5.0",
          "model_name": "DescriptionStyleModel",
          "state": {
            "_model_module": "@jupyter-widgets/controls",
            "_model_module_version": "1.5.0",
            "_model_name": "DescriptionStyleModel",
            "_view_count": null,
            "_view_module": "@jupyter-widgets/base",
            "_view_module_version": "1.2.0",
            "_view_name": "StyleView",
            "description_width": ""
          }
        },
        "b0396fc30a4f402b851a56514629a922": {
          "model_module": "@jupyter-widgets/controls",
          "model_module_version": "1.5.0",
          "model_name": "DescriptionStyleModel",
          "state": {
            "_model_module": "@jupyter-widgets/controls",
            "_model_module_version": "1.5.0",
            "_model_name": "DescriptionStyleModel",
            "_view_count": null,
            "_view_module": "@jupyter-widgets/base",
            "_view_module_version": "1.2.0",
            "_view_name": "StyleView",
            "description_width": ""
          }
        },
        "b2511b9f042548a0b15ed09bfb649fa4": {
          "model_module": "@jupyter-widgets/controls",
          "model_module_version": "1.5.0",
          "model_name": "FloatProgressModel",
          "state": {
            "_dom_classes": [],
            "_model_module": "@jupyter-widgets/controls",
            "_model_module_version": "1.5.0",
            "_model_name": "FloatProgressModel",
            "_view_count": null,
            "_view_module": "@jupyter-widgets/controls",
            "_view_module_version": "1.5.0",
            "_view_name": "ProgressView",
            "bar_style": "success",
            "description": "",
            "description_tooltip": null,
            "layout": "IPY_MODEL_84e15841b160443981dcfa0a6ab17d2f",
            "max": 5148,
            "min": 0,
            "orientation": "horizontal",
            "style": "IPY_MODEL_1c2d43b35c544f089090f5fb22e1a50e",
            "value": 5148
          }
        },
        "b6bf3de0f14e48ff9d46f514699788a7": {
          "model_module": "@jupyter-widgets/base",
          "model_module_version": "1.2.0",
          "model_name": "LayoutModel",
          "state": {
            "_model_module": "@jupyter-widgets/base",
            "_model_module_version": "1.2.0",
            "_model_name": "LayoutModel",
            "_view_count": null,
            "_view_module": "@jupyter-widgets/base",
            "_view_module_version": "1.2.0",
            "_view_name": "LayoutView",
            "align_content": null,
            "align_items": null,
            "align_self": null,
            "border": null,
            "bottom": null,
            "display": null,
            "flex": null,
            "flex_flow": null,
            "grid_area": null,
            "grid_auto_columns": null,
            "grid_auto_flow": null,
            "grid_auto_rows": null,
            "grid_column": null,
            "grid_gap": null,
            "grid_row": null,
            "grid_template_areas": null,
            "grid_template_columns": null,
            "grid_template_rows": null,
            "height": null,
            "justify_content": null,
            "justify_items": null,
            "left": null,
            "margin": null,
            "max_height": null,
            "max_width": null,
            "min_height": null,
            "min_width": null,
            "object_fit": null,
            "object_position": null,
            "order": null,
            "overflow": null,
            "overflow_x": null,
            "overflow_y": null,
            "padding": null,
            "right": null,
            "top": null,
            "visibility": null,
            "width": null
          }
        },
        "b74cf8bcb299454bbc0614c56031d2c9": {
          "model_module": "@jupyter-widgets/controls",
          "model_module_version": "1.5.0",
          "model_name": "HTMLModel",
          "state": {
            "_dom_classes": [],
            "_model_module": "@jupyter-widgets/controls",
            "_model_module_version": "1.5.0",
            "_model_name": "HTMLModel",
            "_view_count": null,
            "_view_module": "@jupyter-widgets/controls",
            "_view_module_version": "1.5.0",
            "_view_name": "HTMLView",
            "description": "",
            "description_tooltip": null,
            "layout": "IPY_MODEL_bc84a9c5021942d18f6739545f35c18b",
            "placeholder": "​",
            "style": "IPY_MODEL_252f0be84dc54843b9c48737fd915b60",
            "value": " 4.42M/4.42M [00:00&lt;00:00, 20.3MB/s]"
          }
        },
        "ba6f6250efbd4e0491a5a0f161b53cd8": {
          "model_module": "@jupyter-widgets/controls",
          "model_module_version": "1.5.0",
          "model_name": "HBoxModel",
          "state": {
            "_dom_classes": [],
            "_model_module": "@jupyter-widgets/controls",
            "_model_module_version": "1.5.0",
            "_model_name": "HBoxModel",
            "_view_count": null,
            "_view_module": "@jupyter-widgets/controls",
            "_view_module_version": "1.5.0",
            "_view_name": "HBoxView",
            "box_style": "",
            "children": [
              "IPY_MODEL_7e7865ae09544d83ba7f944a0f77ffc4",
              "IPY_MODEL_3446707472a24c19ae85021340a04d15",
              "IPY_MODEL_e9852d2d34454f58b4edb532db8d0b78"
            ],
            "layout": "IPY_MODEL_d234038e207f48d0a4d8d0da712fd199"
          }
        },
        "ba8d62ad0ec242c2a57cfccdddf7030a": {
          "model_module": "@jupyter-widgets/controls",
          "model_module_version": "1.5.0",
          "model_name": "ProgressStyleModel",
          "state": {
            "_model_module": "@jupyter-widgets/controls",
            "_model_module_version": "1.5.0",
            "_model_name": "ProgressStyleModel",
            "_view_count": null,
            "_view_module": "@jupyter-widgets/base",
            "_view_module_version": "1.2.0",
            "_view_name": "StyleView",
            "bar_color": null,
            "description_width": ""
          }
        },
        "ba95af530812473f85f639d546c93d73": {
          "model_module": "@jupyter-widgets/controls",
          "model_module_version": "1.5.0",
          "model_name": "FloatProgressModel",
          "state": {
            "_dom_classes": [],
            "_model_module": "@jupyter-widgets/controls",
            "_model_module_version": "1.5.0",
            "_model_name": "FloatProgressModel",
            "_view_count": null,
            "_view_module": "@jupyter-widgets/controls",
            "_view_module_version": "1.5.0",
            "_view_name": "ProgressView",
            "bar_style": "success",
            "description": "",
            "description_tooltip": null,
            "layout": "IPY_MODEL_07dd8cc114d140fa8b10854bce7d7765",
            "max": 26421880,
            "min": 0,
            "orientation": "horizontal",
            "style": "IPY_MODEL_0adb4485b0d045cc90a364d48a0b9ac7",
            "value": 26421880
          }
        },
        "bbf271996ad14b7fac8ae64ee06240bb": {
          "model_module": "@jupyter-widgets/controls",
          "model_module_version": "1.5.0",
          "model_name": "DescriptionStyleModel",
          "state": {
            "_model_module": "@jupyter-widgets/controls",
            "_model_module_version": "1.5.0",
            "_model_name": "DescriptionStyleModel",
            "_view_count": null,
            "_view_module": "@jupyter-widgets/base",
            "_view_module_version": "1.2.0",
            "_view_name": "StyleView",
            "description_width": ""
          }
        },
        "bc84a9c5021942d18f6739545f35c18b": {
          "model_module": "@jupyter-widgets/base",
          "model_module_version": "1.2.0",
          "model_name": "LayoutModel",
          "state": {
            "_model_module": "@jupyter-widgets/base",
            "_model_module_version": "1.2.0",
            "_model_name": "LayoutModel",
            "_view_count": null,
            "_view_module": "@jupyter-widgets/base",
            "_view_module_version": "1.2.0",
            "_view_name": "LayoutView",
            "align_content": null,
            "align_items": null,
            "align_self": null,
            "border": null,
            "bottom": null,
            "display": null,
            "flex": null,
            "flex_flow": null,
            "grid_area": null,
            "grid_auto_columns": null,
            "grid_auto_flow": null,
            "grid_auto_rows": null,
            "grid_column": null,
            "grid_gap": null,
            "grid_row": null,
            "grid_template_areas": null,
            "grid_template_columns": null,
            "grid_template_rows": null,
            "height": null,
            "justify_content": null,
            "justify_items": null,
            "left": null,
            "margin": null,
            "max_height": null,
            "max_width": null,
            "min_height": null,
            "min_width": null,
            "object_fit": null,
            "object_position": null,
            "order": null,
            "overflow": null,
            "overflow_x": null,
            "overflow_y": null,
            "padding": null,
            "right": null,
            "top": null,
            "visibility": null,
            "width": null
          }
        },
        "bd7c1bd4aef548d3b36d3edfd8ff666a": {
          "model_module": "@jupyter-widgets/base",
          "model_module_version": "1.2.0",
          "model_name": "LayoutModel",
          "state": {
            "_model_module": "@jupyter-widgets/base",
            "_model_module_version": "1.2.0",
            "_model_name": "LayoutModel",
            "_view_count": null,
            "_view_module": "@jupyter-widgets/base",
            "_view_module_version": "1.2.0",
            "_view_name": "LayoutView",
            "align_content": null,
            "align_items": null,
            "align_self": null,
            "border": null,
            "bottom": null,
            "display": null,
            "flex": null,
            "flex_flow": null,
            "grid_area": null,
            "grid_auto_columns": null,
            "grid_auto_flow": null,
            "grid_auto_rows": null,
            "grid_column": null,
            "grid_gap": null,
            "grid_row": null,
            "grid_template_areas": null,
            "grid_template_columns": null,
            "grid_template_rows": null,
            "height": null,
            "justify_content": null,
            "justify_items": null,
            "left": null,
            "margin": null,
            "max_height": null,
            "max_width": null,
            "min_height": null,
            "min_width": null,
            "object_fit": null,
            "object_position": null,
            "order": null,
            "overflow": null,
            "overflow_x": null,
            "overflow_y": null,
            "padding": null,
            "right": null,
            "top": null,
            "visibility": null,
            "width": null
          }
        },
        "be78e843689548459a64acac889c1dfb": {
          "model_module": "@jupyter-widgets/base",
          "model_module_version": "1.2.0",
          "model_name": "LayoutModel",
          "state": {
            "_model_module": "@jupyter-widgets/base",
            "_model_module_version": "1.2.0",
            "_model_name": "LayoutModel",
            "_view_count": null,
            "_view_module": "@jupyter-widgets/base",
            "_view_module_version": "1.2.0",
            "_view_name": "LayoutView",
            "align_content": null,
            "align_items": null,
            "align_self": null,
            "border": null,
            "bottom": null,
            "display": null,
            "flex": null,
            "flex_flow": null,
            "grid_area": null,
            "grid_auto_columns": null,
            "grid_auto_flow": null,
            "grid_auto_rows": null,
            "grid_column": null,
            "grid_gap": null,
            "grid_row": null,
            "grid_template_areas": null,
            "grid_template_columns": null,
            "grid_template_rows": null,
            "height": null,
            "justify_content": null,
            "justify_items": null,
            "left": null,
            "margin": null,
            "max_height": null,
            "max_width": null,
            "min_height": null,
            "min_width": null,
            "object_fit": null,
            "object_position": null,
            "order": null,
            "overflow": null,
            "overflow_x": null,
            "overflow_y": null,
            "padding": null,
            "right": null,
            "top": null,
            "visibility": null,
            "width": null
          }
        },
        "c0334e233472406d88165b2d5aab4c58": {
          "model_module": "@jupyter-widgets/controls",
          "model_module_version": "1.5.0",
          "model_name": "DescriptionStyleModel",
          "state": {
            "_model_module": "@jupyter-widgets/controls",
            "_model_module_version": "1.5.0",
            "_model_name": "DescriptionStyleModel",
            "_view_count": null,
            "_view_module": "@jupyter-widgets/base",
            "_view_module_version": "1.2.0",
            "_view_name": "StyleView",
            "description_width": ""
          }
        },
        "c773eead4b9542f6ae249b6692e0890d": {
          "model_module": "@jupyter-widgets/base",
          "model_module_version": "1.2.0",
          "model_name": "LayoutModel",
          "state": {
            "_model_module": "@jupyter-widgets/base",
            "_model_module_version": "1.2.0",
            "_model_name": "LayoutModel",
            "_view_count": null,
            "_view_module": "@jupyter-widgets/base",
            "_view_module_version": "1.2.0",
            "_view_name": "LayoutView",
            "align_content": null,
            "align_items": null,
            "align_self": null,
            "border": null,
            "bottom": null,
            "display": null,
            "flex": null,
            "flex_flow": null,
            "grid_area": null,
            "grid_auto_columns": null,
            "grid_auto_flow": null,
            "grid_auto_rows": null,
            "grid_column": null,
            "grid_gap": null,
            "grid_row": null,
            "grid_template_areas": null,
            "grid_template_columns": null,
            "grid_template_rows": null,
            "height": null,
            "justify_content": null,
            "justify_items": null,
            "left": null,
            "margin": null,
            "max_height": null,
            "max_width": null,
            "min_height": null,
            "min_width": null,
            "object_fit": null,
            "object_position": null,
            "order": null,
            "overflow": null,
            "overflow_x": null,
            "overflow_y": null,
            "padding": null,
            "right": null,
            "top": null,
            "visibility": null,
            "width": null
          }
        },
        "cb22590ccf9048c2b09f535698e6e1e0": {
          "model_module": "@jupyter-widgets/controls",
          "model_module_version": "1.5.0",
          "model_name": "HBoxModel",
          "state": {
            "_dom_classes": [],
            "_model_module": "@jupyter-widgets/controls",
            "_model_module_version": "1.5.0",
            "_model_name": "HBoxModel",
            "_view_count": null,
            "_view_module": "@jupyter-widgets/controls",
            "_view_module_version": "1.5.0",
            "_view_name": "HBoxView",
            "box_style": "",
            "children": [
              "IPY_MODEL_a0a92c918b454cfb95babd0843d41647",
              "IPY_MODEL_eea51c478a8741dcb0c3749d0b0ea5a2",
              "IPY_MODEL_b74cf8bcb299454bbc0614c56031d2c9"
            ],
            "layout": "IPY_MODEL_25ea0abc8d274b0b832ddcec444a535d"
          }
        },
        "cd16fba2809d4ce8962a9ffd3521d49b": {
          "model_module": "@jupyter-widgets/controls",
          "model_module_version": "1.5.0",
          "model_name": "FloatProgressModel",
          "state": {
            "_dom_classes": [],
            "_model_module": "@jupyter-widgets/controls",
            "_model_module_version": "1.5.0",
            "_model_name": "FloatProgressModel",
            "_view_count": null,
            "_view_module": "@jupyter-widgets/controls",
            "_view_module_version": "1.5.0",
            "_view_name": "ProgressView",
            "bar_style": "success",
            "description": "",
            "description_tooltip": null,
            "layout": "IPY_MODEL_dd28326b2a0e410ca609c1deccb2a0b6",
            "max": 2,
            "min": 0,
            "orientation": "horizontal",
            "style": "IPY_MODEL_774634f2d69149cfa3c30272bb4eba7d",
            "value": 2
          }
        },
        "cf895e054a774c21a7e2adda9b13e12f": {
          "model_module": "@jupyter-widgets/base",
          "model_module_version": "1.2.0",
          "model_name": "LayoutModel",
          "state": {
            "_model_module": "@jupyter-widgets/base",
            "_model_module_version": "1.2.0",
            "_model_name": "LayoutModel",
            "_view_count": null,
            "_view_module": "@jupyter-widgets/base",
            "_view_module_version": "1.2.0",
            "_view_name": "LayoutView",
            "align_content": null,
            "align_items": null,
            "align_self": null,
            "border": null,
            "bottom": null,
            "display": null,
            "flex": null,
            "flex_flow": null,
            "grid_area": null,
            "grid_auto_columns": null,
            "grid_auto_flow": null,
            "grid_auto_rows": null,
            "grid_column": null,
            "grid_gap": null,
            "grid_row": null,
            "grid_template_areas": null,
            "grid_template_columns": null,
            "grid_template_rows": null,
            "height": null,
            "justify_content": null,
            "justify_items": null,
            "left": null,
            "margin": null,
            "max_height": null,
            "max_width": null,
            "min_height": null,
            "min_width": null,
            "object_fit": null,
            "object_position": null,
            "order": null,
            "overflow": null,
            "overflow_x": null,
            "overflow_y": null,
            "padding": null,
            "right": null,
            "top": null,
            "visibility": null,
            "width": null
          }
        },
        "d234038e207f48d0a4d8d0da712fd199": {
          "model_module": "@jupyter-widgets/base",
          "model_module_version": "1.2.0",
          "model_name": "LayoutModel",
          "state": {
            "_model_module": "@jupyter-widgets/base",
            "_model_module_version": "1.2.0",
            "_model_name": "LayoutModel",
            "_view_count": null,
            "_view_module": "@jupyter-widgets/base",
            "_view_module_version": "1.2.0",
            "_view_name": "LayoutView",
            "align_content": null,
            "align_items": null,
            "align_self": null,
            "border": null,
            "bottom": null,
            "display": null,
            "flex": null,
            "flex_flow": null,
            "grid_area": null,
            "grid_auto_columns": null,
            "grid_auto_flow": null,
            "grid_auto_rows": null,
            "grid_column": null,
            "grid_gap": null,
            "grid_row": null,
            "grid_template_areas": null,
            "grid_template_columns": null,
            "grid_template_rows": null,
            "height": null,
            "justify_content": null,
            "justify_items": null,
            "left": null,
            "margin": null,
            "max_height": null,
            "max_width": null,
            "min_height": null,
            "min_width": null,
            "object_fit": null,
            "object_position": null,
            "order": null,
            "overflow": null,
            "overflow_x": null,
            "overflow_y": null,
            "padding": null,
            "right": null,
            "top": null,
            "visibility": null,
            "width": null
          }
        },
        "d2a05ee454ba4cb58afe61fab659a3de": {
          "model_module": "@jupyter-widgets/controls",
          "model_module_version": "1.5.0",
          "model_name": "DescriptionStyleModel",
          "state": {
            "_model_module": "@jupyter-widgets/controls",
            "_model_module_version": "1.5.0",
            "_model_name": "DescriptionStyleModel",
            "_view_count": null,
            "_view_module": "@jupyter-widgets/base",
            "_view_module_version": "1.2.0",
            "_view_name": "StyleView",
            "description_width": ""
          }
        },
        "d6d1f71bd612422397788d3d6f84af40": {
          "model_module": "@jupyter-widgets/controls",
          "model_module_version": "1.5.0",
          "model_name": "DescriptionStyleModel",
          "state": {
            "_model_module": "@jupyter-widgets/controls",
            "_model_module_version": "1.5.0",
            "_model_name": "DescriptionStyleModel",
            "_view_count": null,
            "_view_module": "@jupyter-widgets/base",
            "_view_module_version": "1.2.0",
            "_view_name": "StyleView",
            "description_width": ""
          }
        },
        "dd28326b2a0e410ca609c1deccb2a0b6": {
          "model_module": "@jupyter-widgets/base",
          "model_module_version": "1.2.0",
          "model_name": "LayoutModel",
          "state": {
            "_model_module": "@jupyter-widgets/base",
            "_model_module_version": "1.2.0",
            "_model_name": "LayoutModel",
            "_view_count": null,
            "_view_module": "@jupyter-widgets/base",
            "_view_module_version": "1.2.0",
            "_view_name": "LayoutView",
            "align_content": null,
            "align_items": null,
            "align_self": null,
            "border": null,
            "bottom": null,
            "display": null,
            "flex": null,
            "flex_flow": null,
            "grid_area": null,
            "grid_auto_columns": null,
            "grid_auto_flow": null,
            "grid_auto_rows": null,
            "grid_column": null,
            "grid_gap": null,
            "grid_row": null,
            "grid_template_areas": null,
            "grid_template_columns": null,
            "grid_template_rows": null,
            "height": null,
            "justify_content": null,
            "justify_items": null,
            "left": null,
            "margin": null,
            "max_height": null,
            "max_width": null,
            "min_height": null,
            "min_width": null,
            "object_fit": null,
            "object_position": null,
            "order": null,
            "overflow": null,
            "overflow_x": null,
            "overflow_y": null,
            "padding": null,
            "right": null,
            "top": null,
            "visibility": null,
            "width": null
          }
        },
        "dd32dfcf38394c17b8e9714281a2755e": {
          "model_module": "@jupyter-widgets/controls",
          "model_module_version": "1.5.0",
          "model_name": "DescriptionStyleModel",
          "state": {
            "_model_module": "@jupyter-widgets/controls",
            "_model_module_version": "1.5.0",
            "_model_name": "DescriptionStyleModel",
            "_view_count": null,
            "_view_module": "@jupyter-widgets/base",
            "_view_module_version": "1.2.0",
            "_view_name": "StyleView",
            "description_width": ""
          }
        },
        "df24126a31a840a7baf0cfcc110b4b5e": {
          "model_module": "@jupyter-widgets/controls",
          "model_module_version": "1.5.0",
          "model_name": "DescriptionStyleModel",
          "state": {
            "_model_module": "@jupyter-widgets/controls",
            "_model_module_version": "1.5.0",
            "_model_name": "DescriptionStyleModel",
            "_view_count": null,
            "_view_module": "@jupyter-widgets/base",
            "_view_module_version": "1.2.0",
            "_view_name": "StyleView",
            "description_width": ""
          }
        },
        "e2a67688dac344dda97f4720f11e6767": {
          "model_module": "@jupyter-widgets/base",
          "model_module_version": "1.2.0",
          "model_name": "LayoutModel",
          "state": {
            "_model_module": "@jupyter-widgets/base",
            "_model_module_version": "1.2.0",
            "_model_name": "LayoutModel",
            "_view_count": null,
            "_view_module": "@jupyter-widgets/base",
            "_view_module_version": "1.2.0",
            "_view_name": "LayoutView",
            "align_content": null,
            "align_items": null,
            "align_self": null,
            "border": null,
            "bottom": null,
            "display": null,
            "flex": null,
            "flex_flow": null,
            "grid_area": null,
            "grid_auto_columns": null,
            "grid_auto_flow": null,
            "grid_auto_rows": null,
            "grid_column": null,
            "grid_gap": null,
            "grid_row": null,
            "grid_template_areas": null,
            "grid_template_columns": null,
            "grid_template_rows": null,
            "height": null,
            "justify_content": null,
            "justify_items": null,
            "left": null,
            "margin": null,
            "max_height": null,
            "max_width": null,
            "min_height": null,
            "min_width": null,
            "object_fit": null,
            "object_position": null,
            "order": null,
            "overflow": null,
            "overflow_x": null,
            "overflow_y": null,
            "padding": null,
            "right": null,
            "top": null,
            "visibility": null,
            "width": null
          }
        },
        "e9852d2d34454f58b4edb532db8d0b78": {
          "model_module": "@jupyter-widgets/controls",
          "model_module_version": "1.5.0",
          "model_name": "HTMLModel",
          "state": {
            "_dom_classes": [],
            "_model_module": "@jupyter-widgets/controls",
            "_model_module_version": "1.5.0",
            "_model_name": "HTMLModel",
            "_view_count": null,
            "_view_module": "@jupyter-widgets/controls",
            "_view_module_version": "1.5.0",
            "_view_name": "HTMLView",
            "description": "",
            "description_tooltip": null,
            "layout": "IPY_MODEL_600c154b36524b06b1cf6ccd71e1555d",
            "placeholder": "​",
            "style": "IPY_MODEL_fb67fbc36a574cf597152a903c82bdec",
            "value": " 4/4 [00:08&lt;00:00,  1.82s/it]"
          }
        },
        "e98dbc08f7ea4a4a9ec8735ef179b5aa": {
          "model_module": "@jupyter-widgets/controls",
          "model_module_version": "1.5.0",
          "model_name": "ProgressStyleModel",
          "state": {
            "_model_module": "@jupyter-widgets/controls",
            "_model_module_version": "1.5.0",
            "_model_name": "ProgressStyleModel",
            "_view_count": null,
            "_view_module": "@jupyter-widgets/base",
            "_view_module_version": "1.2.0",
            "_view_name": "StyleView",
            "bar_color": null,
            "description_width": ""
          }
        },
        "e992051a6851446d913b24ab0eb95da5": {
          "model_module": "@jupyter-widgets/base",
          "model_module_version": "1.2.0",
          "model_name": "LayoutModel",
          "state": {
            "_model_module": "@jupyter-widgets/base",
            "_model_module_version": "1.2.0",
            "_model_name": "LayoutModel",
            "_view_count": null,
            "_view_module": "@jupyter-widgets/base",
            "_view_module_version": "1.2.0",
            "_view_name": "LayoutView",
            "align_content": null,
            "align_items": null,
            "align_self": null,
            "border": null,
            "bottom": null,
            "display": null,
            "flex": null,
            "flex_flow": null,
            "grid_area": null,
            "grid_auto_columns": null,
            "grid_auto_flow": null,
            "grid_auto_rows": null,
            "grid_column": null,
            "grid_gap": null,
            "grid_row": null,
            "grid_template_areas": null,
            "grid_template_columns": null,
            "grid_template_rows": null,
            "height": null,
            "justify_content": null,
            "justify_items": null,
            "left": null,
            "margin": null,
            "max_height": null,
            "max_width": null,
            "min_height": null,
            "min_width": null,
            "object_fit": null,
            "object_position": null,
            "order": null,
            "overflow": null,
            "overflow_x": null,
            "overflow_y": null,
            "padding": null,
            "right": null,
            "top": null,
            "visibility": null,
            "width": null
          }
        },
        "e9aedb8d91e447d5949330dfb30350f7": {
          "model_module": "@jupyter-widgets/controls",
          "model_module_version": "1.5.0",
          "model_name": "DescriptionStyleModel",
          "state": {
            "_model_module": "@jupyter-widgets/controls",
            "_model_module_version": "1.5.0",
            "_model_name": "DescriptionStyleModel",
            "_view_count": null,
            "_view_module": "@jupyter-widgets/base",
            "_view_module_version": "1.2.0",
            "_view_name": "StyleView",
            "description_width": ""
          }
        },
        "ebe491534e2844d5b5207a96b4860ac6": {
          "model_module": "@jupyter-widgets/controls",
          "model_module_version": "1.5.0",
          "model_name": "HBoxModel",
          "state": {
            "_dom_classes": [],
            "_model_module": "@jupyter-widgets/controls",
            "_model_module_version": "1.5.0",
            "_model_name": "HBoxModel",
            "_view_count": null,
            "_view_module": "@jupyter-widgets/controls",
            "_view_module_version": "1.5.0",
            "_view_name": "HBoxView",
            "box_style": "",
            "children": [
              "IPY_MODEL_fecf260d2190463b88798e266cf90f1e",
              "IPY_MODEL_5880eb8e1ccb44ec8eb4e2e1b919dd30",
              "IPY_MODEL_a181834f90ab4643bda02b95c0adf1a1"
            ],
            "layout": "IPY_MODEL_06b5ed4d394e416aab167a99f2a9b305"
          }
        },
        "eea51c478a8741dcb0c3749d0b0ea5a2": {
          "model_module": "@jupyter-widgets/controls",
          "model_module_version": "1.5.0",
          "model_name": "FloatProgressModel",
          "state": {
            "_dom_classes": [],
            "_model_module": "@jupyter-widgets/controls",
            "_model_module_version": "1.5.0",
            "_model_name": "FloatProgressModel",
            "_view_count": null,
            "_view_module": "@jupyter-widgets/controls",
            "_view_module_version": "1.5.0",
            "_view_name": "ProgressView",
            "bar_style": "success",
            "description": "",
            "description_tooltip": null,
            "layout": "IPY_MODEL_468e328822144a13b6d025e839527c9d",
            "max": 4422102,
            "min": 0,
            "orientation": "horizontal",
            "style": "IPY_MODEL_e98dbc08f7ea4a4a9ec8735ef179b5aa",
            "value": 4422102
          }
        },
        "efe24cfb79fd4d78808c4c880b1699c1": {
          "model_module": "@jupyter-widgets/controls",
          "model_module_version": "1.5.0",
          "model_name": "DescriptionStyleModel",
          "state": {
            "_model_module": "@jupyter-widgets/controls",
            "_model_module_version": "1.5.0",
            "_model_name": "DescriptionStyleModel",
            "_view_count": null,
            "_view_module": "@jupyter-widgets/base",
            "_view_module_version": "1.2.0",
            "_view_name": "StyleView",
            "description_width": ""
          }
        },
        "f6182480e90f49d184d5a4b075fd3dd7": {
          "model_module": "@jupyter-widgets/controls",
          "model_module_version": "1.5.0",
          "model_name": "HBoxModel",
          "state": {
            "_dom_classes": [],
            "_model_module": "@jupyter-widgets/controls",
            "_model_module_version": "1.5.0",
            "_model_name": "HBoxModel",
            "_view_count": null,
            "_view_module": "@jupyter-widgets/controls",
            "_view_module_version": "1.5.0",
            "_view_name": "HBoxView",
            "box_style": "",
            "children": [
              "IPY_MODEL_907cefc786674976825d21c5837f0d01",
              "IPY_MODEL_cd16fba2809d4ce8962a9ffd3521d49b",
              "IPY_MODEL_22e199fef2a44c0c88374aa009553b78"
            ],
            "layout": "IPY_MODEL_01657ccc9ab2497897cdb95f82fe4918"
          }
        },
        "f9e0f13f4d24485ea0b4126582277882": {
          "model_module": "@jupyter-widgets/controls",
          "model_module_version": "1.5.0",
          "model_name": "HBoxModel",
          "state": {
            "_dom_classes": [],
            "_model_module": "@jupyter-widgets/controls",
            "_model_module_version": "1.5.0",
            "_model_name": "HBoxModel",
            "_view_count": null,
            "_view_module": "@jupyter-widgets/controls",
            "_view_module_version": "1.5.0",
            "_view_name": "HBoxView",
            "box_style": "",
            "children": [
              "IPY_MODEL_911bb09366b249f1ac3c5f3bbb20392b",
              "IPY_MODEL_2621ef82a8444cbf846154d2cd2e0339",
              "IPY_MODEL_47d0b01a60d043ccb9450f0550ea7dad"
            ],
            "layout": "IPY_MODEL_497bfdaba4fd4d9e934b24d4c88a0664"
          }
        },
        "faf8041a3d934488b0f7f162ab65e087": {
          "model_module": "@jupyter-widgets/base",
          "model_module_version": "1.2.0",
          "model_name": "LayoutModel",
          "state": {
            "_model_module": "@jupyter-widgets/base",
            "_model_module_version": "1.2.0",
            "_model_name": "LayoutModel",
            "_view_count": null,
            "_view_module": "@jupyter-widgets/base",
            "_view_module_version": "1.2.0",
            "_view_name": "LayoutView",
            "align_content": null,
            "align_items": null,
            "align_self": null,
            "border": null,
            "bottom": null,
            "display": null,
            "flex": null,
            "flex_flow": null,
            "grid_area": null,
            "grid_auto_columns": null,
            "grid_auto_flow": null,
            "grid_auto_rows": null,
            "grid_column": null,
            "grid_gap": null,
            "grid_row": null,
            "grid_template_areas": null,
            "grid_template_columns": null,
            "grid_template_rows": null,
            "height": null,
            "justify_content": null,
            "justify_items": null,
            "left": null,
            "margin": null,
            "max_height": null,
            "max_width": null,
            "min_height": null,
            "min_width": null,
            "object_fit": null,
            "object_position": null,
            "order": null,
            "overflow": null,
            "overflow_x": null,
            "overflow_y": null,
            "padding": null,
            "right": null,
            "top": null,
            "visibility": null,
            "width": null
          }
        },
        "fb67fbc36a574cf597152a903c82bdec": {
          "model_module": "@jupyter-widgets/controls",
          "model_module_version": "1.5.0",
          "model_name": "DescriptionStyleModel",
          "state": {
            "_model_module": "@jupyter-widgets/controls",
            "_model_module_version": "1.5.0",
            "_model_name": "DescriptionStyleModel",
            "_view_count": null,
            "_view_module": "@jupyter-widgets/base",
            "_view_module_version": "1.2.0",
            "_view_name": "StyleView",
            "description_width": ""
          }
        },
        "fcca21d1a1da45b390bc0b3769a545d1": {
          "model_module": "@jupyter-widgets/base",
          "model_module_version": "1.2.0",
          "model_name": "LayoutModel",
          "state": {
            "_model_module": "@jupyter-widgets/base",
            "_model_module_version": "1.2.0",
            "_model_name": "LayoutModel",
            "_view_count": null,
            "_view_module": "@jupyter-widgets/base",
            "_view_module_version": "1.2.0",
            "_view_name": "LayoutView",
            "align_content": null,
            "align_items": null,
            "align_self": null,
            "border": null,
            "bottom": null,
            "display": null,
            "flex": null,
            "flex_flow": null,
            "grid_area": null,
            "grid_auto_columns": null,
            "grid_auto_flow": null,
            "grid_auto_rows": null,
            "grid_column": null,
            "grid_gap": null,
            "grid_row": null,
            "grid_template_areas": null,
            "grid_template_columns": null,
            "grid_template_rows": null,
            "height": null,
            "justify_content": null,
            "justify_items": null,
            "left": null,
            "margin": null,
            "max_height": null,
            "max_width": null,
            "min_height": null,
            "min_width": null,
            "object_fit": null,
            "object_position": null,
            "order": null,
            "overflow": null,
            "overflow_x": null,
            "overflow_y": null,
            "padding": null,
            "right": null,
            "top": null,
            "visibility": null,
            "width": null
          }
        },
        "fd5dd85519e64498a4d72563b66cf728": {
          "model_module": "@jupyter-widgets/controls",
          "model_module_version": "1.5.0",
          "model_name": "HBoxModel",
          "state": {
            "_dom_classes": [],
            "_model_module": "@jupyter-widgets/controls",
            "_model_module_version": "1.5.0",
            "_model_name": "HBoxModel",
            "_view_count": null,
            "_view_module": "@jupyter-widgets/controls",
            "_view_module_version": "1.5.0",
            "_view_name": "HBoxView",
            "box_style": "",
            "children": [
              "IPY_MODEL_0cdc9089627b4f27ad51eca3a50f5b95",
              "IPY_MODEL_ba95af530812473f85f639d546c93d73",
              "IPY_MODEL_8987d2eafd75479badc6c395bbf0557e"
            ],
            "layout": "IPY_MODEL_fcca21d1a1da45b390bc0b3769a545d1"
          }
        },
        "fecf260d2190463b88798e266cf90f1e": {
          "model_module": "@jupyter-widgets/controls",
          "model_module_version": "1.5.0",
          "model_name": "HTMLModel",
          "state": {
            "_dom_classes": [],
            "_model_module": "@jupyter-widgets/controls",
            "_model_module_version": "1.5.0",
            "_model_name": "HTMLModel",
            "_view_count": null,
            "_view_module": "@jupyter-widgets/controls",
            "_view_module_version": "1.5.0",
            "_view_name": "HTMLView",
            "description": "",
            "description_tooltip": null,
            "layout": "IPY_MODEL_158978d32a284ed6b78e8603d3b04ac4",
            "placeholder": "​",
            "style": "IPY_MODEL_4b74cd2dd6034b748f543ec785582fff",
            "value": "Generating train split: 100%"
          }
        },
        "fed5864f19ee47b5bb7b6eb0a727a01f": {
          "model_module": "@jupyter-widgets/base",
          "model_module_version": "1.2.0",
          "model_name": "LayoutModel",
          "state": {
            "_model_module": "@jupyter-widgets/base",
            "_model_module_version": "1.2.0",
            "_model_name": "LayoutModel",
            "_view_count": null,
            "_view_module": "@jupyter-widgets/base",
            "_view_module_version": "1.2.0",
            "_view_name": "LayoutView",
            "align_content": null,
            "align_items": null,
            "align_self": null,
            "border": null,
            "bottom": null,
            "display": null,
            "flex": null,
            "flex_flow": null,
            "grid_area": null,
            "grid_auto_columns": null,
            "grid_auto_flow": null,
            "grid_auto_rows": null,
            "grid_column": null,
            "grid_gap": null,
            "grid_row": null,
            "grid_template_areas": null,
            "grid_template_columns": null,
            "grid_template_rows": null,
            "height": null,
            "justify_content": null,
            "justify_items": null,
            "left": null,
            "margin": null,
            "max_height": null,
            "max_width": null,
            "min_height": null,
            "min_width": null,
            "object_fit": null,
            "object_position": null,
            "order": null,
            "overflow": null,
            "overflow_x": null,
            "overflow_y": null,
            "padding": null,
            "right": null,
            "top": null,
            "visibility": null,
            "width": null
          }
        }
      }
    }
  },
  "nbformat": 4,
  "nbformat_minor": 0
}
