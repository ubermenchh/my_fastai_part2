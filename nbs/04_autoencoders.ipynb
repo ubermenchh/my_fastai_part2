{
  "nbformat": 4,
  "nbformat_minor": 0,
  "metadata": {
    "colab": {
      "provenance": [],
      "gpuType": "T4"
    },
    "kernelspec": {
      "name": "python3",
      "display_name": "Python 3"
    },
    "language_info": {
      "name": "python"
    },
    "accelerator": "GPU",
    "widgets": {
      "application/vnd.jupyter.widget-state+json": {
        "93c1219f433241a7892af7e6e3e9ddb8": {
          "model_module": "@jupyter-widgets/controls",
          "model_name": "HBoxModel",
          "model_module_version": "1.5.0",
          "state": {
            "_dom_classes": [],
            "_model_module": "@jupyter-widgets/controls",
            "_model_module_version": "1.5.0",
            "_model_name": "HBoxModel",
            "_view_count": null,
            "_view_module": "@jupyter-widgets/controls",
            "_view_module_version": "1.5.0",
            "_view_name": "HBoxView",
            "box_style": "",
            "children": [
              "IPY_MODEL_2d1dbd85dc454ff3b433efc21eb2984d",
              "IPY_MODEL_b3268155f71b45f1be91571fda7e4130",
              "IPY_MODEL_fc0ce2a35bf94a679b0ddc5251f60549"
            ],
            "layout": "IPY_MODEL_aa85d4b4479746a7b5496e2ffa45553f"
          }
        },
        "2d1dbd85dc454ff3b433efc21eb2984d": {
          "model_module": "@jupyter-widgets/controls",
          "model_name": "HTMLModel",
          "model_module_version": "1.5.0",
          "state": {
            "_dom_classes": [],
            "_model_module": "@jupyter-widgets/controls",
            "_model_module_version": "1.5.0",
            "_model_name": "HTMLModel",
            "_view_count": null,
            "_view_module": "@jupyter-widgets/controls",
            "_view_module_version": "1.5.0",
            "_view_name": "HTMLView",
            "description": "",
            "description_tooltip": null,
            "layout": "IPY_MODEL_6837ac0931ef422197f599431c1d037f",
            "placeholder": "​",
            "style": "IPY_MODEL_b84e8169c2a74a04a98d830406a749d8",
            "value": "100%"
          }
        },
        "b3268155f71b45f1be91571fda7e4130": {
          "model_module": "@jupyter-widgets/controls",
          "model_name": "FloatProgressModel",
          "model_module_version": "1.5.0",
          "state": {
            "_dom_classes": [],
            "_model_module": "@jupyter-widgets/controls",
            "_model_module_version": "1.5.0",
            "_model_name": "FloatProgressModel",
            "_view_count": null,
            "_view_module": "@jupyter-widgets/controls",
            "_view_module_version": "1.5.0",
            "_view_name": "ProgressView",
            "bar_style": "success",
            "description": "",
            "description_tooltip": null,
            "layout": "IPY_MODEL_8903f5f7c18c45e28f6802a964aea198",
            "max": 2,
            "min": 0,
            "orientation": "horizontal",
            "style": "IPY_MODEL_5f6da252ac4c4b5ab182bdd6a833e751",
            "value": 2
          }
        },
        "fc0ce2a35bf94a679b0ddc5251f60549": {
          "model_module": "@jupyter-widgets/controls",
          "model_name": "HTMLModel",
          "model_module_version": "1.5.0",
          "state": {
            "_dom_classes": [],
            "_model_module": "@jupyter-widgets/controls",
            "_model_module_version": "1.5.0",
            "_model_name": "HTMLModel",
            "_view_count": null,
            "_view_module": "@jupyter-widgets/controls",
            "_view_module_version": "1.5.0",
            "_view_name": "HTMLView",
            "description": "",
            "description_tooltip": null,
            "layout": "IPY_MODEL_83adbf6d1ff44c4088ce2bf47bf2f304",
            "placeholder": "​",
            "style": "IPY_MODEL_1fecb697402247eab4c1c06174e07c88",
            "value": " 2/2 [00:00&lt;00:00, 78.75it/s]"
          }
        },
        "aa85d4b4479746a7b5496e2ffa45553f": {
          "model_module": "@jupyter-widgets/base",
          "model_name": "LayoutModel",
          "model_module_version": "1.2.0",
          "state": {
            "_model_module": "@jupyter-widgets/base",
            "_model_module_version": "1.2.0",
            "_model_name": "LayoutModel",
            "_view_count": null,
            "_view_module": "@jupyter-widgets/base",
            "_view_module_version": "1.2.0",
            "_view_name": "LayoutView",
            "align_content": null,
            "align_items": null,
            "align_self": null,
            "border": null,
            "bottom": null,
            "display": null,
            "flex": null,
            "flex_flow": null,
            "grid_area": null,
            "grid_auto_columns": null,
            "grid_auto_flow": null,
            "grid_auto_rows": null,
            "grid_column": null,
            "grid_gap": null,
            "grid_row": null,
            "grid_template_areas": null,
            "grid_template_columns": null,
            "grid_template_rows": null,
            "height": null,
            "justify_content": null,
            "justify_items": null,
            "left": null,
            "margin": null,
            "max_height": null,
            "max_width": null,
            "min_height": null,
            "min_width": null,
            "object_fit": null,
            "object_position": null,
            "order": null,
            "overflow": null,
            "overflow_x": null,
            "overflow_y": null,
            "padding": null,
            "right": null,
            "top": null,
            "visibility": null,
            "width": null
          }
        },
        "6837ac0931ef422197f599431c1d037f": {
          "model_module": "@jupyter-widgets/base",
          "model_name": "LayoutModel",
          "model_module_version": "1.2.0",
          "state": {
            "_model_module": "@jupyter-widgets/base",
            "_model_module_version": "1.2.0",
            "_model_name": "LayoutModel",
            "_view_count": null,
            "_view_module": "@jupyter-widgets/base",
            "_view_module_version": "1.2.0",
            "_view_name": "LayoutView",
            "align_content": null,
            "align_items": null,
            "align_self": null,
            "border": null,
            "bottom": null,
            "display": null,
            "flex": null,
            "flex_flow": null,
            "grid_area": null,
            "grid_auto_columns": null,
            "grid_auto_flow": null,
            "grid_auto_rows": null,
            "grid_column": null,
            "grid_gap": null,
            "grid_row": null,
            "grid_template_areas": null,
            "grid_template_columns": null,
            "grid_template_rows": null,
            "height": null,
            "justify_content": null,
            "justify_items": null,
            "left": null,
            "margin": null,
            "max_height": null,
            "max_width": null,
            "min_height": null,
            "min_width": null,
            "object_fit": null,
            "object_position": null,
            "order": null,
            "overflow": null,
            "overflow_x": null,
            "overflow_y": null,
            "padding": null,
            "right": null,
            "top": null,
            "visibility": null,
            "width": null
          }
        },
        "b84e8169c2a74a04a98d830406a749d8": {
          "model_module": "@jupyter-widgets/controls",
          "model_name": "DescriptionStyleModel",
          "model_module_version": "1.5.0",
          "state": {
            "_model_module": "@jupyter-widgets/controls",
            "_model_module_version": "1.5.0",
            "_model_name": "DescriptionStyleModel",
            "_view_count": null,
            "_view_module": "@jupyter-widgets/base",
            "_view_module_version": "1.2.0",
            "_view_name": "StyleView",
            "description_width": ""
          }
        },
        "8903f5f7c18c45e28f6802a964aea198": {
          "model_module": "@jupyter-widgets/base",
          "model_name": "LayoutModel",
          "model_module_version": "1.2.0",
          "state": {
            "_model_module": "@jupyter-widgets/base",
            "_model_module_version": "1.2.0",
            "_model_name": "LayoutModel",
            "_view_count": null,
            "_view_module": "@jupyter-widgets/base",
            "_view_module_version": "1.2.0",
            "_view_name": "LayoutView",
            "align_content": null,
            "align_items": null,
            "align_self": null,
            "border": null,
            "bottom": null,
            "display": null,
            "flex": null,
            "flex_flow": null,
            "grid_area": null,
            "grid_auto_columns": null,
            "grid_auto_flow": null,
            "grid_auto_rows": null,
            "grid_column": null,
            "grid_gap": null,
            "grid_row": null,
            "grid_template_areas": null,
            "grid_template_columns": null,
            "grid_template_rows": null,
            "height": null,
            "justify_content": null,
            "justify_items": null,
            "left": null,
            "margin": null,
            "max_height": null,
            "max_width": null,
            "min_height": null,
            "min_width": null,
            "object_fit": null,
            "object_position": null,
            "order": null,
            "overflow": null,
            "overflow_x": null,
            "overflow_y": null,
            "padding": null,
            "right": null,
            "top": null,
            "visibility": null,
            "width": null
          }
        },
        "5f6da252ac4c4b5ab182bdd6a833e751": {
          "model_module": "@jupyter-widgets/controls",
          "model_name": "ProgressStyleModel",
          "model_module_version": "1.5.0",
          "state": {
            "_model_module": "@jupyter-widgets/controls",
            "_model_module_version": "1.5.0",
            "_model_name": "ProgressStyleModel",
            "_view_count": null,
            "_view_module": "@jupyter-widgets/base",
            "_view_module_version": "1.2.0",
            "_view_name": "StyleView",
            "bar_color": null,
            "description_width": ""
          }
        },
        "83adbf6d1ff44c4088ce2bf47bf2f304": {
          "model_module": "@jupyter-widgets/base",
          "model_name": "LayoutModel",
          "model_module_version": "1.2.0",
          "state": {
            "_model_module": "@jupyter-widgets/base",
            "_model_module_version": "1.2.0",
            "_model_name": "LayoutModel",
            "_view_count": null,
            "_view_module": "@jupyter-widgets/base",
            "_view_module_version": "1.2.0",
            "_view_name": "LayoutView",
            "align_content": null,
            "align_items": null,
            "align_self": null,
            "border": null,
            "bottom": null,
            "display": null,
            "flex": null,
            "flex_flow": null,
            "grid_area": null,
            "grid_auto_columns": null,
            "grid_auto_flow": null,
            "grid_auto_rows": null,
            "grid_column": null,
            "grid_gap": null,
            "grid_row": null,
            "grid_template_areas": null,
            "grid_template_columns": null,
            "grid_template_rows": null,
            "height": null,
            "justify_content": null,
            "justify_items": null,
            "left": null,
            "margin": null,
            "max_height": null,
            "max_width": null,
            "min_height": null,
            "min_width": null,
            "object_fit": null,
            "object_position": null,
            "order": null,
            "overflow": null,
            "overflow_x": null,
            "overflow_y": null,
            "padding": null,
            "right": null,
            "top": null,
            "visibility": null,
            "width": null
          }
        },
        "1fecb697402247eab4c1c06174e07c88": {
          "model_module": "@jupyter-widgets/controls",
          "model_name": "DescriptionStyleModel",
          "model_module_version": "1.5.0",
          "state": {
            "_model_module": "@jupyter-widgets/controls",
            "_model_module_version": "1.5.0",
            "_model_name": "DescriptionStyleModel",
            "_view_count": null,
            "_view_module": "@jupyter-widgets/base",
            "_view_module_version": "1.2.0",
            "_view_name": "StyleView",
            "description_width": ""
          }
        }
      }
    }
  },
  "cells": [
    {
      "cell_type": "code",
      "execution_count": 1,
      "metadata": {
        "colab": {
          "base_uri": "https://localhost:8080/"
        },
        "id": "ErTqdriV1yZW",
        "outputId": "215594ae-174d-49f9-844c-567df81e4716"
      },
      "outputs": [
        {
          "output_type": "stream",
          "name": "stdout",
          "text": [
            "fatal: destination path 'my_fastai_part2' already exists and is not an empty directory.\n",
            "/content/my_fastai_part2\n"
          ]
        }
      ],
      "source": [
        "!git clone https://github.com/ubermenchh/my_fastai_part2.git\n",
        "%cd my_fastai_part2"
      ]
    },
    {
      "cell_type": "code",
      "source": [
        "!pip install -q datasets"
      ],
      "metadata": {
        "id": "MgBwHVHn12wR"
      },
      "execution_count": 2,
      "outputs": []
    },
    {
      "cell_type": "markdown",
      "source": [
        "# Autoencoders"
      ],
      "metadata": {
        "id": "9bYJFOBx19P8"
      }
    },
    {
      "cell_type": "code",
      "source": [
        "import pickle,gzip,math,os,time,shutil,torch,matplotlib as mpl,numpy as np,matplotlib.pyplot as plt\n",
        "import fastcore.all as fc\n",
        "from collections.abc import Mapping\n",
        "from pathlib import Path\n",
        "from operator import attrgetter,itemgetter\n",
        "from functools import partial\n",
        "\n",
        "from torch import tensor,nn,optim\n",
        "from torch.utils.data import DataLoader,default_collate\n",
        "import torch.nn.functional as F\n",
        "import torchvision.transforms.functional as TF\n",
        "from datasets import load_dataset,load_dataset_builder\n",
        "\n",
        "from fastprogress import progress_bar,master_bar\n",
        "from miniai.datasets import *\n",
        "from miniai.training import *\n",
        "from miniai.conv import *"
      ],
      "metadata": {
        "id": "sR4Dws8v1_SP"
      },
      "execution_count": 3,
      "outputs": []
    },
    {
      "cell_type": "code",
      "source": [
        "from fastcore.test import test_close\n",
        "\n",
        "torch.set_printoptions(precision=2, linewidth=140, sci_mode=False)\n",
        "torch.manual_seed(1)\n",
        "mpl.rcParams['image.cmap'] = 'gray'\n",
        "\n",
        "import logging\n",
        "logging.disable(logging.WARNING)"
      ],
      "metadata": {
        "id": "RfRyAAAC2F8T"
      },
      "execution_count": 4,
      "outputs": []
    },
    {
      "cell_type": "markdown",
      "source": [
        "## Data"
      ],
      "metadata": {
        "id": "NlFFBNHp2JvT"
      }
    },
    {
      "cell_type": "code",
      "source": [
        "x, y = 'image', 'label'\n",
        "name = 'fashion_mnist'\n",
        "dsd = load_dataset(name, ignore_verifications=True)"
      ],
      "metadata": {
        "colab": {
          "base_uri": "https://localhost:8080/",
          "height": 121,
          "referenced_widgets": [
            "93c1219f433241a7892af7e6e3e9ddb8",
            "2d1dbd85dc454ff3b433efc21eb2984d",
            "b3268155f71b45f1be91571fda7e4130",
            "fc0ce2a35bf94a679b0ddc5251f60549",
            "aa85d4b4479746a7b5496e2ffa45553f",
            "6837ac0931ef422197f599431c1d037f",
            "b84e8169c2a74a04a98d830406a749d8",
            "8903f5f7c18c45e28f6802a964aea198",
            "5f6da252ac4c4b5ab182bdd6a833e751",
            "83adbf6d1ff44c4088ce2bf47bf2f304",
            "1fecb697402247eab4c1c06174e07c88"
          ]
        },
        "id": "6GOJQx0a2L5b",
        "outputId": "afd99633-e6bd-4e9c-a646-7e7edb69ab90"
      },
      "execution_count": 5,
      "outputs": [
        {
          "output_type": "stream",
          "name": "stderr",
          "text": [
            "/usr/local/lib/python3.10/dist-packages/datasets/load.py:1748: FutureWarning: 'ignore_verifications' was deprecated in favor of 'verification_mode' in version 2.9.1 and will be removed in 3.0.0.\n",
            "You can remove this warning by passing 'verification_mode=no_checks' instead.\n",
            "  warnings.warn(\n"
          ]
        },
        {
          "output_type": "display_data",
          "data": {
            "text/plain": [
              "  0%|          | 0/2 [00:00<?, ?it/s]"
            ],
            "application/vnd.jupyter.widget-view+json": {
              "version_major": 2,
              "version_minor": 0,
              "model_id": "93c1219f433241a7892af7e6e3e9ddb8"
            }
          },
          "metadata": {}
        }
      ]
    },
    {
      "cell_type": "code",
      "source": [
        "@inplace\n",
        "def transformi(b): b[x] = [TF.to_tensor(o) for o in b[x]]"
      ],
      "metadata": {
        "id": "1f7Ws9gX2ONt"
      },
      "execution_count": 6,
      "outputs": []
    },
    {
      "cell_type": "code",
      "source": [
        "bs = 256\n",
        "tds = dsd.with_transform(transformi)"
      ],
      "metadata": {
        "id": "SJVEE6Je2bDG"
      },
      "execution_count": 7,
      "outputs": []
    },
    {
      "cell_type": "code",
      "source": [
        "ds = tds['train']\n",
        "img = ds[0]['image']\n",
        "show_image(img, figsize=(1, 1));"
      ],
      "metadata": {
        "colab": {
          "base_uri": "https://localhost:8080/",
          "height": 114
        },
        "id": "L7KpaQA_2ewH",
        "outputId": "85fc2e4a-d094-4b1b-9928-4f111c7f0651"
      },
      "execution_count": 8,
      "outputs": [
        {
          "output_type": "display_data",
          "data": {
            "text/plain": [
              "<Figure size 100x100 with 1 Axes>"
            ],
            "image/png": "[encoded data removed]"
          },
          "metadata": {}
        }
      ]
    },
    {
      "cell_type": "code",
      "source": [
        "cf = collate_dict(ds)"
      ],
      "metadata": {
        "id": "ghWOIzbx2kPh"
      },
      "execution_count": 9,
      "outputs": []
    },
    {
      "cell_type": "code",
      "source": [
        "def collate_(b): return to_device(cf(b))\n",
        "def data_loaders(dsd, bs, **kwargs):\n",
        "    return {k:DataLoader(v, bs, **kwargs) for k, v in dsd.items()}"
      ],
      "metadata": {
        "id": "1MI1QWuW2oG5"
      },
      "execution_count": 10,
      "outputs": []
    },
    {
      "cell_type": "code",
      "source": [
        "dls = data_loaders(tds, bs, collate_fn=collate_)"
      ],
      "metadata": {
        "id": "OS9SpqOn24rO"
      },
      "execution_count": 11,
      "outputs": []
    },
    {
      "cell_type": "code",
      "source": [
        "dt = dls['train']\n",
        "dv = dls['test']\n",
        "\n",
        "xb, yb = next(iter(dt))"
      ],
      "metadata": {
        "id": "PppQA5QT29zt"
      },
      "execution_count": 12,
      "outputs": []
    },
    {
      "cell_type": "code",
      "source": [
        "labels = ds.features[y].names"
      ],
      "metadata": {
        "id": "VPqZPyEK3CjR"
      },
      "execution_count": 13,
      "outputs": []
    },
    {
      "cell_type": "code",
      "source": [
        "labels"
      ],
      "metadata": {
        "colab": {
          "base_uri": "https://localhost:8080/"
        },
        "id": "d_4YN_pK3FcM",
        "outputId": "108feeb3-7f35-4b13-dc76-887675970233"
      },
      "execution_count": 14,
      "outputs": [
        {
          "output_type": "execute_result",
          "data": {
            "text/plain": [
              "['T - shirt / top',\n",
              " 'Trouser',\n",
              " 'Pullover',\n",
              " 'Dress',\n",
              " 'Coat',\n",
              " 'Sandal',\n",
              " 'Shirt',\n",
              " 'Sneaker',\n",
              " 'Bag',\n",
              " 'Ankle boot']"
            ]
          },
          "metadata": {},
          "execution_count": 14
        }
      ]
    },
    {
      "cell_type": "code",
      "source": [
        "lbl_getter = itemgetter(*yb[:16])\n",
        "titles = lbl_getter(labels)"
      ],
      "metadata": {
        "id": "E3AYoMS33FyI"
      },
      "execution_count": 15,
      "outputs": []
    },
    {
      "cell_type": "code",
      "source": [
        "mpl.rcParams['figure.dpi'] = 100\n",
        "show_images(xb[:16], imsize=1.7, titles=titles)"
      ],
      "metadata": {
        "colab": {
          "base_uri": "https://localhost:8080/",
          "height": 582
        },
        "id": "cEaex6ve3LtD",
        "outputId": "cba3d94d-6e19-4244-e46e-ff6800451544"
      },
      "execution_count": 16,
      "outputs": [
        {
          "output_type": "display_data",
          "data": {
            "text/plain": [
              "<Figure size 680x680 with 16 Axes>"
            ],
            "image/png": "[encoded data removed]"
          },
          "metadata": {}
        }
      ]
    },
    {
      "cell_type": "markdown",
      "source": [
        "## Classify"
      ],
      "metadata": {
        "id": "VueOMOvl3e5D"
      }
    },
    {
      "cell_type": "code",
      "source": [
        "from torch import optim"
      ],
      "metadata": {
        "id": "88RPHO3n32vD"
      },
      "execution_count": 17,
      "outputs": []
    },
    {
      "cell_type": "code",
      "source": [
        "bs = 256\n",
        "lr = 0.4"
      ],
      "metadata": {
        "id": "vhI1w7n134kj"
      },
      "execution_count": 18,
      "outputs": []
    },
    {
      "cell_type": "code",
      "source": [
        "cnn = nn.Sequential(\n",
        "    conv(1, 4),             # 14x14\n",
        "    conv(4, 8),             # 7x7\n",
        "    conv(8, 16),            # 4x4\n",
        "    conv(16, 16),           # 2x2\n",
        "    conv(16, 10, act=False),\n",
        "    nn.Flatten()\n",
        ").to(def_device)"
      ],
      "metadata": {
        "id": "hbKv0obY368o"
      },
      "execution_count": 19,
      "outputs": []
    },
    {
      "cell_type": "code",
      "source": [
        "opt = optim.SGD(cnn.parameters(), lr=lr)\n",
        "loss, acc = fit(5, cnn, F.cross_entropy, opt, dt, dv)"
      ],
      "metadata": {
        "colab": {
          "base_uri": "https://localhost:8080/"
        },
        "id": "CZ_Xq-Tf4M5y",
        "outputId": "b0ab16e0-0f34-4b95-f59b-5515d9282f9d"
      },
      "execution_count": 20,
      "outputs": [
        {
          "output_type": "stream",
          "name": "stdout",
          "text": [
            "0 0.746326738834381 0.7322\n",
            "1 0.5422051578521728 0.8115\n",
            "2 0.471528151845932 0.8362\n",
            "3 0.44919379682540894 0.8432\n",
            "4 0.43685541505813597 0.8496\n"
          ]
        }
      ]
    },
    {
      "cell_type": "code",
      "source": [
        "dsd['train'][0]"
      ],
      "metadata": {
        "colab": {
          "base_uri": "https://localhost:8080/"
        },
        "id": "i_LSyvoG4WI4",
        "outputId": "405ac9ce-ff79-4de8-8efe-176276e35312"
      },
      "execution_count": 21,
      "outputs": [
        {
          "output_type": "execute_result",
          "data": {
            "text/plain": [
              "{'image': <PIL.PngImagePlugin.PngImageFile image mode=L size=28x28 at 0x7F87A1430D30>,\n",
              " 'label': 9}"
            ]
          },
          "metadata": {},
          "execution_count": 21
        }
      ]
    },
    {
      "cell_type": "markdown",
      "source": [
        "## Autoencoders"
      ],
      "metadata": {
        "id": "WRXLsonL4XlW"
      }
    },
    {
      "cell_type": "code",
      "source": [
        "def deconv(ni, nf, ks=3, act=True):\n",
        "    layers = [nn.UpsamplingNearest2d(scale_factor=2),\n",
        "              nn.Conv2d(ni, nf, stride=1, kernel_size=ks, padding=ks//2)]\n",
        "    if act: layers.append(nn.ReLU())\n",
        "    return nn.Sequential(*layers)"
      ],
      "metadata": {
        "id": "an0JBPVJ4asY"
      },
      "execution_count": 22,
      "outputs": []
    },
    {
      "cell_type": "markdown",
      "source": [
        "### `deconv`\n",
        "- constructs a sequential neural network module for performing deconvolution.\n",
        "- `layers` variable has two layers:\n",
        "    - `nn.UpsamplingNearest2d`, which performs nearest-neighbot upsampling of the input tensor by a scale factor. This helps in upsampling the resolution of the feature maps.\n",
        "    - `nn.Con2d`, performs 2D convolution on the input tensor. The padding here ensures that the output has the same spatial dimensions as the input.\n",
        "- If the `act` flag is `True`, `nn.ReLU()` is appended to the `layers` list, which applies the rectified linear unit activation function to the output of the convolution.\n",
        "- Function returns a sequential container (`nn.Sequential`) that consists of the layers defined in the `layers` list.\n",
        "- `*` operator is used to unpack the `layers` list as individual arguments to the `nn.Sequential` constructor."
      ],
      "metadata": {
        "id": "MGcxzvnS4sHO"
      }
    },
    {
      "cell_type": "code",
      "source": [
        "p = torch.arange(1, 5, dtype=torch.float32).view(1,1,2,2)\n",
        "up = nn.UpsamplingNearest2d(scale_factor=2)\n",
        "p, up(p)"
      ],
      "metadata": {
        "colab": {
          "base_uri": "https://localhost:8080/"
        },
        "id": "vcdTrbZC-iDp",
        "outputId": "be026668-e365-47cf-9939-60f08bb44ed0"
      },
      "execution_count": 23,
      "outputs": [
        {
          "output_type": "execute_result",
          "data": {
            "text/plain": [
              "(tensor([[[[1., 2.],\n",
              "           [3., 4.]]]]),\n",
              " tensor([[[[1., 1., 2., 2.],\n",
              "           [1., 1., 2., 2.],\n",
              "           [3., 3., 4., 4.],\n",
              "           [3., 3., 4., 4.]]]]))"
            ]
          },
          "metadata": {},
          "execution_count": 23
        }
      ]
    },
    {
      "cell_type": "code",
      "source": [
        "def eval(model, loss_func, valid_dl, epoch=0):\n",
        "    model.eval()\n",
        "    with torch.no_grad():\n",
        "        tot_loss, count = 0., 0\n",
        "        for xb, _ in valid_dl:\n",
        "            pred = model(xb)\n",
        "            n = len(xb)\n",
        "            count += n\n",
        "            tot_loss += loss_func(pred, xb).item() * n\n",
        "    print(epoch, f'{tot_loss / count:.3f}')"
      ],
      "metadata": {
        "id": "OhDnZOdp-27l"
      },
      "execution_count": 24,
      "outputs": []
    },
    {
      "cell_type": "code",
      "source": [
        "def fit(epochs, model, loss_func, opt, train_dl, valid_dl):\n",
        "    for epoch in range(epochs):\n",
        "        model.train()\n",
        "        for xb, _ in train_dl:\n",
        "            loss = loss_func(model(xb), xb)\n",
        "            loss.backward()\n",
        "            opt.step()\n",
        "            opt.zero_grad()\n",
        "        eval(model, loss_func, valid_dl, epoch)"
      ],
      "metadata": {
        "id": "aMTgZt9N_R2O"
      },
      "execution_count": 25,
      "outputs": []
    },
    {
      "cell_type": "code",
      "source": [
        "ae = nn.Sequential(             # 28x28\n",
        "    nn.ZeroPad2d(2),            # 32x32\n",
        "    conv(1, 2),                 # 16x16\n",
        "    conv(2, 4),                 # 8x8\n",
        "    # conv(4, 8),\n",
        "    # deconv(8, 4),\n",
        "                                deconv(4, 2),                 # 16x16\n",
        "    deconv(2, 1, act=False),      # 32x32\n",
        "    nn.ZeroPad2d(-2),           # 28x28\n",
        "    nn.Sigmoid()\n",
        ").to(def_device)"
      ],
      "metadata": {
        "id": "u99ybMRC_WK7"
      },
      "execution_count": 36,
      "outputs": []
    },
    {
      "cell_type": "code",
      "source": [
        "eval(ae, F.mse_loss, dv)"
      ],
      "metadata": {
        "colab": {
          "base_uri": "https://localhost:8080/"
        },
        "id": "O0sseosgAEhr",
        "outputId": "faf68152-8bba-49f8-bc4f-fac46c77e257"
      },
      "execution_count": 37,
      "outputs": [
        {
          "output_type": "stream",
          "name": "stdout",
          "text": [
            "0 0.203\n"
          ]
        }
      ]
    },
    {
      "cell_type": "code",
      "source": [
        "opt = optim.SGD(ae.parameters(), lr=0.04)\n",
        "fit(10, ae, F.mse_loss, opt, dt, dv)"
      ],
      "metadata": {
        "colab": {
          "base_uri": "https://localhost:8080/"
        },
        "id": "0rsUsv7_AG5p",
        "outputId": "3132967e-e964-476d-fd3b-28f8b44b8952"
      },
      "execution_count": 38,
      "outputs": [
        {
          "output_type": "stream",
          "name": "stdout",
          "text": [
            "0 0.107\n",
            "1 0.064\n",
            "2 0.046\n",
            "3 0.038\n",
            "4 0.034\n",
            "5 0.032\n",
            "6 0.031\n",
            "7 0.030\n",
            "8 0.029\n",
            "9 0.028\n"
          ]
        }
      ]
    },
    {
      "cell_type": "code",
      "source": [
        "opt = optim.SGD(ae.parameters(), lr=0.01)\n",
        "fit(10, ae, F.mse_loss, opt, dt, dv)"
      ],
      "metadata": {
        "colab": {
          "base_uri": "https://localhost:8080/"
        },
        "id": "kGFxVrJpBHyZ",
        "outputId": "f47acf8d-27f4-469f-8306-a90c2801f709"
      },
      "execution_count": 43,
      "outputs": [
        {
          "output_type": "stream",
          "name": "stdout",
          "text": [
            "0 0.018\n",
            "1 0.018\n",
            "2 0.018\n",
            "3 0.018\n",
            "4 0.018\n",
            "5 0.018\n",
            "6 0.018\n",
            "7 0.018\n",
            "8 0.018\n",
            "9 0.018\n"
          ]
        }
      ]
    },
    {
      "cell_type": "code",
      "source": [
        "p = ae(xb)\n",
        "show_images(p[:16].data.cpu(), imsize=1.5)"
      ],
      "metadata": {
        "colab": {
          "base_uri": "https://localhost:8080/",
          "height": 499
        },
        "id": "5BZiWoKKBPbk",
        "outputId": "b6c0fafe-d7db-4210-cad6-10ece355a9a9"
      },
      "execution_count": 44,
      "outputs": [
        {
          "output_type": "display_data",
          "data": {
            "text/plain": [
              "<Figure size 600x600 with 16 Axes>"
            ],
            "image/png": "[encoded data removed]"
          },
          "metadata": {}
        }
      ]
    },
    {
      "cell_type": "code",
      "source": [
        "show_images(xb[:16].data.cpu(), imsize=1.5)"
      ],
      "metadata": {
        "colab": {
          "base_uri": "https://localhost:8080/",
          "height": 499
        },
        "id": "N1WrwH6qBWot",
        "outputId": "d17538d8-813c-476a-db88-82a89dc09945"
      },
      "execution_count": 45,
      "outputs": [
        {
          "output_type": "display_data",
          "data": {
            "text/plain": [
              "<Figure size 600x600 with 16 Axes>"
            ],
            "image/png": "[encoded data removed]"
          },
          "metadata": {}
        }
      ]
    },
    {
      "cell_type": "code",
      "source": [],
      "metadata": {
        "id": "2RWIRXKBF6rP"
      },
      "execution_count": null,
      "outputs": []
    }
  ]
}