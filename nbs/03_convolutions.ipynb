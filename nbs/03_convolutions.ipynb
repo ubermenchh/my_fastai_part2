{
  "cells": [
    {
      "cell_type": "code",
      "execution_count": 4,
      "metadata": {
        "id": "JY4AzpQo9oPq"
      },
      "outputs": [],
      "source": [
        "#| default_exp conv"
      ]
    },
    {
      "attachments": {},
      "cell_type": "markdown",
      "metadata": {
        "id": "T5aXsF4c94Pj"
      },
      "source": [
        "# Convolutions"
      ]
    },
    {
      "cell_type": "code",
      "execution_count": 10,
      "metadata": {
        "id": "0xBHkhWu97t5"
      },
      "outputs": [],
      "source": [
        "#| export\n",
        "import torch\n",
        "from torch import nn\n",
        "\n",
        "from torch.utils.data import default_collate\n",
        "from typing import Mapping\n",
        "\n",
        "from miniai.training import *\n",
        "from miniai.datasets import *"
      ]
    },
    {
      "cell_type": "code",
      "execution_count": 12,
      "metadata": {
        "id": "6Hlf6CUo-sxY"
      },
      "outputs": [],
      "source": [
        "import pickle, gzip, math, os, time, shutil, torch, matplotlib as mpl, numpy as np\n",
        "import pandas as pd, matplotlib.pyplot as plt\n",
        "from pathlib import Path\n",
        "from torch import tensor\n",
        "\n",
        "from torch.utils.data import DataLoader"
      ]
    },
    {
      "cell_type": "code",
      "execution_count": 13,
      "metadata": {
        "id": "CgOZYCUD_FTj"
      },
      "outputs": [],
      "source": [
        "mpl.rcParams['image.cmap'] = 'gray'"
      ]
    },
    {
      "attachments": {},
      "cell_type": "markdown",
      "metadata": {
        "id": "S3ncXbtD_ceg"
      },
      "source": [
        "- Above code snippet it instructing Matplotlib to use the grayscale colormap by deafult.\n",
        "- This means that when plotting an image it will be displayed in shades of gray, where darker shades represent lower pixel valuad and lighter shades represent higher pixel values."
      ]
    },
    {
      "cell_type": "code",
      "execution_count": 15,
      "metadata": {
        "id": "Z0ZtgEtL_I61"
      },
      "outputs": [],
      "source": [
        "path_data = Path('data')\n",
        "path_gz = path_data/'mnist.pkl.gz'\n",
        "with gzip.open(path_gz, 'rb') as f: ((x_train, y_train), (x_valid, y_valid), _) = pickle.load(f, encoding='latin-1')\n",
        "x_train, y_train, x_valid, y_valid = map(tensor, [x_train, y_train, x_valid, y_valid])"
      ]
    },
    {
      "attachments": {},
      "cell_type": "markdown",
      "metadata": {
        "id": "KEQEE19lASQQ"
      },
      "source": [
        "## Understanding the Convolution Equations"
      ]
    },
    {
      "cell_type": "code",
      "execution_count": 16,
      "metadata": {
        "id": "VOLA7RY8CAu1"
      },
      "outputs": [],
      "source": [
        "x_imgs = x_train.view(-1, 28, 28)\n",
        "xv_imgs = x_valid.view(-1, 28, 28)"
      ]
    },
    {
      "cell_type": "code",
      "execution_count": 17,
      "metadata": {
        "id": "2bU3tpSSCH7Q"
      },
      "outputs": [],
      "source": [
        "mpl.rcParams['figure.dpi'] = 30"
      ]
    },
    {
      "attachments": {},
      "cell_type": "markdown",
      "metadata": {
        "id": "Umor7ymeCLn-"
      },
      "source": [
        "- above code is used to set the DPI(dots per inch) for figures in matplotlib.\n",
        "- DPI value determines the resolution of the figures when they are saved or displayer.\n",
        "- A higher DPI value typically results in higher resolution and clearer figures, but it can also increare the file size of saved images."
      ]
    },
    {
      "cell_type": "code",
      "execution_count": 18,
      "metadata": {
        "colab": {
          "base_uri": "https://localhost:8080/",
          "height": 133
        },
        "id": "GHznMwCfDMyO",
        "outputId": "456d3c88-1d5d-4611-a7f1-c15ae13d5dd1"
      },
      "outputs": [
        {
          "data": {
            "image/png": "[encoded data removed]",
            "text/plain": [
              "<Figure size 192x144 with 1 Axes>"
            ]
          },
          "metadata": {},
          "output_type": "display_data"
        }
      ],
      "source": [
        "im3 = x_imgs[7]\n",
        "show_image(im3);"
      ]
    },
    {
      "cell_type": "code",
      "execution_count": 19,
      "metadata": {
        "colab": {
          "base_uri": "https://localhost:8080/",
          "height": 133
        },
        "id": "DVCN7sc9DSF7",
        "outputId": "3ae34b1b-486c-453d-ae48-d56ca3088088"
      },
      "outputs": [
        {
          "data": {
            "image/png": "[encoded data removed]",
            "text/plain": [
              "<Figure size 192x144 with 1 Axes>"
            ]
          },
          "metadata": {},
          "output_type": "display_data"
        }
      ],
      "source": [
        "top_edge = tensor([[-1, -1, -1],\n",
        "                   [0, 0, 0],\n",
        "                   [1, 1, 1]]).float()\n",
        "show_image(top_edge, noframe=False);"
      ]
    },
    {
      "cell_type": "code",
      "execution_count": 21,
      "metadata": {
        "colab": {
          "base_uri": "https://localhost:8080/",
          "height": 947
        },
        "id": "L3dDHfHpDeL5",
        "outputId": "ade5bb10-30dd-4a84-9462-fe97933ccbe5"
      },
      "outputs": [
        {
          "data": {
            "text/html": [
              "<style type=\"text/css\">\n",
              "#T_337a6_row0_col0, #T_337a6_row0_col1, #T_337a6_row0_col2, #T_337a6_row0_col3, #T_337a6_row0_col4, #T_337a6_row0_col5, #T_337a6_row0_col6, #T_337a6_row0_col7, #T_337a6_row0_col8, #T_337a6_row0_col9, #T_337a6_row0_col10, #T_337a6_row0_col11, #T_337a6_row0_col12, #T_337a6_row0_col13, #T_337a6_row0_col14, #T_337a6_row0_col15, #T_337a6_row0_col16, #T_337a6_row0_col17, #T_337a6_row0_col18, #T_337a6_row0_col19, #T_337a6_row0_col20, #T_337a6_row0_col21, #T_337a6_row0_col22, #T_337a6_row0_col23, #T_337a6_row0_col24, #T_337a6_row0_col25, #T_337a6_row0_col26, #T_337a6_row0_col27, #T_337a6_row1_col0, #T_337a6_row1_col1, #T_337a6_row1_col2, #T_337a6_row1_col3, #T_337a6_row1_col4, #T_337a6_row1_col5, #T_337a6_row1_col6, #T_337a6_row1_col7, #T_337a6_row1_col8, #T_337a6_row1_col9, #T_337a6_row1_col10, #T_337a6_row1_col11, #T_337a6_row1_col12, #T_337a6_row1_col13, #T_337a6_row1_col14, #T_337a6_row1_col15, #T_337a6_row1_col16, #T_337a6_row1_col17, #T_337a6_row1_col18, #T_337a6_row1_col19, #T_337a6_row1_col20, #T_337a6_row1_col21, #T_337a6_row1_col22, #T_337a6_row1_col23, #T_337a6_row1_col24, #T_337a6_row1_col25, #T_337a6_row1_col26, #T_337a6_row1_col27, #T_337a6_row2_col0, #T_337a6_row2_col1, #T_337a6_row2_col2, #T_337a6_row2_col3, #T_337a6_row2_col4, #T_337a6_row2_col5, #T_337a6_row2_col6, #T_337a6_row2_col7, #T_337a6_row2_col8, #T_337a6_row2_col9, #T_337a6_row2_col10, #T_337a6_row2_col11, #T_337a6_row2_col12, #T_337a6_row2_col13, #T_337a6_row2_col14, #T_337a6_row2_col15, #T_337a6_row2_col16, #T_337a6_row2_col17, #T_337a6_row2_col18, #T_337a6_row2_col19, #T_337a6_row2_col20, #T_337a6_row2_col21, #T_337a6_row2_col22, #T_337a6_row2_col23, #T_337a6_row2_col24, #T_337a6_row2_col25, #T_337a6_row2_col26, #T_337a6_row2_col27, #T_337a6_row3_col0, #T_337a6_row3_col1, #T_337a6_row3_col2, #T_337a6_row3_col3, #T_337a6_row3_col4, #T_337a6_row3_col5, #T_337a6_row3_col6, #T_337a6_row3_col7, #T_337a6_row3_col8, #T_337a6_row3_col9, #T_337a6_row3_col10, #T_337a6_row3_col11, #T_337a6_row3_col12, #T_337a6_row3_col13, #T_337a6_row3_col14, #T_337a6_row3_col15, #T_337a6_row3_col16, #T_337a6_row3_col17, #T_337a6_row3_col18, #T_337a6_row3_col19, #T_337a6_row3_col20, #T_337a6_row3_col21, #T_337a6_row3_col22, #T_337a6_row3_col23, #T_337a6_row3_col24, #T_337a6_row3_col25, #T_337a6_row3_col26, #T_337a6_row3_col27, #T_337a6_row4_col0, #T_337a6_row4_col1, #T_337a6_row4_col2, #T_337a6_row4_col3, #T_337a6_row4_col4, #T_337a6_row4_col5, #T_337a6_row4_col6, #T_337a6_row4_col7, #T_337a6_row4_col8, #T_337a6_row4_col9, #T_337a6_row4_col10, #T_337a6_row4_col11, #T_337a6_row4_col12, #T_337a6_row4_col13, #T_337a6_row4_col14, #T_337a6_row4_col15, #T_337a6_row4_col16, #T_337a6_row4_col17, #T_337a6_row4_col18, #T_337a6_row4_col19, #T_337a6_row4_col20, #T_337a6_row4_col21, #T_337a6_row4_col22, #T_337a6_row4_col23, #T_337a6_row4_col24, #T_337a6_row4_col25, #T_337a6_row4_col26, #T_337a6_row4_col27, #T_337a6_row5_col0, #T_337a6_row5_col1, #T_337a6_row5_col2, #T_337a6_row5_col3, #T_337a6_row5_col4, #T_337a6_row5_col5, #T_337a6_row5_col6, #T_337a6_row5_col7, #T_337a6_row5_col8, #T_337a6_row5_col9, #T_337a6_row5_col10, #T_337a6_row5_col22, #T_337a6_row5_col23, #T_337a6_row5_col24, #T_337a6_row5_col25, #T_337a6_row5_col26, #T_337a6_row5_col27, #T_337a6_row6_col0, #T_337a6_row6_col1, #T_337a6_row6_col2, #T_337a6_row6_col3, #T_337a6_row6_col4, #T_337a6_row6_col5, #T_337a6_row6_col6, #T_337a6_row6_col7, #T_337a6_row6_col8, #T_337a6_row6_col23, #T_337a6_row6_col24, #T_337a6_row6_col25, #T_337a6_row6_col26, #T_337a6_row6_col27, #T_337a6_row7_col0, #T_337a6_row7_col1, #T_337a6_row7_col2, #T_337a6_row7_col3, #T_337a6_row7_col4, #T_337a6_row7_col5, #T_337a6_row7_col6, #T_337a6_row7_col7, #T_337a6_row7_col8, #T_337a6_row7_col23, #T_337a6_row7_col24, #T_337a6_row7_col25, #T_337a6_row7_col26, #T_337a6_row7_col27, #T_337a6_row8_col0, #T_337a6_row8_col1, #T_337a6_row8_col2, #T_337a6_row8_col3, #T_337a6_row8_col4, #T_337a6_row8_col5, #T_337a6_row8_col6, #T_337a6_row8_col7, #T_337a6_row8_col8, #T_337a6_row8_col23, #T_337a6_row8_col24, #T_337a6_row8_col25, #T_337a6_row8_col26, #T_337a6_row8_col27, #T_337a6_row9_col0, #T_337a6_row9_col1, #T_337a6_row9_col2, #T_337a6_row9_col3, #T_337a6_row9_col4, #T_337a6_row9_col5, #T_337a6_row9_col6, #T_337a6_row9_col7, #T_337a6_row9_col8, #T_337a6_row9_col13, #T_337a6_row9_col14, #T_337a6_row9_col15, #T_337a6_row9_col16, #T_337a6_row9_col23, #T_337a6_row9_col24, #T_337a6_row9_col25, #T_337a6_row9_col26, #T_337a6_row9_col27, #T_337a6_row10_col0, #T_337a6_row10_col1, #T_337a6_row10_col2, #T_337a6_row10_col3, #T_337a6_row10_col4, #T_337a6_row10_col5, #T_337a6_row10_col6, #T_337a6_row10_col7, #T_337a6_row10_col8, #T_337a6_row10_col9, #T_337a6_row10_col10, #T_337a6_row10_col11, #T_337a6_row10_col12, #T_337a6_row10_col13, #T_337a6_row10_col14, #T_337a6_row10_col15, #T_337a6_row10_col16, #T_337a6_row10_col22, #T_337a6_row10_col23, #T_337a6_row10_col24, #T_337a6_row10_col25, #T_337a6_row10_col26, #T_337a6_row10_col27, #T_337a6_row11_col0, #T_337a6_row11_col1, #T_337a6_row11_col2, #T_337a6_row11_col3, #T_337a6_row11_col4, #T_337a6_row11_col5, #T_337a6_row11_col6, #T_337a6_row11_col7, #T_337a6_row11_col8, #T_337a6_row11_col9, #T_337a6_row11_col10, #T_337a6_row11_col11, #T_337a6_row11_col12, #T_337a6_row11_col13, #T_337a6_row11_col14, #T_337a6_row11_col15, #T_337a6_row11_col22, #T_337a6_row11_col23, #T_337a6_row11_col24, #T_337a6_row11_col25, #T_337a6_row11_col26, #T_337a6_row11_col27, #T_337a6_row12_col0, #T_337a6_row12_col1, #T_337a6_row12_col2, #T_337a6_row12_col3, #T_337a6_row12_col4, #T_337a6_row12_col5, #T_337a6_row12_col6, #T_337a6_row12_col7, #T_337a6_row12_col8, #T_337a6_row12_col9, #T_337a6_row12_col10, #T_337a6_row12_col11, #T_337a6_row12_col12, #T_337a6_row12_col13, #T_337a6_row12_col22, #T_337a6_row12_col23, #T_337a6_row12_col24, #T_337a6_row12_col25, #T_337a6_row12_col26, #T_337a6_row12_col27, #T_337a6_row13_col0, #T_337a6_row13_col1, #T_337a6_row13_col2, #T_337a6_row13_col3, #T_337a6_row13_col4, #T_337a6_row13_col5, #T_337a6_row13_col6, #T_337a6_row13_col7, #T_337a6_row13_col8, #T_337a6_row13_col21, #T_337a6_row13_col22, #T_337a6_row13_col23, #T_337a6_row13_col24, #T_337a6_row13_col25, #T_337a6_row13_col26, #T_337a6_row13_col27, #T_337a6_row14_col0, #T_337a6_row14_col1, #T_337a6_row14_col2, #T_337a6_row14_col3, #T_337a6_row14_col4, #T_337a6_row14_col5, #T_337a6_row14_col6, #T_337a6_row14_col7, #T_337a6_row14_col19, #T_337a6_row14_col20, #T_337a6_row14_col21, #T_337a6_row14_col22, #T_337a6_row14_col23, #T_337a6_row14_col24, #T_337a6_row14_col25, #T_337a6_row14_col26, #T_337a6_row14_col27, #T_337a6_row15_col0, #T_337a6_row15_col1, #T_337a6_row15_col2, #T_337a6_row15_col3, #T_337a6_row15_col4, #T_337a6_row15_col5, #T_337a6_row15_col6, #T_337a6_row15_col7, #T_337a6_row15_col20, #T_337a6_row15_col21, #T_337a6_row15_col22, #T_337a6_row15_col23, #T_337a6_row15_col24, #T_337a6_row15_col25, #T_337a6_row15_col26, #T_337a6_row15_col27, #T_337a6_row16_col0, #T_337a6_row16_col1, #T_337a6_row16_col2, #T_337a6_row16_col3, #T_337a6_row16_col4, #T_337a6_row16_col5, #T_337a6_row16_col6, #T_337a6_row16_col7, #T_337a6_row16_col8, #T_337a6_row16_col20, #T_337a6_row16_col21, #T_337a6_row16_col22, #T_337a6_row16_col23, #T_337a6_row16_col24, #T_337a6_row16_col25, #T_337a6_row16_col26, #T_337a6_row16_col27, #T_337a6_row17_col0, #T_337a6_row17_col1, #T_337a6_row17_col2, #T_337a6_row17_col3, #T_337a6_row17_col4, #T_337a6_row17_col5, #T_337a6_row17_col6, #T_337a6_row17_col7, #T_337a6_row17_col8, #T_337a6_row17_col9, #T_337a6_row17_col10, #T_337a6_row17_col11, #T_337a6_row17_col12, #T_337a6_row17_col13, #T_337a6_row17_col14, #T_337a6_row17_col15, #T_337a6_row17_col20, #T_337a6_row17_col21, #T_337a6_row17_col22, #T_337a6_row17_col23, #T_337a6_row17_col24, #T_337a6_row17_col25, #T_337a6_row17_col26, #T_337a6_row17_col27, #T_337a6_row18_col0, #T_337a6_row18_col1, #T_337a6_row18_col2, #T_337a6_row18_col3, #T_337a6_row18_col4, #T_337a6_row18_col5, #T_337a6_row18_col6, #T_337a6_row18_col7, #T_337a6_row18_col8, #T_337a6_row18_col9, #T_337a6_row18_col10, #T_337a6_row18_col11, #T_337a6_row18_col12, #T_337a6_row18_col13, #T_337a6_row18_col14, #T_337a6_row18_col15, #T_337a6_row18_col20, #T_337a6_row18_col21, #T_337a6_row18_col22, #T_337a6_row18_col23, #T_337a6_row18_col24, #T_337a6_row18_col25, #T_337a6_row18_col26, #T_337a6_row18_col27, #T_337a6_row19_col0, #T_337a6_row19_col1, #T_337a6_row19_col2, #T_337a6_row19_col3, #T_337a6_row19_col4, #T_337a6_row19_col5, #T_337a6_row19_col9, #T_337a6_row19_col10, #T_337a6_row19_col11, #T_337a6_row19_col12, #T_337a6_row19_col13, #T_337a6_row19_col14, #T_337a6_row19_col20, #T_337a6_row19_col21, #T_337a6_row19_col22, #T_337a6_row19_col23, #T_337a6_row19_col24, #T_337a6_row19_col25, #T_337a6_row19_col26, #T_337a6_row19_col27, #T_337a6_row20_col0, #T_337a6_row20_col1, #T_337a6_row20_col2, #T_337a6_row20_col3, #T_337a6_row20_col4, #T_337a6_row20_col9, #T_337a6_row20_col10, #T_337a6_row20_col11, #T_337a6_row20_col12, #T_337a6_row20_col20, #T_337a6_row20_col21, #T_337a6_row20_col22, #T_337a6_row20_col23, #T_337a6_row20_col24, #T_337a6_row20_col25, #T_337a6_row20_col26, #T_337a6_row20_col27, #T_337a6_row21_col0, #T_337a6_row21_col1, #T_337a6_row21_col2, #T_337a6_row21_col3, #T_337a6_row21_col4, #T_337a6_row21_col19, #T_337a6_row21_col20, #T_337a6_row21_col21, #T_337a6_row21_col22, #T_337a6_row21_col23, #T_337a6_row21_col24, #T_337a6_row21_col25, #T_337a6_row21_col26, #T_337a6_row21_col27, #T_337a6_row22_col0, #T_337a6_row22_col1, #T_337a6_row22_col2, #T_337a6_row22_col3, #T_337a6_row22_col4, #T_337a6_row22_col18, #T_337a6_row22_col19, #T_337a6_row22_col20, #T_337a6_row22_col21, #T_337a6_row22_col22, #T_337a6_row22_col23, #T_337a6_row22_col24, #T_337a6_row22_col25, #T_337a6_row22_col26, #T_337a6_row22_col27, #T_337a6_row23_col0, #T_337a6_row23_col1, #T_337a6_row23_col2, #T_337a6_row23_col3, #T_337a6_row23_col4, #T_337a6_row23_col16, #T_337a6_row23_col17, #T_337a6_row23_col18, #T_337a6_row23_col19, #T_337a6_row23_col20, #T_337a6_row23_col21, #T_337a6_row23_col22, #T_337a6_row23_col23, #T_337a6_row23_col24, #T_337a6_row23_col25, #T_337a6_row23_col26, #T_337a6_row23_col27, #T_337a6_row24_col0, #T_337a6_row24_col1, #T_337a6_row24_col2, #T_337a6_row24_col3, #T_337a6_row24_col4, #T_337a6_row24_col5, #T_337a6_row24_col13, #T_337a6_row24_col14, #T_337a6_row24_col15, #T_337a6_row24_col16, #T_337a6_row24_col17, #T_337a6_row24_col18, #T_337a6_row24_col19, #T_337a6_row24_col20, #T_337a6_row24_col21, #T_337a6_row24_col22, #T_337a6_row24_col23, #T_337a6_row24_col24, #T_337a6_row24_col25, #T_337a6_row24_col26, #T_337a6_row24_col27, #T_337a6_row25_col0, #T_337a6_row25_col1, #T_337a6_row25_col2, #T_337a6_row25_col3, #T_337a6_row25_col4, #T_337a6_row25_col5, #T_337a6_row25_col6, #T_337a6_row25_col7, #T_337a6_row25_col8, #T_337a6_row25_col9, #T_337a6_row25_col10, #T_337a6_row25_col11, #T_337a6_row25_col12, #T_337a6_row25_col13, #T_337a6_row25_col14, #T_337a6_row25_col15, #T_337a6_row25_col16, #T_337a6_row25_col17, #T_337a6_row25_col18, #T_337a6_row25_col19, #T_337a6_row25_col20, #T_337a6_row25_col21, #T_337a6_row25_col22, #T_337a6_row25_col23, #T_337a6_row25_col24, #T_337a6_row25_col25, #T_337a6_row25_col26, #T_337a6_row25_col27, #T_337a6_row26_col0, #T_337a6_row26_col1, #T_337a6_row26_col2, #T_337a6_row26_col3, #T_337a6_row26_col4, #T_337a6_row26_col5, #T_337a6_row26_col6, #T_337a6_row26_col7, #T_337a6_row26_col8, #T_337a6_row26_col9, #T_337a6_row26_col10, #T_337a6_row26_col11, #T_337a6_row26_col12, #T_337a6_row26_col13, #T_337a6_row26_col14, #T_337a6_row26_col15, #T_337a6_row26_col16, #T_337a6_row26_col17, #T_337a6_row26_col18, #T_337a6_row26_col19, #T_337a6_row26_col20, #T_337a6_row26_col21, #T_337a6_row26_col22, #T_337a6_row26_col23, #T_337a6_row26_col24, #T_337a6_row26_col25, #T_337a6_row26_col26, #T_337a6_row26_col27, #T_337a6_row27_col0, #T_337a6_row27_col1, #T_337a6_row27_col2, #T_337a6_row27_col3, #T_337a6_row27_col4, #T_337a6_row27_col5, #T_337a6_row27_col6, #T_337a6_row27_col7, #T_337a6_row27_col8, #T_337a6_row27_col9, #T_337a6_row27_col10, #T_337a6_row27_col11, #T_337a6_row27_col12, #T_337a6_row27_col13, #T_337a6_row27_col14, #T_337a6_row27_col15, #T_337a6_row27_col16, #T_337a6_row27_col17, #T_337a6_row27_col18, #T_337a6_row27_col19, #T_337a6_row27_col20, #T_337a6_row27_col21, #T_337a6_row27_col22, #T_337a6_row27_col23, #T_337a6_row27_col24, #T_337a6_row27_col25, #T_337a6_row27_col26, #T_337a6_row27_col27 {\n",
              "  font_size: 7pt;\n",
              "  background-color: #ffffff;\n",
              "  color: #000000;\n",
              "}\n",
              "#T_337a6_row5_col11 {\n",
              "  font_size: 7pt;\n",
              "  background-color: #ececec;\n",
              "  color: #000000;\n",
              "}\n",
              "#T_337a6_row5_col12, #T_337a6_row6_col9 {\n",
              "  font_size: 7pt;\n",
              "  background-color: #e8e8e8;\n",
              "  color: #000000;\n",
              "}\n",
              "#T_337a6_row5_col13 {\n",
              "  font_size: 7pt;\n",
              "  background-color: #b0b0b0;\n",
              "  color: #000000;\n",
              "}\n",
              "#T_337a6_row5_col14, #T_337a6_row5_col15, #T_337a6_row5_col16, #T_337a6_row5_col17, #T_337a6_row5_col18, #T_337a6_row5_col19, #T_337a6_row6_col20, #T_337a6_row7_col20, #T_337a6_row7_col21, #T_337a6_row7_col22, #T_337a6_row8_col20, #T_337a6_row8_col21, #T_337a6_row8_col22, #T_337a6_row9_col20, #T_337a6_row10_col20, #T_337a6_row11_col20, #T_337a6_row15_col10, #T_337a6_row15_col11, #T_337a6_row15_col12, #T_337a6_row15_col13, #T_337a6_row15_col14, #T_337a6_row15_col15, #T_337a6_row15_col16, #T_337a6_row15_col17, #T_337a6_row15_col18, #T_337a6_row20_col7, #T_337a6_row21_col5, #T_337a6_row21_col6, #T_337a6_row21_col7, #T_337a6_row22_col5, #T_337a6_row22_col6, #T_337a6_row22_col7, #T_337a6_row22_col8, #T_337a6_row22_col9, #T_337a6_row23_col7, #T_337a6_row23_col8, #T_337a6_row23_col9, #T_337a6_row24_col9 {\n",
              "  font_size: 7pt;\n",
              "  background-color: #000000;\n",
              "  color: #f1f1f1;\n",
              "}\n",
              "#T_337a6_row5_col20 {\n",
              "  font_size: 7pt;\n",
              "  background-color: #626262;\n",
              "  color: #f1f1f1;\n",
              "}\n",
              "#T_337a6_row5_col21, #T_337a6_row24_col6 {\n",
              "  font_size: 7pt;\n",
              "  background-color: #fcfcfc;\n",
              "  color: #000000;\n",
              "}\n",
              "#T_337a6_row6_col10 {\n",
              "  font_size: 7pt;\n",
              "  background-color: #888888;\n",
              "  color: #f1f1f1;\n",
              "}\n",
              "#T_337a6_row6_col11, #T_337a6_row15_col9 {\n",
              "  font_size: 7pt;\n",
              "  background-color: #222222;\n",
              "  color: #f1f1f1;\n",
              "}\n",
              "#T_337a6_row6_col12, #T_337a6_row9_col18 {\n",
              "  font_size: 7pt;\n",
              "  background-color: #1f1f1f;\n",
              "  color: #f1f1f1;\n",
              "}\n",
              "#T_337a6_row6_col13, #T_337a6_row6_col15, #T_337a6_row6_col16, #T_337a6_row6_col17, #T_337a6_row6_col18, #T_337a6_row6_col19, #T_337a6_row7_col10, #T_337a6_row7_col11, #T_337a6_row7_col12, #T_337a6_row7_col13, #T_337a6_row7_col15, #T_337a6_row7_col16, #T_337a6_row7_col17, #T_337a6_row7_col18, #T_337a6_row7_col19, #T_337a6_row8_col10, #T_337a6_row8_col11, #T_337a6_row8_col18, #T_337a6_row8_col19, #T_337a6_row9_col19, #T_337a6_row10_col19, #T_337a6_row11_col18, #T_337a6_row11_col19, #T_337a6_row12_col17, #T_337a6_row12_col18, #T_337a6_row12_col19, #T_337a6_row13_col15, #T_337a6_row13_col16, #T_337a6_row13_col17, #T_337a6_row14_col10, #T_337a6_row14_col11, #T_337a6_row14_col12, #T_337a6_row14_col13, #T_337a6_row14_col15, #T_337a6_row14_col16, #T_337a6_row14_col17, #T_337a6_row16_col17, #T_337a6_row16_col18, #T_337a6_row17_col17, #T_337a6_row17_col18, #T_337a6_row18_col17, #T_337a6_row18_col18, #T_337a6_row19_col17, #T_337a6_row19_col18, #T_337a6_row20_col16, #T_337a6_row20_col17, #T_337a6_row21_col15, #T_337a6_row21_col16, #T_337a6_row22_col10, #T_337a6_row22_col11, #T_337a6_row22_col12, #T_337a6_row22_col13, #T_337a6_row23_col10, #T_337a6_row23_col11 {\n",
              "  font_size: 7pt;\n",
              "  background-color: #010101;\n",
              "  color: #f1f1f1;\n",
              "}\n",
              "#T_337a6_row6_col14, #T_337a6_row7_col14, #T_337a6_row13_col14, #T_337a6_row14_col14, #T_337a6_row21_col14, #T_337a6_row22_col14 {\n",
              "  font_size: 7pt;\n",
              "  background-color: #020202;\n",
              "  color: #f1f1f1;\n",
              "}\n",
              "#T_337a6_row6_col21 {\n",
              "  font_size: 7pt;\n",
              "  background-color: #727272;\n",
              "  color: #f1f1f1;\n",
              "}\n",
              "#T_337a6_row6_col22, #T_337a6_row23_col5 {\n",
              "  font_size: 7pt;\n",
              "  background-color: #dcdcdc;\n",
              "  color: #000000;\n",
              "}\n",
              "#T_337a6_row7_col9 {\n",
              "  font_size: 7pt;\n",
              "  background-color: #5e5e5e;\n",
              "  color: #f1f1f1;\n",
              "}\n",
              "#T_337a6_row8_col9 {\n",
              "  font_size: 7pt;\n",
              "  background-color: #ababab;\n",
              "  color: #000000;\n",
              "}\n",
              "#T_337a6_row8_col12, #T_337a6_row22_col15 {\n",
              "  font_size: 7pt;\n",
              "  background-color: #1b1b1b;\n",
              "  color: #f1f1f1;\n",
              "}\n",
              "#T_337a6_row8_col13, #T_337a6_row8_col14, #T_337a6_row8_col15, #T_337a6_row8_col16 {\n",
              "  font_size: 7pt;\n",
              "  background-color: #909090;\n",
              "  color: #f1f1f1;\n",
              "}\n",
              "#T_337a6_row8_col17, #T_337a6_row11_col17 {\n",
              "  font_size: 7pt;\n",
              "  background-color: #525252;\n",
              "  color: #f1f1f1;\n",
              "}\n",
              "#T_337a6_row9_col9, #T_337a6_row19_col6 {\n",
              "  font_size: 7pt;\n",
              "  background-color: #fdfdfd;\n",
              "  color: #000000;\n",
              "}\n",
              "#T_337a6_row9_col10, #T_337a6_row9_col11, #T_337a6_row9_col22, #T_337a6_row20_col8 {\n",
              "  font_size: 7pt;\n",
              "  background-color: #f1f1f1;\n",
              "  color: #000000;\n",
              "}\n",
              "#T_337a6_row9_col12, #T_337a6_row24_col12 {\n",
              "  font_size: 7pt;\n",
              "  background-color: #f4f4f4;\n",
              "  color: #000000;\n",
              "}\n",
              "#T_337a6_row9_col17, #T_337a6_row11_col21, #T_337a6_row17_col16 {\n",
              "  font_size: 7pt;\n",
              "  background-color: #f8f8f8;\n",
              "  color: #000000;\n",
              "}\n",
              "#T_337a6_row9_col21, #T_337a6_row24_col10 {\n",
              "  font_size: 7pt;\n",
              "  background-color: #646464;\n",
              "  color: #f1f1f1;\n",
              "}\n",
              "#T_337a6_row10_col17, #T_337a6_row18_col16 {\n",
              "  font_size: 7pt;\n",
              "  background-color: #c5c5c5;\n",
              "  color: #000000;\n",
              "}\n",
              "#T_337a6_row10_col18, #T_337a6_row20_col18 {\n",
              "  font_size: 7pt;\n",
              "  background-color: #0c0c0c;\n",
              "  color: #f1f1f1;\n",
              "}\n",
              "#T_337a6_row10_col21, #T_337a6_row23_col14 {\n",
              "  font_size: 7pt;\n",
              "  background-color: #828282;\n",
              "  color: #f1f1f1;\n",
              "}\n",
              "#T_337a6_row11_col16 {\n",
              "  font_size: 7pt;\n",
              "  background-color: #c3c3c3;\n",
              "  color: #000000;\n",
              "}\n",
              "#T_337a6_row12_col14 {\n",
              "  font_size: 7pt;\n",
              "  background-color: #c1c1c1;\n",
              "  color: #000000;\n",
              "}\n",
              "#T_337a6_row12_col15 {\n",
              "  font_size: 7pt;\n",
              "  background-color: #323232;\n",
              "  color: #f1f1f1;\n",
              "}\n",
              "#T_337a6_row12_col16 {\n",
              "  font_size: 7pt;\n",
              "  background-color: #070707;\n",
              "  color: #f1f1f1;\n",
              "}\n",
              "#T_337a6_row12_col20 {\n",
              "  font_size: 7pt;\n",
              "  background-color: #3c3c3c;\n",
              "  color: #f1f1f1;\n",
              "}\n",
              "#T_337a6_row12_col21, #T_337a6_row19_col8, #T_337a6_row22_col17 {\n",
              "  font_size: 7pt;\n",
              "  background-color: #fbfbfb;\n",
              "  color: #000000;\n",
              "}\n",
              "#T_337a6_row13_col9, #T_337a6_row16_col9 {\n",
              "  font_size: 7pt;\n",
              "  background-color: #f0f0f0;\n",
              "  color: #000000;\n",
              "}\n",
              "#T_337a6_row13_col10 {\n",
              "  font_size: 7pt;\n",
              "  background-color: #989898;\n",
              "  color: #f1f1f1;\n",
              "}\n",
              "#T_337a6_row13_col11, #T_337a6_row13_col12, #T_337a6_row13_col13 {\n",
              "  font_size: 7pt;\n",
              "  background-color: #4d4d4d;\n",
              "  color: #f1f1f1;\n",
              "}\n",
              "#T_337a6_row13_col18 {\n",
              "  font_size: 7pt;\n",
              "  background-color: #111111;\n",
              "  color: #f1f1f1;\n",
              "}\n",
              "#T_337a6_row13_col19 {\n",
              "  font_size: 7pt;\n",
              "  background-color: #b4b4b4;\n",
              "  color: #000000;\n",
              "}\n",
              "#T_337a6_row13_col20 {\n",
              "  font_size: 7pt;\n",
              "  background-color: #f2f2f2;\n",
              "  color: #000000;\n",
              "}\n",
              "#T_337a6_row14_col8, #T_337a6_row15_col8, #T_337a6_row16_col12, #T_337a6_row16_col13, #T_337a6_row16_col14, #T_337a6_row16_col15, #T_337a6_row23_col15 {\n",
              "  font_size: 7pt;\n",
              "  background-color: #e7e7e7;\n",
              "  color: #000000;\n",
              "}\n",
              "#T_337a6_row14_col9 {\n",
              "  font_size: 7pt;\n",
              "  background-color: #232323;\n",
              "  color: #f1f1f1;\n",
              "}\n",
              "#T_337a6_row14_col18 {\n",
              "  font_size: 7pt;\n",
              "  background-color: #5f5f5f;\n",
              "  color: #f1f1f1;\n",
              "}\n",
              "#T_337a6_row15_col19, #T_337a6_row16_col19, #T_337a6_row17_col19, #T_337a6_row18_col19, #T_337a6_row19_col19 {\n",
              "  font_size: 7pt;\n",
              "  background-color: #d0d0d0;\n",
              "  color: #000000;\n",
              "}\n",
              "#T_337a6_row16_col10 {\n",
              "  font_size: 7pt;\n",
              "  background-color: #9a9a9a;\n",
              "  color: #f1f1f1;\n",
              "}\n",
              "#T_337a6_row16_col11 {\n",
              "  font_size: 7pt;\n",
              "  background-color: #e1e1e1;\n",
              "  color: #000000;\n",
              "}\n",
              "#T_337a6_row16_col16 {\n",
              "  font_size: 7pt;\n",
              "  background-color: #848484;\n",
              "  color: #f1f1f1;\n",
              "}\n",
              "#T_337a6_row19_col7 {\n",
              "  font_size: 7pt;\n",
              "  background-color: #cecece;\n",
              "  color: #000000;\n",
              "}\n",
              "#T_337a6_row19_col15 {\n",
              "  font_size: 7pt;\n",
              "  background-color: #b9b9b9;\n",
              "  color: #000000;\n",
              "}\n",
              "#T_337a6_row19_col16 {\n",
              "  font_size: 7pt;\n",
              "  background-color: #0d0d0d;\n",
              "  color: #f1f1f1;\n",
              "}\n",
              "#T_337a6_row20_col5 {\n",
              "  font_size: 7pt;\n",
              "  background-color: #cfcfcf;\n",
              "  color: #000000;\n",
              "}\n",
              "#T_337a6_row20_col6 {\n",
              "  font_size: 7pt;\n",
              "  background-color: #585858;\n",
              "  color: #f1f1f1;\n",
              "}\n",
              "#T_337a6_row20_col13 {\n",
              "  font_size: 7pt;\n",
              "  background-color: #f7f7f7;\n",
              "  color: #000000;\n",
              "}\n",
              "#T_337a6_row20_col14 {\n",
              "  font_size: 7pt;\n",
              "  background-color: #c0c0c0;\n",
              "  color: #000000;\n",
              "}\n",
              "#T_337a6_row20_col15 {\n",
              "  font_size: 7pt;\n",
              "  background-color: #101010;\n",
              "  color: #f1f1f1;\n",
              "}\n",
              "#T_337a6_row20_col19 {\n",
              "  font_size: 7pt;\n",
              "  background-color: #d8d8d8;\n",
              "  color: #000000;\n",
              "}\n",
              "#T_337a6_row21_col8 {\n",
              "  font_size: 7pt;\n",
              "  background-color: #7e7e7e;\n",
              "  color: #f1f1f1;\n",
              "}\n",
              "#T_337a6_row21_col9 {\n",
              "  font_size: 7pt;\n",
              "  background-color: #8d8d8d;\n",
              "  color: #f1f1f1;\n",
              "}\n",
              "#T_337a6_row21_col10, #T_337a6_row21_col11, #T_337a6_row21_col12 {\n",
              "  font_size: 7pt;\n",
              "  background-color: #8e8e8e;\n",
              "  color: #f1f1f1;\n",
              "}\n",
              "#T_337a6_row21_col13 {\n",
              "  font_size: 7pt;\n",
              "  background-color: #3f3f3f;\n",
              "  color: #f1f1f1;\n",
              "}\n",
              "#T_337a6_row21_col17 {\n",
              "  font_size: 7pt;\n",
              "  background-color: #535353;\n",
              "  color: #f1f1f1;\n",
              "}\n",
              "#T_337a6_row21_col18 {\n",
              "  font_size: 7pt;\n",
              "  background-color: #c8c8c8;\n",
              "  color: #000000;\n",
              "}\n",
              "#T_337a6_row22_col16 {\n",
              "  font_size: 7pt;\n",
              "  background-color: #797979;\n",
              "  color: #f1f1f1;\n",
              "}\n",
              "#T_337a6_row23_col6 {\n",
              "  font_size: 7pt;\n",
              "  background-color: #737373;\n",
              "  color: #f1f1f1;\n",
              "}\n",
              "#T_337a6_row23_col12 {\n",
              "  font_size: 7pt;\n",
              "  background-color: #2b2b2b;\n",
              "  color: #f1f1f1;\n",
              "}\n",
              "#T_337a6_row23_col13 {\n",
              "  font_size: 7pt;\n",
              "  background-color: #393939;\n",
              "  color: #f1f1f1;\n",
              "}\n",
              "#T_337a6_row24_col7, #T_337a6_row24_col11 {\n",
              "  font_size: 7pt;\n",
              "  background-color: #b3b3b3;\n",
              "  color: #000000;\n",
              "}\n",
              "#T_337a6_row24_col8 {\n",
              "  font_size: 7pt;\n",
              "  background-color: #141414;\n",
              "  color: #f1f1f1;\n",
              "}\n",
              "</style>\n",
              "<table id=\"T_337a6\" class=\"dataframe\">\n",
              "  <thead>\n",
              "    <tr>\n",
              "      <th class=\"blank level0\" >&nbsp;</th>\n",
              "      <th id=\"T_337a6_level0_col0\" class=\"col_heading level0 col0\" >0</th>\n",
              "      <th id=\"T_337a6_level0_col1\" class=\"col_heading level0 col1\" >1</th>\n",
              "      <th id=\"T_337a6_level0_col2\" class=\"col_heading level0 col2\" >2</th>\n",
              "      <th id=\"T_337a6_level0_col3\" class=\"col_heading level0 col3\" >3</th>\n",
              "      <th id=\"T_337a6_level0_col4\" class=\"col_heading level0 col4\" >4</th>\n",
              "      <th id=\"T_337a6_level0_col5\" class=\"col_heading level0 col5\" >5</th>\n",
              "      <th id=\"T_337a6_level0_col6\" class=\"col_heading level0 col6\" >6</th>\n",
              "      <th id=\"T_337a6_level0_col7\" class=\"col_heading level0 col7\" >7</th>\n",
              "      <th id=\"T_337a6_level0_col8\" class=\"col_heading level0 col8\" >8</th>\n",
              "      <th id=\"T_337a6_level0_col9\" class=\"col_heading level0 col9\" >9</th>\n",
              "      <th id=\"T_337a6_level0_col10\" class=\"col_heading level0 col10\" >10</th>\n",
              "      <th id=\"T_337a6_level0_col11\" class=\"col_heading level0 col11\" >11</th>\n",
              "      <th id=\"T_337a6_level0_col12\" class=\"col_heading level0 col12\" >12</th>\n",
              "      <th id=\"T_337a6_level0_col13\" class=\"col_heading level0 col13\" >13</th>\n",
              "      <th id=\"T_337a6_level0_col14\" class=\"col_heading level0 col14\" >14</th>\n",
              "      <th id=\"T_337a6_level0_col15\" class=\"col_heading level0 col15\" >15</th>\n",
              "      <th id=\"T_337a6_level0_col16\" class=\"col_heading level0 col16\" >16</th>\n",
              "      <th id=\"T_337a6_level0_col17\" class=\"col_heading level0 col17\" >17</th>\n",
              "      <th id=\"T_337a6_level0_col18\" class=\"col_heading level0 col18\" >18</th>\n",
              "      <th id=\"T_337a6_level0_col19\" class=\"col_heading level0 col19\" >19</th>\n",
              "      <th id=\"T_337a6_level0_col20\" class=\"col_heading level0 col20\" >20</th>\n",
              "      <th id=\"T_337a6_level0_col21\" class=\"col_heading level0 col21\" >21</th>\n",
              "      <th id=\"T_337a6_level0_col22\" class=\"col_heading level0 col22\" >22</th>\n",
              "      <th id=\"T_337a6_level0_col23\" class=\"col_heading level0 col23\" >23</th>\n",
              "      <th id=\"T_337a6_level0_col24\" class=\"col_heading level0 col24\" >24</th>\n",
              "      <th id=\"T_337a6_level0_col25\" class=\"col_heading level0 col25\" >25</th>\n",
              "      <th id=\"T_337a6_level0_col26\" class=\"col_heading level0 col26\" >26</th>\n",
              "      <th id=\"T_337a6_level0_col27\" class=\"col_heading level0 col27\" >27</th>\n",
              "    </tr>\n",
              "  </thead>\n",
              "  <tbody>\n",
              "    <tr>\n",
              "      <th id=\"T_337a6_level0_row0\" class=\"row_heading level0 row0\" >0</th>\n",
              "      <td id=\"T_337a6_row0_col0\" class=\"data row0 col0\" >0.00</td>\n",
              "      <td id=\"T_337a6_row0_col1\" class=\"data row0 col1\" >0.00</td>\n",
              "      <td id=\"T_337a6_row0_col2\" class=\"data row0 col2\" >0.00</td>\n",
              "      <td id=\"T_337a6_row0_col3\" class=\"data row0 col3\" >0.00</td>\n",
              "      <td id=\"T_337a6_row0_col4\" class=\"data row0 col4\" >0.00</td>\n",
              "      <td id=\"T_337a6_row0_col5\" class=\"data row0 col5\" >0.00</td>\n",
              "      <td id=\"T_337a6_row0_col6\" class=\"data row0 col6\" >0.00</td>\n",
              "      <td id=\"T_337a6_row0_col7\" class=\"data row0 col7\" >0.00</td>\n",
              "      <td id=\"T_337a6_row0_col8\" class=\"data row0 col8\" >0.00</td>\n",
              "      <td id=\"T_337a6_row0_col9\" class=\"data row0 col9\" >0.00</td>\n",
              "      <td id=\"T_337a6_row0_col10\" class=\"data row0 col10\" >0.00</td>\n",
              "      <td id=\"T_337a6_row0_col11\" class=\"data row0 col11\" >0.00</td>\n",
              "      <td id=\"T_337a6_row0_col12\" class=\"data row0 col12\" >0.00</td>\n",
              "      <td id=\"T_337a6_row0_col13\" class=\"data row0 col13\" >0.00</td>\n",
              "      <td id=\"T_337a6_row0_col14\" class=\"data row0 col14\" >0.00</td>\n",
              "      <td id=\"T_337a6_row0_col15\" class=\"data row0 col15\" >0.00</td>\n",
              "      <td id=\"T_337a6_row0_col16\" class=\"data row0 col16\" >0.00</td>\n",
              "      <td id=\"T_337a6_row0_col17\" class=\"data row0 col17\" >0.00</td>\n",
              "      <td id=\"T_337a6_row0_col18\" class=\"data row0 col18\" >0.00</td>\n",
              "      <td id=\"T_337a6_row0_col19\" class=\"data row0 col19\" >0.00</td>\n",
              "      <td id=\"T_337a6_row0_col20\" class=\"data row0 col20\" >0.00</td>\n",
              "      <td id=\"T_337a6_row0_col21\" class=\"data row0 col21\" >0.00</td>\n",
              "      <td id=\"T_337a6_row0_col22\" class=\"data row0 col22\" >0.00</td>\n",
              "      <td id=\"T_337a6_row0_col23\" class=\"data row0 col23\" >0.00</td>\n",
              "      <td id=\"T_337a6_row0_col24\" class=\"data row0 col24\" >0.00</td>\n",
              "      <td id=\"T_337a6_row0_col25\" class=\"data row0 col25\" >0.00</td>\n",
              "      <td id=\"T_337a6_row0_col26\" class=\"data row0 col26\" >0.00</td>\n",
              "      <td id=\"T_337a6_row0_col27\" class=\"data row0 col27\" >0.00</td>\n",
              "    </tr>\n",
              "    <tr>\n",
              "      <th id=\"T_337a6_level0_row1\" class=\"row_heading level0 row1\" >1</th>\n",
              "      <td id=\"T_337a6_row1_col0\" class=\"data row1 col0\" >0.00</td>\n",
              "      <td id=\"T_337a6_row1_col1\" class=\"data row1 col1\" >0.00</td>\n",
              "      <td id=\"T_337a6_row1_col2\" class=\"data row1 col2\" >0.00</td>\n",
              "      <td id=\"T_337a6_row1_col3\" class=\"data row1 col3\" >0.00</td>\n",
              "      <td id=\"T_337a6_row1_col4\" class=\"data row1 col4\" >0.00</td>\n",
              "      <td id=\"T_337a6_row1_col5\" class=\"data row1 col5\" >0.00</td>\n",
              "      <td id=\"T_337a6_row1_col6\" class=\"data row1 col6\" >0.00</td>\n",
              "      <td id=\"T_337a6_row1_col7\" class=\"data row1 col7\" >0.00</td>\n",
              "      <td id=\"T_337a6_row1_col8\" class=\"data row1 col8\" >0.00</td>\n",
              "      <td id=\"T_337a6_row1_col9\" class=\"data row1 col9\" >0.00</td>\n",
              "      <td id=\"T_337a6_row1_col10\" class=\"data row1 col10\" >0.00</td>\n",
              "      <td id=\"T_337a6_row1_col11\" class=\"data row1 col11\" >0.00</td>\n",
              "      <td id=\"T_337a6_row1_col12\" class=\"data row1 col12\" >0.00</td>\n",
              "      <td id=\"T_337a6_row1_col13\" class=\"data row1 col13\" >0.00</td>\n",
              "      <td id=\"T_337a6_row1_col14\" class=\"data row1 col14\" >0.00</td>\n",
              "      <td id=\"T_337a6_row1_col15\" class=\"data row1 col15\" >0.00</td>\n",
              "      <td id=\"T_337a6_row1_col16\" class=\"data row1 col16\" >0.00</td>\n",
              "      <td id=\"T_337a6_row1_col17\" class=\"data row1 col17\" >0.00</td>\n",
              "      <td id=\"T_337a6_row1_col18\" class=\"data row1 col18\" >0.00</td>\n",
              "      <td id=\"T_337a6_row1_col19\" class=\"data row1 col19\" >0.00</td>\n",
              "      <td id=\"T_337a6_row1_col20\" class=\"data row1 col20\" >0.00</td>\n",
              "      <td id=\"T_337a6_row1_col21\" class=\"data row1 col21\" >0.00</td>\n",
              "      <td id=\"T_337a6_row1_col22\" class=\"data row1 col22\" >0.00</td>\n",
              "      <td id=\"T_337a6_row1_col23\" class=\"data row1 col23\" >0.00</td>\n",
              "      <td id=\"T_337a6_row1_col24\" class=\"data row1 col24\" >0.00</td>\n",
              "      <td id=\"T_337a6_row1_col25\" class=\"data row1 col25\" >0.00</td>\n",
              "      <td id=\"T_337a6_row1_col26\" class=\"data row1 col26\" >0.00</td>\n",
              "      <td id=\"T_337a6_row1_col27\" class=\"data row1 col27\" >0.00</td>\n",
              "    </tr>\n",
              "    <tr>\n",
              "      <th id=\"T_337a6_level0_row2\" class=\"row_heading level0 row2\" >2</th>\n",
              "      <td id=\"T_337a6_row2_col0\" class=\"data row2 col0\" >0.00</td>\n",
              "      <td id=\"T_337a6_row2_col1\" class=\"data row2 col1\" >0.00</td>\n",
              "      <td id=\"T_337a6_row2_col2\" class=\"data row2 col2\" >0.00</td>\n",
              "      <td id=\"T_337a6_row2_col3\" class=\"data row2 col3\" >0.00</td>\n",
              "      <td id=\"T_337a6_row2_col4\" class=\"data row2 col4\" >0.00</td>\n",
              "      <td id=\"T_337a6_row2_col5\" class=\"data row2 col5\" >0.00</td>\n",
              "      <td id=\"T_337a6_row2_col6\" class=\"data row2 col6\" >0.00</td>\n",
              "      <td id=\"T_337a6_row2_col7\" class=\"data row2 col7\" >0.00</td>\n",
              "      <td id=\"T_337a6_row2_col8\" class=\"data row2 col8\" >0.00</td>\n",
              "      <td id=\"T_337a6_row2_col9\" class=\"data row2 col9\" >0.00</td>\n",
              "      <td id=\"T_337a6_row2_col10\" class=\"data row2 col10\" >0.00</td>\n",
              "      <td id=\"T_337a6_row2_col11\" class=\"data row2 col11\" >0.00</td>\n",
              "      <td id=\"T_337a6_row2_col12\" class=\"data row2 col12\" >0.00</td>\n",
              "      <td id=\"T_337a6_row2_col13\" class=\"data row2 col13\" >0.00</td>\n",
              "      <td id=\"T_337a6_row2_col14\" class=\"data row2 col14\" >0.00</td>\n",
              "      <td id=\"T_337a6_row2_col15\" class=\"data row2 col15\" >0.00</td>\n",
              "      <td id=\"T_337a6_row2_col16\" class=\"data row2 col16\" >0.00</td>\n",
              "      <td id=\"T_337a6_row2_col17\" class=\"data row2 col17\" >0.00</td>\n",
              "      <td id=\"T_337a6_row2_col18\" class=\"data row2 col18\" >0.00</td>\n",
              "      <td id=\"T_337a6_row2_col19\" class=\"data row2 col19\" >0.00</td>\n",
              "      <td id=\"T_337a6_row2_col20\" class=\"data row2 col20\" >0.00</td>\n",
              "      <td id=\"T_337a6_row2_col21\" class=\"data row2 col21\" >0.00</td>\n",
              "      <td id=\"T_337a6_row2_col22\" class=\"data row2 col22\" >0.00</td>\n",
              "      <td id=\"T_337a6_row2_col23\" class=\"data row2 col23\" >0.00</td>\n",
              "      <td id=\"T_337a6_row2_col24\" class=\"data row2 col24\" >0.00</td>\n",
              "      <td id=\"T_337a6_row2_col25\" class=\"data row2 col25\" >0.00</td>\n",
              "      <td id=\"T_337a6_row2_col26\" class=\"data row2 col26\" >0.00</td>\n",
              "      <td id=\"T_337a6_row2_col27\" class=\"data row2 col27\" >0.00</td>\n",
              "    </tr>\n",
              "    <tr>\n",
              "      <th id=\"T_337a6_level0_row3\" class=\"row_heading level0 row3\" >3</th>\n",
              "      <td id=\"T_337a6_row3_col0\" class=\"data row3 col0\" >0.00</td>\n",
              "      <td id=\"T_337a6_row3_col1\" class=\"data row3 col1\" >0.00</td>\n",
              "      <td id=\"T_337a6_row3_col2\" class=\"data row3 col2\" >0.00</td>\n",
              "      <td id=\"T_337a6_row3_col3\" class=\"data row3 col3\" >0.00</td>\n",
              "      <td id=\"T_337a6_row3_col4\" class=\"data row3 col4\" >0.00</td>\n",
              "      <td id=\"T_337a6_row3_col5\" class=\"data row3 col5\" >0.00</td>\n",
              "      <td id=\"T_337a6_row3_col6\" class=\"data row3 col6\" >0.00</td>\n",
              "      <td id=\"T_337a6_row3_col7\" class=\"data row3 col7\" >0.00</td>\n",
              "      <td id=\"T_337a6_row3_col8\" class=\"data row3 col8\" >0.00</td>\n",
              "      <td id=\"T_337a6_row3_col9\" class=\"data row3 col9\" >0.00</td>\n",
              "      <td id=\"T_337a6_row3_col10\" class=\"data row3 col10\" >0.00</td>\n",
              "      <td id=\"T_337a6_row3_col11\" class=\"data row3 col11\" >0.00</td>\n",
              "      <td id=\"T_337a6_row3_col12\" class=\"data row3 col12\" >0.00</td>\n",
              "      <td id=\"T_337a6_row3_col13\" class=\"data row3 col13\" >0.00</td>\n",
              "      <td id=\"T_337a6_row3_col14\" class=\"data row3 col14\" >0.00</td>\n",
              "      <td id=\"T_337a6_row3_col15\" class=\"data row3 col15\" >0.00</td>\n",
              "      <td id=\"T_337a6_row3_col16\" class=\"data row3 col16\" >0.00</td>\n",
              "      <td id=\"T_337a6_row3_col17\" class=\"data row3 col17\" >0.00</td>\n",
              "      <td id=\"T_337a6_row3_col18\" class=\"data row3 col18\" >0.00</td>\n",
              "      <td id=\"T_337a6_row3_col19\" class=\"data row3 col19\" >0.00</td>\n",
              "      <td id=\"T_337a6_row3_col20\" class=\"data row3 col20\" >0.00</td>\n",
              "      <td id=\"T_337a6_row3_col21\" class=\"data row3 col21\" >0.00</td>\n",
              "      <td id=\"T_337a6_row3_col22\" class=\"data row3 col22\" >0.00</td>\n",
              "      <td id=\"T_337a6_row3_col23\" class=\"data row3 col23\" >0.00</td>\n",
              "      <td id=\"T_337a6_row3_col24\" class=\"data row3 col24\" >0.00</td>\n",
              "      <td id=\"T_337a6_row3_col25\" class=\"data row3 col25\" >0.00</td>\n",
              "      <td id=\"T_337a6_row3_col26\" class=\"data row3 col26\" >0.00</td>\n",
              "      <td id=\"T_337a6_row3_col27\" class=\"data row3 col27\" >0.00</td>\n",
              "    </tr>\n",
              "    <tr>\n",
              "      <th id=\"T_337a6_level0_row4\" class=\"row_heading level0 row4\" >4</th>\n",
              "      <td id=\"T_337a6_row4_col0\" class=\"data row4 col0\" >0.00</td>\n",
              "      <td id=\"T_337a6_row4_col1\" class=\"data row4 col1\" >0.00</td>\n",
              "      <td id=\"T_337a6_row4_col2\" class=\"data row4 col2\" >0.00</td>\n",
              "      <td id=\"T_337a6_row4_col3\" class=\"data row4 col3\" >0.00</td>\n",
              "      <td id=\"T_337a6_row4_col4\" class=\"data row4 col4\" >0.00</td>\n",
              "      <td id=\"T_337a6_row4_col5\" class=\"data row4 col5\" >0.00</td>\n",
              "      <td id=\"T_337a6_row4_col6\" class=\"data row4 col6\" >0.00</td>\n",
              "      <td id=\"T_337a6_row4_col7\" class=\"data row4 col7\" >0.00</td>\n",
              "      <td id=\"T_337a6_row4_col8\" class=\"data row4 col8\" >0.00</td>\n",
              "      <td id=\"T_337a6_row4_col9\" class=\"data row4 col9\" >0.00</td>\n",
              "      <td id=\"T_337a6_row4_col10\" class=\"data row4 col10\" >0.00</td>\n",
              "      <td id=\"T_337a6_row4_col11\" class=\"data row4 col11\" >0.00</td>\n",
              "      <td id=\"T_337a6_row4_col12\" class=\"data row4 col12\" >0.00</td>\n",
              "      <td id=\"T_337a6_row4_col13\" class=\"data row4 col13\" >0.00</td>\n",
              "      <td id=\"T_337a6_row4_col14\" class=\"data row4 col14\" >0.00</td>\n",
              "      <td id=\"T_337a6_row4_col15\" class=\"data row4 col15\" >0.00</td>\n",
              "      <td id=\"T_337a6_row4_col16\" class=\"data row4 col16\" >0.00</td>\n",
              "      <td id=\"T_337a6_row4_col17\" class=\"data row4 col17\" >0.00</td>\n",
              "      <td id=\"T_337a6_row4_col18\" class=\"data row4 col18\" >0.00</td>\n",
              "      <td id=\"T_337a6_row4_col19\" class=\"data row4 col19\" >0.00</td>\n",
              "      <td id=\"T_337a6_row4_col20\" class=\"data row4 col20\" >0.00</td>\n",
              "      <td id=\"T_337a6_row4_col21\" class=\"data row4 col21\" >0.00</td>\n",
              "      <td id=\"T_337a6_row4_col22\" class=\"data row4 col22\" >0.00</td>\n",
              "      <td id=\"T_337a6_row4_col23\" class=\"data row4 col23\" >0.00</td>\n",
              "      <td id=\"T_337a6_row4_col24\" class=\"data row4 col24\" >0.00</td>\n",
              "      <td id=\"T_337a6_row4_col25\" class=\"data row4 col25\" >0.00</td>\n",
              "      <td id=\"T_337a6_row4_col26\" class=\"data row4 col26\" >0.00</td>\n",
              "      <td id=\"T_337a6_row4_col27\" class=\"data row4 col27\" >0.00</td>\n",
              "    </tr>\n",
              "    <tr>\n",
              "      <th id=\"T_337a6_level0_row5\" class=\"row_heading level0 row5\" >5</th>\n",
              "      <td id=\"T_337a6_row5_col0\" class=\"data row5 col0\" >0.00</td>\n",
              "      <td id=\"T_337a6_row5_col1\" class=\"data row5 col1\" >0.00</td>\n",
              "      <td id=\"T_337a6_row5_col2\" class=\"data row5 col2\" >0.00</td>\n",
              "      <td id=\"T_337a6_row5_col3\" class=\"data row5 col3\" >0.00</td>\n",
              "      <td id=\"T_337a6_row5_col4\" class=\"data row5 col4\" >0.00</td>\n",
              "      <td id=\"T_337a6_row5_col5\" class=\"data row5 col5\" >0.00</td>\n",
              "      <td id=\"T_337a6_row5_col6\" class=\"data row5 col6\" >0.00</td>\n",
              "      <td id=\"T_337a6_row5_col7\" class=\"data row5 col7\" >0.00</td>\n",
              "      <td id=\"T_337a6_row5_col8\" class=\"data row5 col8\" >0.00</td>\n",
              "      <td id=\"T_337a6_row5_col9\" class=\"data row5 col9\" >0.00</td>\n",
              "      <td id=\"T_337a6_row5_col10\" class=\"data row5 col10\" >0.00</td>\n",
              "      <td id=\"T_337a6_row5_col11\" class=\"data row5 col11\" >0.15</td>\n",
              "      <td id=\"T_337a6_row5_col12\" class=\"data row5 col12\" >0.17</td>\n",
              "      <td id=\"T_337a6_row5_col13\" class=\"data row5 col13\" >0.41</td>\n",
              "      <td id=\"T_337a6_row5_col14\" class=\"data row5 col14\" >1.00</td>\n",
              "      <td id=\"T_337a6_row5_col15\" class=\"data row5 col15\" >0.99</td>\n",
              "      <td id=\"T_337a6_row5_col16\" class=\"data row5 col16\" >0.99</td>\n",
              "      <td id=\"T_337a6_row5_col17\" class=\"data row5 col17\" >0.99</td>\n",
              "      <td id=\"T_337a6_row5_col18\" class=\"data row5 col18\" >0.99</td>\n",
              "      <td id=\"T_337a6_row5_col19\" class=\"data row5 col19\" >0.99</td>\n",
              "      <td id=\"T_337a6_row5_col20\" class=\"data row5 col20\" >0.68</td>\n",
              "      <td id=\"T_337a6_row5_col21\" class=\"data row5 col21\" >0.02</td>\n",
              "      <td id=\"T_337a6_row5_col22\" class=\"data row5 col22\" >0.00</td>\n",
              "      <td id=\"T_337a6_row5_col23\" class=\"data row5 col23\" >0.00</td>\n",
              "      <td id=\"T_337a6_row5_col24\" class=\"data row5 col24\" >0.00</td>\n",
              "      <td id=\"T_337a6_row5_col25\" class=\"data row5 col25\" >0.00</td>\n",
              "      <td id=\"T_337a6_row5_col26\" class=\"data row5 col26\" >0.00</td>\n",
              "      <td id=\"T_337a6_row5_col27\" class=\"data row5 col27\" >0.00</td>\n",
              "    </tr>\n",
              "    <tr>\n",
              "      <th id=\"T_337a6_level0_row6\" class=\"row_heading level0 row6\" >6</th>\n",
              "      <td id=\"T_337a6_row6_col0\" class=\"data row6 col0\" >0.00</td>\n",
              "      <td id=\"T_337a6_row6_col1\" class=\"data row6 col1\" >0.00</td>\n",
              "      <td id=\"T_337a6_row6_col2\" class=\"data row6 col2\" >0.00</td>\n",
              "      <td id=\"T_337a6_row6_col3\" class=\"data row6 col3\" >0.00</td>\n",
              "      <td id=\"T_337a6_row6_col4\" class=\"data row6 col4\" >0.00</td>\n",
              "      <td id=\"T_337a6_row6_col5\" class=\"data row6 col5\" >0.00</td>\n",
              "      <td id=\"T_337a6_row6_col6\" class=\"data row6 col6\" >0.00</td>\n",
              "      <td id=\"T_337a6_row6_col7\" class=\"data row6 col7\" >0.00</td>\n",
              "      <td id=\"T_337a6_row6_col8\" class=\"data row6 col8\" >0.00</td>\n",
              "      <td id=\"T_337a6_row6_col9\" class=\"data row6 col9\" >0.17</td>\n",
              "      <td id=\"T_337a6_row6_col10\" class=\"data row6 col10\" >0.54</td>\n",
              "      <td id=\"T_337a6_row6_col11\" class=\"data row6 col11\" >0.88</td>\n",
              "      <td id=\"T_337a6_row6_col12\" class=\"data row6 col12\" >0.88</td>\n",
              "      <td id=\"T_337a6_row6_col13\" class=\"data row6 col13\" >0.98</td>\n",
              "      <td id=\"T_337a6_row6_col14\" class=\"data row6 col14\" >0.99</td>\n",
              "      <td id=\"T_337a6_row6_col15\" class=\"data row6 col15\" >0.98</td>\n",
              "      <td id=\"T_337a6_row6_col16\" class=\"data row6 col16\" >0.98</td>\n",
              "      <td id=\"T_337a6_row6_col17\" class=\"data row6 col17\" >0.98</td>\n",
              "      <td id=\"T_337a6_row6_col18\" class=\"data row6 col18\" >0.98</td>\n",
              "      <td id=\"T_337a6_row6_col19\" class=\"data row6 col19\" >0.98</td>\n",
              "      <td id=\"T_337a6_row6_col20\" class=\"data row6 col20\" >0.98</td>\n",
              "      <td id=\"T_337a6_row6_col21\" class=\"data row6 col21\" >0.62</td>\n",
              "      <td id=\"T_337a6_row6_col22\" class=\"data row6 col22\" >0.05</td>\n",
              "      <td id=\"T_337a6_row6_col23\" class=\"data row6 col23\" >0.00</td>\n",
              "      <td id=\"T_337a6_row6_col24\" class=\"data row6 col24\" >0.00</td>\n",
              "      <td id=\"T_337a6_row6_col25\" class=\"data row6 col25\" >0.00</td>\n",
              "      <td id=\"T_337a6_row6_col26\" class=\"data row6 col26\" >0.00</td>\n",
              "      <td id=\"T_337a6_row6_col27\" class=\"data row6 col27\" >0.00</td>\n",
              "    </tr>\n",
              "    <tr>\n",
              "      <th id=\"T_337a6_level0_row7\" class=\"row_heading level0 row7\" >7</th>\n",
              "      <td id=\"T_337a6_row7_col0\" class=\"data row7 col0\" >0.00</td>\n",
              "      <td id=\"T_337a6_row7_col1\" class=\"data row7 col1\" >0.00</td>\n",
              "      <td id=\"T_337a6_row7_col2\" class=\"data row7 col2\" >0.00</td>\n",
              "      <td id=\"T_337a6_row7_col3\" class=\"data row7 col3\" >0.00</td>\n",
              "      <td id=\"T_337a6_row7_col4\" class=\"data row7 col4\" >0.00</td>\n",
              "      <td id=\"T_337a6_row7_col5\" class=\"data row7 col5\" >0.00</td>\n",
              "      <td id=\"T_337a6_row7_col6\" class=\"data row7 col6\" >0.00</td>\n",
              "      <td id=\"T_337a6_row7_col7\" class=\"data row7 col7\" >0.00</td>\n",
              "      <td id=\"T_337a6_row7_col8\" class=\"data row7 col8\" >0.00</td>\n",
              "      <td id=\"T_337a6_row7_col9\" class=\"data row7 col9\" >0.70</td>\n",
              "      <td id=\"T_337a6_row7_col10\" class=\"data row7 col10\" >0.98</td>\n",
              "      <td id=\"T_337a6_row7_col11\" class=\"data row7 col11\" >0.98</td>\n",
              "      <td id=\"T_337a6_row7_col12\" class=\"data row7 col12\" >0.98</td>\n",
              "      <td id=\"T_337a6_row7_col13\" class=\"data row7 col13\" >0.98</td>\n",
              "      <td id=\"T_337a6_row7_col14\" class=\"data row7 col14\" >0.99</td>\n",
              "      <td id=\"T_337a6_row7_col15\" class=\"data row7 col15\" >0.98</td>\n",
              "      <td id=\"T_337a6_row7_col16\" class=\"data row7 col16\" >0.98</td>\n",
              "      <td id=\"T_337a6_row7_col17\" class=\"data row7 col17\" >0.98</td>\n",
              "      <td id=\"T_337a6_row7_col18\" class=\"data row7 col18\" >0.98</td>\n",
              "      <td id=\"T_337a6_row7_col19\" class=\"data row7 col19\" >0.98</td>\n",
              "      <td id=\"T_337a6_row7_col20\" class=\"data row7 col20\" >0.98</td>\n",
              "      <td id=\"T_337a6_row7_col21\" class=\"data row7 col21\" >0.98</td>\n",
              "      <td id=\"T_337a6_row7_col22\" class=\"data row7 col22\" >0.23</td>\n",
              "      <td id=\"T_337a6_row7_col23\" class=\"data row7 col23\" >0.00</td>\n",
              "      <td id=\"T_337a6_row7_col24\" class=\"data row7 col24\" >0.00</td>\n",
              "      <td id=\"T_337a6_row7_col25\" class=\"data row7 col25\" >0.00</td>\n",
              "      <td id=\"T_337a6_row7_col26\" class=\"data row7 col26\" >0.00</td>\n",
              "      <td id=\"T_337a6_row7_col27\" class=\"data row7 col27\" >0.00</td>\n",
              "    </tr>\n",
              "    <tr>\n",
              "      <th id=\"T_337a6_level0_row8\" class=\"row_heading level0 row8\" >8</th>\n",
              "      <td id=\"T_337a6_row8_col0\" class=\"data row8 col0\" >0.00</td>\n",
              "      <td id=\"T_337a6_row8_col1\" class=\"data row8 col1\" >0.00</td>\n",
              "      <td id=\"T_337a6_row8_col2\" class=\"data row8 col2\" >0.00</td>\n",
              "      <td id=\"T_337a6_row8_col3\" class=\"data row8 col3\" >0.00</td>\n",
              "      <td id=\"T_337a6_row8_col4\" class=\"data row8 col4\" >0.00</td>\n",
              "      <td id=\"T_337a6_row8_col5\" class=\"data row8 col5\" >0.00</td>\n",
              "      <td id=\"T_337a6_row8_col6\" class=\"data row8 col6\" >0.00</td>\n",
              "      <td id=\"T_337a6_row8_col7\" class=\"data row8 col7\" >0.00</td>\n",
              "      <td id=\"T_337a6_row8_col8\" class=\"data row8 col8\" >0.00</td>\n",
              "      <td id=\"T_337a6_row8_col9\" class=\"data row8 col9\" >0.43</td>\n",
              "      <td id=\"T_337a6_row8_col10\" class=\"data row8 col10\" >0.98</td>\n",
              "      <td id=\"T_337a6_row8_col11\" class=\"data row8 col11\" >0.98</td>\n",
              "      <td id=\"T_337a6_row8_col12\" class=\"data row8 col12\" >0.90</td>\n",
              "      <td id=\"T_337a6_row8_col13\" class=\"data row8 col13\" >0.52</td>\n",
              "      <td id=\"T_337a6_row8_col14\" class=\"data row8 col14\" >0.52</td>\n",
              "      <td id=\"T_337a6_row8_col15\" class=\"data row8 col15\" >0.52</td>\n",
              "      <td id=\"T_337a6_row8_col16\" class=\"data row8 col16\" >0.52</td>\n",
              "      <td id=\"T_337a6_row8_col17\" class=\"data row8 col17\" >0.74</td>\n",
              "      <td id=\"T_337a6_row8_col18\" class=\"data row8 col18\" >0.98</td>\n",
              "      <td id=\"T_337a6_row8_col19\" class=\"data row8 col19\" >0.98</td>\n",
              "      <td id=\"T_337a6_row8_col20\" class=\"data row8 col20\" >0.98</td>\n",
              "      <td id=\"T_337a6_row8_col21\" class=\"data row8 col21\" >0.98</td>\n",
              "      <td id=\"T_337a6_row8_col22\" class=\"data row8 col22\" >0.23</td>\n",
              "      <td id=\"T_337a6_row8_col23\" class=\"data row8 col23\" >0.00</td>\n",
              "      <td id=\"T_337a6_row8_col24\" class=\"data row8 col24\" >0.00</td>\n",
              "      <td id=\"T_337a6_row8_col25\" class=\"data row8 col25\" >0.00</td>\n",
              "      <td id=\"T_337a6_row8_col26\" class=\"data row8 col26\" >0.00</td>\n",
              "      <td id=\"T_337a6_row8_col27\" class=\"data row8 col27\" >0.00</td>\n",
              "    </tr>\n",
              "    <tr>\n",
              "      <th id=\"T_337a6_level0_row9\" class=\"row_heading level0 row9\" >9</th>\n",
              "      <td id=\"T_337a6_row9_col0\" class=\"data row9 col0\" >0.00</td>\n",
              "      <td id=\"T_337a6_row9_col1\" class=\"data row9 col1\" >0.00</td>\n",
              "      <td id=\"T_337a6_row9_col2\" class=\"data row9 col2\" >0.00</td>\n",
              "      <td id=\"T_337a6_row9_col3\" class=\"data row9 col3\" >0.00</td>\n",
              "      <td id=\"T_337a6_row9_col4\" class=\"data row9 col4\" >0.00</td>\n",
              "      <td id=\"T_337a6_row9_col5\" class=\"data row9 col5\" >0.00</td>\n",
              "      <td id=\"T_337a6_row9_col6\" class=\"data row9 col6\" >0.00</td>\n",
              "      <td id=\"T_337a6_row9_col7\" class=\"data row9 col7\" >0.00</td>\n",
              "      <td id=\"T_337a6_row9_col8\" class=\"data row9 col8\" >0.00</td>\n",
              "      <td id=\"T_337a6_row9_col9\" class=\"data row9 col9\" >0.02</td>\n",
              "      <td id=\"T_337a6_row9_col10\" class=\"data row9 col10\" >0.11</td>\n",
              "      <td id=\"T_337a6_row9_col11\" class=\"data row9 col11\" >0.11</td>\n",
              "      <td id=\"T_337a6_row9_col12\" class=\"data row9 col12\" >0.09</td>\n",
              "      <td id=\"T_337a6_row9_col13\" class=\"data row9 col13\" >0.00</td>\n",
              "      <td id=\"T_337a6_row9_col14\" class=\"data row9 col14\" >0.00</td>\n",
              "      <td id=\"T_337a6_row9_col15\" class=\"data row9 col15\" >0.00</td>\n",
              "      <td id=\"T_337a6_row9_col16\" class=\"data row9 col16\" >0.00</td>\n",
              "      <td id=\"T_337a6_row9_col17\" class=\"data row9 col17\" >0.05</td>\n",
              "      <td id=\"T_337a6_row9_col18\" class=\"data row9 col18\" >0.88</td>\n",
              "      <td id=\"T_337a6_row9_col19\" class=\"data row9 col19\" >0.98</td>\n",
              "      <td id=\"T_337a6_row9_col20\" class=\"data row9 col20\" >0.98</td>\n",
              "      <td id=\"T_337a6_row9_col21\" class=\"data row9 col21\" >0.67</td>\n",
              "      <td id=\"T_337a6_row9_col22\" class=\"data row9 col22\" >0.03</td>\n",
              "      <td id=\"T_337a6_row9_col23\" class=\"data row9 col23\" >0.00</td>\n",
              "      <td id=\"T_337a6_row9_col24\" class=\"data row9 col24\" >0.00</td>\n",
              "      <td id=\"T_337a6_row9_col25\" class=\"data row9 col25\" >0.00</td>\n",
              "      <td id=\"T_337a6_row9_col26\" class=\"data row9 col26\" >0.00</td>\n",
              "      <td id=\"T_337a6_row9_col27\" class=\"data row9 col27\" >0.00</td>\n",
              "    </tr>\n",
              "    <tr>\n",
              "      <th id=\"T_337a6_level0_row10\" class=\"row_heading level0 row10\" >10</th>\n",
              "      <td id=\"T_337a6_row10_col0\" class=\"data row10 col0\" >0.00</td>\n",
              "      <td id=\"T_337a6_row10_col1\" class=\"data row10 col1\" >0.00</td>\n",
              "      <td id=\"T_337a6_row10_col2\" class=\"data row10 col2\" >0.00</td>\n",
              "      <td id=\"T_337a6_row10_col3\" class=\"data row10 col3\" >0.00</td>\n",
              "      <td id=\"T_337a6_row10_col4\" class=\"data row10 col4\" >0.00</td>\n",
              "      <td id=\"T_337a6_row10_col5\" class=\"data row10 col5\" >0.00</td>\n",
              "      <td id=\"T_337a6_row10_col6\" class=\"data row10 col6\" >0.00</td>\n",
              "      <td id=\"T_337a6_row10_col7\" class=\"data row10 col7\" >0.00</td>\n",
              "      <td id=\"T_337a6_row10_col8\" class=\"data row10 col8\" >0.00</td>\n",
              "      <td id=\"T_337a6_row10_col9\" class=\"data row10 col9\" >0.00</td>\n",
              "      <td id=\"T_337a6_row10_col10\" class=\"data row10 col10\" >0.00</td>\n",
              "      <td id=\"T_337a6_row10_col11\" class=\"data row10 col11\" >0.00</td>\n",
              "      <td id=\"T_337a6_row10_col12\" class=\"data row10 col12\" >0.00</td>\n",
              "      <td id=\"T_337a6_row10_col13\" class=\"data row10 col13\" >0.00</td>\n",
              "      <td id=\"T_337a6_row10_col14\" class=\"data row10 col14\" >0.00</td>\n",
              "      <td id=\"T_337a6_row10_col15\" class=\"data row10 col15\" >0.00</td>\n",
              "      <td id=\"T_337a6_row10_col16\" class=\"data row10 col16\" >0.00</td>\n",
              "      <td id=\"T_337a6_row10_col17\" class=\"data row10 col17\" >0.33</td>\n",
              "      <td id=\"T_337a6_row10_col18\" class=\"data row10 col18\" >0.95</td>\n",
              "      <td id=\"T_337a6_row10_col19\" class=\"data row10 col19\" >0.98</td>\n",
              "      <td id=\"T_337a6_row10_col20\" class=\"data row10 col20\" >0.98</td>\n",
              "      <td id=\"T_337a6_row10_col21\" class=\"data row10 col21\" >0.56</td>\n",
              "      <td id=\"T_337a6_row10_col22\" class=\"data row10 col22\" >0.00</td>\n",
              "      <td id=\"T_337a6_row10_col23\" class=\"data row10 col23\" >0.00</td>\n",
              "      <td id=\"T_337a6_row10_col24\" class=\"data row10 col24\" >0.00</td>\n",
              "      <td id=\"T_337a6_row10_col25\" class=\"data row10 col25\" >0.00</td>\n",
              "      <td id=\"T_337a6_row10_col26\" class=\"data row10 col26\" >0.00</td>\n",
              "      <td id=\"T_337a6_row10_col27\" class=\"data row10 col27\" >0.00</td>\n",
              "    </tr>\n",
              "    <tr>\n",
              "      <th id=\"T_337a6_level0_row11\" class=\"row_heading level0 row11\" >11</th>\n",
              "      <td id=\"T_337a6_row11_col0\" class=\"data row11 col0\" >0.00</td>\n",
              "      <td id=\"T_337a6_row11_col1\" class=\"data row11 col1\" >0.00</td>\n",
              "      <td id=\"T_337a6_row11_col2\" class=\"data row11 col2\" >0.00</td>\n",
              "      <td id=\"T_337a6_row11_col3\" class=\"data row11 col3\" >0.00</td>\n",
              "      <td id=\"T_337a6_row11_col4\" class=\"data row11 col4\" >0.00</td>\n",
              "      <td id=\"T_337a6_row11_col5\" class=\"data row11 col5\" >0.00</td>\n",
              "      <td id=\"T_337a6_row11_col6\" class=\"data row11 col6\" >0.00</td>\n",
              "      <td id=\"T_337a6_row11_col7\" class=\"data row11 col7\" >0.00</td>\n",
              "      <td id=\"T_337a6_row11_col8\" class=\"data row11 col8\" >0.00</td>\n",
              "      <td id=\"T_337a6_row11_col9\" class=\"data row11 col9\" >0.00</td>\n",
              "      <td id=\"T_337a6_row11_col10\" class=\"data row11 col10\" >0.00</td>\n",
              "      <td id=\"T_337a6_row11_col11\" class=\"data row11 col11\" >0.00</td>\n",
              "      <td id=\"T_337a6_row11_col12\" class=\"data row11 col12\" >0.00</td>\n",
              "      <td id=\"T_337a6_row11_col13\" class=\"data row11 col13\" >0.00</td>\n",
              "      <td id=\"T_337a6_row11_col14\" class=\"data row11 col14\" >0.00</td>\n",
              "      <td id=\"T_337a6_row11_col15\" class=\"data row11 col15\" >0.00</td>\n",
              "      <td id=\"T_337a6_row11_col16\" class=\"data row11 col16\" >0.34</td>\n",
              "      <td id=\"T_337a6_row11_col17\" class=\"data row11 col17\" >0.74</td>\n",
              "      <td id=\"T_337a6_row11_col18\" class=\"data row11 col18\" >0.98</td>\n",
              "      <td id=\"T_337a6_row11_col19\" class=\"data row11 col19\" >0.98</td>\n",
              "      <td id=\"T_337a6_row11_col20\" class=\"data row11 col20\" >0.98</td>\n",
              "      <td id=\"T_337a6_row11_col21\" class=\"data row11 col21\" >0.05</td>\n",
              "      <td id=\"T_337a6_row11_col22\" class=\"data row11 col22\" >0.00</td>\n",
              "      <td id=\"T_337a6_row11_col23\" class=\"data row11 col23\" >0.00</td>\n",
              "      <td id=\"T_337a6_row11_col24\" class=\"data row11 col24\" >0.00</td>\n",
              "      <td id=\"T_337a6_row11_col25\" class=\"data row11 col25\" >0.00</td>\n",
              "      <td id=\"T_337a6_row11_col26\" class=\"data row11 col26\" >0.00</td>\n",
              "      <td id=\"T_337a6_row11_col27\" class=\"data row11 col27\" >0.00</td>\n",
              "    </tr>\n",
              "    <tr>\n",
              "      <th id=\"T_337a6_level0_row12\" class=\"row_heading level0 row12\" >12</th>\n",
              "      <td id=\"T_337a6_row12_col0\" class=\"data row12 col0\" >0.00</td>\n",
              "      <td id=\"T_337a6_row12_col1\" class=\"data row12 col1\" >0.00</td>\n",
              "      <td id=\"T_337a6_row12_col2\" class=\"data row12 col2\" >0.00</td>\n",
              "      <td id=\"T_337a6_row12_col3\" class=\"data row12 col3\" >0.00</td>\n",
              "      <td id=\"T_337a6_row12_col4\" class=\"data row12 col4\" >0.00</td>\n",
              "      <td id=\"T_337a6_row12_col5\" class=\"data row12 col5\" >0.00</td>\n",
              "      <td id=\"T_337a6_row12_col6\" class=\"data row12 col6\" >0.00</td>\n",
              "      <td id=\"T_337a6_row12_col7\" class=\"data row12 col7\" >0.00</td>\n",
              "      <td id=\"T_337a6_row12_col8\" class=\"data row12 col8\" >0.00</td>\n",
              "      <td id=\"T_337a6_row12_col9\" class=\"data row12 col9\" >0.00</td>\n",
              "      <td id=\"T_337a6_row12_col10\" class=\"data row12 col10\" >0.00</td>\n",
              "      <td id=\"T_337a6_row12_col11\" class=\"data row12 col11\" >0.00</td>\n",
              "      <td id=\"T_337a6_row12_col12\" class=\"data row12 col12\" >0.00</td>\n",
              "      <td id=\"T_337a6_row12_col13\" class=\"data row12 col13\" >0.00</td>\n",
              "      <td id=\"T_337a6_row12_col14\" class=\"data row12 col14\" >0.36</td>\n",
              "      <td id=\"T_337a6_row12_col15\" class=\"data row12 col15\" >0.83</td>\n",
              "      <td id=\"T_337a6_row12_col16\" class=\"data row12 col16\" >0.96</td>\n",
              "      <td id=\"T_337a6_row12_col17\" class=\"data row12 col17\" >0.98</td>\n",
              "      <td id=\"T_337a6_row12_col18\" class=\"data row12 col18\" >0.98</td>\n",
              "      <td id=\"T_337a6_row12_col19\" class=\"data row12 col19\" >0.98</td>\n",
              "      <td id=\"T_337a6_row12_col20\" class=\"data row12 col20\" >0.80</td>\n",
              "      <td id=\"T_337a6_row12_col21\" class=\"data row12 col21\" >0.04</td>\n",
              "      <td id=\"T_337a6_row12_col22\" class=\"data row12 col22\" >0.00</td>\n",
              "      <td id=\"T_337a6_row12_col23\" class=\"data row12 col23\" >0.00</td>\n",
              "      <td id=\"T_337a6_row12_col24\" class=\"data row12 col24\" >0.00</td>\n",
              "      <td id=\"T_337a6_row12_col25\" class=\"data row12 col25\" >0.00</td>\n",
              "      <td id=\"T_337a6_row12_col26\" class=\"data row12 col26\" >0.00</td>\n",
              "      <td id=\"T_337a6_row12_col27\" class=\"data row12 col27\" >0.00</td>\n",
              "    </tr>\n",
              "    <tr>\n",
              "      <th id=\"T_337a6_level0_row13\" class=\"row_heading level0 row13\" >13</th>\n",
              "      <td id=\"T_337a6_row13_col0\" class=\"data row13 col0\" >0.00</td>\n",
              "      <td id=\"T_337a6_row13_col1\" class=\"data row13 col1\" >0.00</td>\n",
              "      <td id=\"T_337a6_row13_col2\" class=\"data row13 col2\" >0.00</td>\n",
              "      <td id=\"T_337a6_row13_col3\" class=\"data row13 col3\" >0.00</td>\n",
              "      <td id=\"T_337a6_row13_col4\" class=\"data row13 col4\" >0.00</td>\n",
              "      <td id=\"T_337a6_row13_col5\" class=\"data row13 col5\" >0.00</td>\n",
              "      <td id=\"T_337a6_row13_col6\" class=\"data row13 col6\" >0.00</td>\n",
              "      <td id=\"T_337a6_row13_col7\" class=\"data row13 col7\" >0.00</td>\n",
              "      <td id=\"T_337a6_row13_col8\" class=\"data row13 col8\" >0.00</td>\n",
              "      <td id=\"T_337a6_row13_col9\" class=\"data row13 col9\" >0.12</td>\n",
              "      <td id=\"T_337a6_row13_col10\" class=\"data row13 col10\" >0.49</td>\n",
              "      <td id=\"T_337a6_row13_col11\" class=\"data row13 col11\" >0.75</td>\n",
              "      <td id=\"T_337a6_row13_col12\" class=\"data row13 col12\" >0.75</td>\n",
              "      <td id=\"T_337a6_row13_col13\" class=\"data row13 col13\" >0.75</td>\n",
              "      <td id=\"T_337a6_row13_col14\" class=\"data row13 col14\" >0.99</td>\n",
              "      <td id=\"T_337a6_row13_col15\" class=\"data row13 col15\" >0.98</td>\n",
              "      <td id=\"T_337a6_row13_col16\" class=\"data row13 col16\" >0.98</td>\n",
              "      <td id=\"T_337a6_row13_col17\" class=\"data row13 col17\" >0.98</td>\n",
              "      <td id=\"T_337a6_row13_col18\" class=\"data row13 col18\" >0.93</td>\n",
              "      <td id=\"T_337a6_row13_col19\" class=\"data row13 col19\" >0.40</td>\n",
              "      <td id=\"T_337a6_row13_col20\" class=\"data row13 col20\" >0.11</td>\n",
              "      <td id=\"T_337a6_row13_col21\" class=\"data row13 col21\" >0.00</td>\n",
              "      <td id=\"T_337a6_row13_col22\" class=\"data row13 col22\" >0.00</td>\n",
              "      <td id=\"T_337a6_row13_col23\" class=\"data row13 col23\" >0.00</td>\n",
              "      <td id=\"T_337a6_row13_col24\" class=\"data row13 col24\" >0.00</td>\n",
              "      <td id=\"T_337a6_row13_col25\" class=\"data row13 col25\" >0.00</td>\n",
              "      <td id=\"T_337a6_row13_col26\" class=\"data row13 col26\" >0.00</td>\n",
              "      <td id=\"T_337a6_row13_col27\" class=\"data row13 col27\" >0.00</td>\n",
              "    </tr>\n",
              "    <tr>\n",
              "      <th id=\"T_337a6_level0_row14\" class=\"row_heading level0 row14\" >14</th>\n",
              "      <td id=\"T_337a6_row14_col0\" class=\"data row14 col0\" >0.00</td>\n",
              "      <td id=\"T_337a6_row14_col1\" class=\"data row14 col1\" >0.00</td>\n",
              "      <td id=\"T_337a6_row14_col2\" class=\"data row14 col2\" >0.00</td>\n",
              "      <td id=\"T_337a6_row14_col3\" class=\"data row14 col3\" >0.00</td>\n",
              "      <td id=\"T_337a6_row14_col4\" class=\"data row14 col4\" >0.00</td>\n",
              "      <td id=\"T_337a6_row14_col5\" class=\"data row14 col5\" >0.00</td>\n",
              "      <td id=\"T_337a6_row14_col6\" class=\"data row14 col6\" >0.00</td>\n",
              "      <td id=\"T_337a6_row14_col7\" class=\"data row14 col7\" >0.00</td>\n",
              "      <td id=\"T_337a6_row14_col8\" class=\"data row14 col8\" >0.18</td>\n",
              "      <td id=\"T_337a6_row14_col9\" class=\"data row14 col9\" >0.87</td>\n",
              "      <td id=\"T_337a6_row14_col10\" class=\"data row14 col10\" >0.98</td>\n",
              "      <td id=\"T_337a6_row14_col11\" class=\"data row14 col11\" >0.98</td>\n",
              "      <td id=\"T_337a6_row14_col12\" class=\"data row14 col12\" >0.98</td>\n",
              "      <td id=\"T_337a6_row14_col13\" class=\"data row14 col13\" >0.98</td>\n",
              "      <td id=\"T_337a6_row14_col14\" class=\"data row14 col14\" >0.99</td>\n",
              "      <td id=\"T_337a6_row14_col15\" class=\"data row14 col15\" >0.98</td>\n",
              "      <td id=\"T_337a6_row14_col16\" class=\"data row14 col16\" >0.98</td>\n",
              "      <td id=\"T_337a6_row14_col17\" class=\"data row14 col17\" >0.98</td>\n",
              "      <td id=\"T_337a6_row14_col18\" class=\"data row14 col18\" >0.69</td>\n",
              "      <td id=\"T_337a6_row14_col19\" class=\"data row14 col19\" >0.00</td>\n",
              "      <td id=\"T_337a6_row14_col20\" class=\"data row14 col20\" >0.00</td>\n",
              "      <td id=\"T_337a6_row14_col21\" class=\"data row14 col21\" >0.00</td>\n",
              "      <td id=\"T_337a6_row14_col22\" class=\"data row14 col22\" >0.00</td>\n",
              "      <td id=\"T_337a6_row14_col23\" class=\"data row14 col23\" >0.00</td>\n",
              "      <td id=\"T_337a6_row14_col24\" class=\"data row14 col24\" >0.00</td>\n",
              "      <td id=\"T_337a6_row14_col25\" class=\"data row14 col25\" >0.00</td>\n",
              "      <td id=\"T_337a6_row14_col26\" class=\"data row14 col26\" >0.00</td>\n",
              "      <td id=\"T_337a6_row14_col27\" class=\"data row14 col27\" >0.00</td>\n",
              "    </tr>\n",
              "    <tr>\n",
              "      <th id=\"T_337a6_level0_row15\" class=\"row_heading level0 row15\" >15</th>\n",
              "      <td id=\"T_337a6_row15_col0\" class=\"data row15 col0\" >0.00</td>\n",
              "      <td id=\"T_337a6_row15_col1\" class=\"data row15 col1\" >0.00</td>\n",
              "      <td id=\"T_337a6_row15_col2\" class=\"data row15 col2\" >0.00</td>\n",
              "      <td id=\"T_337a6_row15_col3\" class=\"data row15 col3\" >0.00</td>\n",
              "      <td id=\"T_337a6_row15_col4\" class=\"data row15 col4\" >0.00</td>\n",
              "      <td id=\"T_337a6_row15_col5\" class=\"data row15 col5\" >0.00</td>\n",
              "      <td id=\"T_337a6_row15_col6\" class=\"data row15 col6\" >0.00</td>\n",
              "      <td id=\"T_337a6_row15_col7\" class=\"data row15 col7\" >0.00</td>\n",
              "      <td id=\"T_337a6_row15_col8\" class=\"data row15 col8\" >0.18</td>\n",
              "      <td id=\"T_337a6_row15_col9\" class=\"data row15 col9\" >0.87</td>\n",
              "      <td id=\"T_337a6_row15_col10\" class=\"data row15 col10\" >0.99</td>\n",
              "      <td id=\"T_337a6_row15_col11\" class=\"data row15 col11\" >0.99</td>\n",
              "      <td id=\"T_337a6_row15_col12\" class=\"data row15 col12\" >0.99</td>\n",
              "      <td id=\"T_337a6_row15_col13\" class=\"data row15 col13\" >0.99</td>\n",
              "      <td id=\"T_337a6_row15_col14\" class=\"data row15 col14\" >1.00</td>\n",
              "      <td id=\"T_337a6_row15_col15\" class=\"data row15 col15\" >0.99</td>\n",
              "      <td id=\"T_337a6_row15_col16\" class=\"data row15 col16\" >0.99</td>\n",
              "      <td id=\"T_337a6_row15_col17\" class=\"data row15 col17\" >0.99</td>\n",
              "      <td id=\"T_337a6_row15_col18\" class=\"data row15 col18\" >0.99</td>\n",
              "      <td id=\"T_337a6_row15_col19\" class=\"data row15 col19\" >0.29</td>\n",
              "      <td id=\"T_337a6_row15_col20\" class=\"data row15 col20\" >0.00</td>\n",
              "      <td id=\"T_337a6_row15_col21\" class=\"data row15 col21\" >0.00</td>\n",
              "      <td id=\"T_337a6_row15_col22\" class=\"data row15 col22\" >0.00</td>\n",
              "      <td id=\"T_337a6_row15_col23\" class=\"data row15 col23\" >0.00</td>\n",
              "      <td id=\"T_337a6_row15_col24\" class=\"data row15 col24\" >0.00</td>\n",
              "      <td id=\"T_337a6_row15_col25\" class=\"data row15 col25\" >0.00</td>\n",
              "      <td id=\"T_337a6_row15_col26\" class=\"data row15 col26\" >0.00</td>\n",
              "      <td id=\"T_337a6_row15_col27\" class=\"data row15 col27\" >0.00</td>\n",
              "    </tr>\n",
              "    <tr>\n",
              "      <th id=\"T_337a6_level0_row16\" class=\"row_heading level0 row16\" >16</th>\n",
              "      <td id=\"T_337a6_row16_col0\" class=\"data row16 col0\" >0.00</td>\n",
              "      <td id=\"T_337a6_row16_col1\" class=\"data row16 col1\" >0.00</td>\n",
              "      <td id=\"T_337a6_row16_col2\" class=\"data row16 col2\" >0.00</td>\n",
              "      <td id=\"T_337a6_row16_col3\" class=\"data row16 col3\" >0.00</td>\n",
              "      <td id=\"T_337a6_row16_col4\" class=\"data row16 col4\" >0.00</td>\n",
              "      <td id=\"T_337a6_row16_col5\" class=\"data row16 col5\" >0.00</td>\n",
              "      <td id=\"T_337a6_row16_col6\" class=\"data row16 col6\" >0.00</td>\n",
              "      <td id=\"T_337a6_row16_col7\" class=\"data row16 col7\" >0.00</td>\n",
              "      <td id=\"T_337a6_row16_col8\" class=\"data row16 col8\" >0.00</td>\n",
              "      <td id=\"T_337a6_row16_col9\" class=\"data row16 col9\" >0.12</td>\n",
              "      <td id=\"T_337a6_row16_col10\" class=\"data row16 col10\" >0.48</td>\n",
              "      <td id=\"T_337a6_row16_col11\" class=\"data row16 col11\" >0.20</td>\n",
              "      <td id=\"T_337a6_row16_col12\" class=\"data row16 col12\" >0.17</td>\n",
              "      <td id=\"T_337a6_row16_col13\" class=\"data row16 col13\" >0.17</td>\n",
              "      <td id=\"T_337a6_row16_col14\" class=\"data row16 col14\" >0.17</td>\n",
              "      <td id=\"T_337a6_row16_col15\" class=\"data row16 col15\" >0.17</td>\n",
              "      <td id=\"T_337a6_row16_col16\" class=\"data row16 col16\" >0.56</td>\n",
              "      <td id=\"T_337a6_row16_col17\" class=\"data row16 col17\" >0.98</td>\n",
              "      <td id=\"T_337a6_row16_col18\" class=\"data row16 col18\" >0.98</td>\n",
              "      <td id=\"T_337a6_row16_col19\" class=\"data row16 col19\" >0.29</td>\n",
              "      <td id=\"T_337a6_row16_col20\" class=\"data row16 col20\" >0.00</td>\n",
              "      <td id=\"T_337a6_row16_col21\" class=\"data row16 col21\" >0.00</td>\n",
              "      <td id=\"T_337a6_row16_col22\" class=\"data row16 col22\" >0.00</td>\n",
              "      <td id=\"T_337a6_row16_col23\" class=\"data row16 col23\" >0.00</td>\n",
              "      <td id=\"T_337a6_row16_col24\" class=\"data row16 col24\" >0.00</td>\n",
              "      <td id=\"T_337a6_row16_col25\" class=\"data row16 col25\" >0.00</td>\n",
              "      <td id=\"T_337a6_row16_col26\" class=\"data row16 col26\" >0.00</td>\n",
              "      <td id=\"T_337a6_row16_col27\" class=\"data row16 col27\" >0.00</td>\n",
              "    </tr>\n",
              "    <tr>\n",
              "      <th id=\"T_337a6_level0_row17\" class=\"row_heading level0 row17\" >17</th>\n",
              "      <td id=\"T_337a6_row17_col0\" class=\"data row17 col0\" >0.00</td>\n",
              "      <td id=\"T_337a6_row17_col1\" class=\"data row17 col1\" >0.00</td>\n",
              "      <td id=\"T_337a6_row17_col2\" class=\"data row17 col2\" >0.00</td>\n",
              "      <td id=\"T_337a6_row17_col3\" class=\"data row17 col3\" >0.00</td>\n",
              "      <td id=\"T_337a6_row17_col4\" class=\"data row17 col4\" >0.00</td>\n",
              "      <td id=\"T_337a6_row17_col5\" class=\"data row17 col5\" >0.00</td>\n",
              "      <td id=\"T_337a6_row17_col6\" class=\"data row17 col6\" >0.00</td>\n",
              "      <td id=\"T_337a6_row17_col7\" class=\"data row17 col7\" >0.00</td>\n",
              "      <td id=\"T_337a6_row17_col8\" class=\"data row17 col8\" >0.00</td>\n",
              "      <td id=\"T_337a6_row17_col9\" class=\"data row17 col9\" >0.00</td>\n",
              "      <td id=\"T_337a6_row17_col10\" class=\"data row17 col10\" >0.00</td>\n",
              "      <td id=\"T_337a6_row17_col11\" class=\"data row17 col11\" >0.00</td>\n",
              "      <td id=\"T_337a6_row17_col12\" class=\"data row17 col12\" >0.00</td>\n",
              "      <td id=\"T_337a6_row17_col13\" class=\"data row17 col13\" >0.00</td>\n",
              "      <td id=\"T_337a6_row17_col14\" class=\"data row17 col14\" >0.00</td>\n",
              "      <td id=\"T_337a6_row17_col15\" class=\"data row17 col15\" >0.00</td>\n",
              "      <td id=\"T_337a6_row17_col16\" class=\"data row17 col16\" >0.06</td>\n",
              "      <td id=\"T_337a6_row17_col17\" class=\"data row17 col17\" >0.98</td>\n",
              "      <td id=\"T_337a6_row17_col18\" class=\"data row17 col18\" >0.98</td>\n",
              "      <td id=\"T_337a6_row17_col19\" class=\"data row17 col19\" >0.29</td>\n",
              "      <td id=\"T_337a6_row17_col20\" class=\"data row17 col20\" >0.00</td>\n",
              "      <td id=\"T_337a6_row17_col21\" class=\"data row17 col21\" >0.00</td>\n",
              "      <td id=\"T_337a6_row17_col22\" class=\"data row17 col22\" >0.00</td>\n",
              "      <td id=\"T_337a6_row17_col23\" class=\"data row17 col23\" >0.00</td>\n",
              "      <td id=\"T_337a6_row17_col24\" class=\"data row17 col24\" >0.00</td>\n",
              "      <td id=\"T_337a6_row17_col25\" class=\"data row17 col25\" >0.00</td>\n",
              "      <td id=\"T_337a6_row17_col26\" class=\"data row17 col26\" >0.00</td>\n",
              "      <td id=\"T_337a6_row17_col27\" class=\"data row17 col27\" >0.00</td>\n",
              "    </tr>\n",
              "    <tr>\n",
              "      <th id=\"T_337a6_level0_row18\" class=\"row_heading level0 row18\" >18</th>\n",
              "      <td id=\"T_337a6_row18_col0\" class=\"data row18 col0\" >0.00</td>\n",
              "      <td id=\"T_337a6_row18_col1\" class=\"data row18 col1\" >0.00</td>\n",
              "      <td id=\"T_337a6_row18_col2\" class=\"data row18 col2\" >0.00</td>\n",
              "      <td id=\"T_337a6_row18_col3\" class=\"data row18 col3\" >0.00</td>\n",
              "      <td id=\"T_337a6_row18_col4\" class=\"data row18 col4\" >0.00</td>\n",
              "      <td id=\"T_337a6_row18_col5\" class=\"data row18 col5\" >0.00</td>\n",
              "      <td id=\"T_337a6_row18_col6\" class=\"data row18 col6\" >0.00</td>\n",
              "      <td id=\"T_337a6_row18_col7\" class=\"data row18 col7\" >0.00</td>\n",
              "      <td id=\"T_337a6_row18_col8\" class=\"data row18 col8\" >0.00</td>\n",
              "      <td id=\"T_337a6_row18_col9\" class=\"data row18 col9\" >0.00</td>\n",
              "      <td id=\"T_337a6_row18_col10\" class=\"data row18 col10\" >0.00</td>\n",
              "      <td id=\"T_337a6_row18_col11\" class=\"data row18 col11\" >0.00</td>\n",
              "      <td id=\"T_337a6_row18_col12\" class=\"data row18 col12\" >0.00</td>\n",
              "      <td id=\"T_337a6_row18_col13\" class=\"data row18 col13\" >0.00</td>\n",
              "      <td id=\"T_337a6_row18_col14\" class=\"data row18 col14\" >0.00</td>\n",
              "      <td id=\"T_337a6_row18_col15\" class=\"data row18 col15\" >0.00</td>\n",
              "      <td id=\"T_337a6_row18_col16\" class=\"data row18 col16\" >0.34</td>\n",
              "      <td id=\"T_337a6_row18_col17\" class=\"data row18 col17\" >0.98</td>\n",
              "      <td id=\"T_337a6_row18_col18\" class=\"data row18 col18\" >0.98</td>\n",
              "      <td id=\"T_337a6_row18_col19\" class=\"data row18 col19\" >0.29</td>\n",
              "      <td id=\"T_337a6_row18_col20\" class=\"data row18 col20\" >0.00</td>\n",
              "      <td id=\"T_337a6_row18_col21\" class=\"data row18 col21\" >0.00</td>\n",
              "      <td id=\"T_337a6_row18_col22\" class=\"data row18 col22\" >0.00</td>\n",
              "      <td id=\"T_337a6_row18_col23\" class=\"data row18 col23\" >0.00</td>\n",
              "      <td id=\"T_337a6_row18_col24\" class=\"data row18 col24\" >0.00</td>\n",
              "      <td id=\"T_337a6_row18_col25\" class=\"data row18 col25\" >0.00</td>\n",
              "      <td id=\"T_337a6_row18_col26\" class=\"data row18 col26\" >0.00</td>\n",
              "      <td id=\"T_337a6_row18_col27\" class=\"data row18 col27\" >0.00</td>\n",
              "    </tr>\n",
              "    <tr>\n",
              "      <th id=\"T_337a6_level0_row19\" class=\"row_heading level0 row19\" >19</th>\n",
              "      <td id=\"T_337a6_row19_col0\" class=\"data row19 col0\" >0.00</td>\n",
              "      <td id=\"T_337a6_row19_col1\" class=\"data row19 col1\" >0.00</td>\n",
              "      <td id=\"T_337a6_row19_col2\" class=\"data row19 col2\" >0.00</td>\n",
              "      <td id=\"T_337a6_row19_col3\" class=\"data row19 col3\" >0.00</td>\n",
              "      <td id=\"T_337a6_row19_col4\" class=\"data row19 col4\" >0.00</td>\n",
              "      <td id=\"T_337a6_row19_col5\" class=\"data row19 col5\" >0.00</td>\n",
              "      <td id=\"T_337a6_row19_col6\" class=\"data row19 col6\" >0.02</td>\n",
              "      <td id=\"T_337a6_row19_col7\" class=\"data row19 col7\" >0.29</td>\n",
              "      <td id=\"T_337a6_row19_col8\" class=\"data row19 col8\" >0.04</td>\n",
              "      <td id=\"T_337a6_row19_col9\" class=\"data row19 col9\" >0.00</td>\n",
              "      <td id=\"T_337a6_row19_col10\" class=\"data row19 col10\" >0.00</td>\n",
              "      <td id=\"T_337a6_row19_col11\" class=\"data row19 col11\" >0.00</td>\n",
              "      <td id=\"T_337a6_row19_col12\" class=\"data row19 col12\" >0.00</td>\n",
              "      <td id=\"T_337a6_row19_col13\" class=\"data row19 col13\" >0.00</td>\n",
              "      <td id=\"T_337a6_row19_col14\" class=\"data row19 col14\" >0.00</td>\n",
              "      <td id=\"T_337a6_row19_col15\" class=\"data row19 col15\" >0.38</td>\n",
              "      <td id=\"T_337a6_row19_col16\" class=\"data row19 col16\" >0.95</td>\n",
              "      <td id=\"T_337a6_row19_col17\" class=\"data row19 col17\" >0.98</td>\n",
              "      <td id=\"T_337a6_row19_col18\" class=\"data row19 col18\" >0.98</td>\n",
              "      <td id=\"T_337a6_row19_col19\" class=\"data row19 col19\" >0.29</td>\n",
              "      <td id=\"T_337a6_row19_col20\" class=\"data row19 col20\" >0.00</td>\n",
              "      <td id=\"T_337a6_row19_col21\" class=\"data row19 col21\" >0.00</td>\n",
              "      <td id=\"T_337a6_row19_col22\" class=\"data row19 col22\" >0.00</td>\n",
              "      <td id=\"T_337a6_row19_col23\" class=\"data row19 col23\" >0.00</td>\n",
              "      <td id=\"T_337a6_row19_col24\" class=\"data row19 col24\" >0.00</td>\n",
              "      <td id=\"T_337a6_row19_col25\" class=\"data row19 col25\" >0.00</td>\n",
              "      <td id=\"T_337a6_row19_col26\" class=\"data row19 col26\" >0.00</td>\n",
              "      <td id=\"T_337a6_row19_col27\" class=\"data row19 col27\" >0.00</td>\n",
              "    </tr>\n",
              "    <tr>\n",
              "      <th id=\"T_337a6_level0_row20\" class=\"row_heading level0 row20\" >20</th>\n",
              "      <td id=\"T_337a6_row20_col0\" class=\"data row20 col0\" >0.00</td>\n",
              "      <td id=\"T_337a6_row20_col1\" class=\"data row20 col1\" >0.00</td>\n",
              "      <td id=\"T_337a6_row20_col2\" class=\"data row20 col2\" >0.00</td>\n",
              "      <td id=\"T_337a6_row20_col3\" class=\"data row20 col3\" >0.00</td>\n",
              "      <td id=\"T_337a6_row20_col4\" class=\"data row20 col4\" >0.00</td>\n",
              "      <td id=\"T_337a6_row20_col5\" class=\"data row20 col5\" >0.24</td>\n",
              "      <td id=\"T_337a6_row20_col6\" class=\"data row20 col6\" >0.71</td>\n",
              "      <td id=\"T_337a6_row20_col7\" class=\"data row20 col7\" >0.98</td>\n",
              "      <td id=\"T_337a6_row20_col8\" class=\"data row20 col8\" >0.11</td>\n",
              "      <td id=\"T_337a6_row20_col9\" class=\"data row20 col9\" >0.00</td>\n",
              "      <td id=\"T_337a6_row20_col10\" class=\"data row20 col10\" >0.00</td>\n",
              "      <td id=\"T_337a6_row20_col11\" class=\"data row20 col11\" >0.00</td>\n",
              "      <td id=\"T_337a6_row20_col12\" class=\"data row20 col12\" >0.00</td>\n",
              "      <td id=\"T_337a6_row20_col13\" class=\"data row20 col13\" >0.07</td>\n",
              "      <td id=\"T_337a6_row20_col14\" class=\"data row20 col14\" >0.36</td>\n",
              "      <td id=\"T_337a6_row20_col15\" class=\"data row20 col15\" >0.93</td>\n",
              "      <td id=\"T_337a6_row20_col16\" class=\"data row20 col16\" >0.98</td>\n",
              "      <td id=\"T_337a6_row20_col17\" class=\"data row20 col17\" >0.98</td>\n",
              "      <td id=\"T_337a6_row20_col18\" class=\"data row20 col18\" >0.95</td>\n",
              "      <td id=\"T_337a6_row20_col19\" class=\"data row20 col19\" >0.25</td>\n",
              "      <td id=\"T_337a6_row20_col20\" class=\"data row20 col20\" >0.00</td>\n",
              "      <td id=\"T_337a6_row20_col21\" class=\"data row20 col21\" >0.00</td>\n",
              "      <td id=\"T_337a6_row20_col22\" class=\"data row20 col22\" >0.00</td>\n",
              "      <td id=\"T_337a6_row20_col23\" class=\"data row20 col23\" >0.00</td>\n",
              "      <td id=\"T_337a6_row20_col24\" class=\"data row20 col24\" >0.00</td>\n",
              "      <td id=\"T_337a6_row20_col25\" class=\"data row20 col25\" >0.00</td>\n",
              "      <td id=\"T_337a6_row20_col26\" class=\"data row20 col26\" >0.00</td>\n",
              "      <td id=\"T_337a6_row20_col27\" class=\"data row20 col27\" >0.00</td>\n",
              "    </tr>\n",
              "    <tr>\n",
              "      <th id=\"T_337a6_level0_row21\" class=\"row_heading level0 row21\" >21</th>\n",
              "      <td id=\"T_337a6_row21_col0\" class=\"data row21 col0\" >0.00</td>\n",
              "      <td id=\"T_337a6_row21_col1\" class=\"data row21 col1\" >0.00</td>\n",
              "      <td id=\"T_337a6_row21_col2\" class=\"data row21 col2\" >0.00</td>\n",
              "      <td id=\"T_337a6_row21_col3\" class=\"data row21 col3\" >0.00</td>\n",
              "      <td id=\"T_337a6_row21_col4\" class=\"data row21 col4\" >0.00</td>\n",
              "      <td id=\"T_337a6_row21_col5\" class=\"data row21 col5\" >0.81</td>\n",
              "      <td id=\"T_337a6_row21_col6\" class=\"data row21 col6\" >0.98</td>\n",
              "      <td id=\"T_337a6_row21_col7\" class=\"data row21 col7\" >0.98</td>\n",
              "      <td id=\"T_337a6_row21_col8\" class=\"data row21 col8\" >0.57</td>\n",
              "      <td id=\"T_337a6_row21_col9\" class=\"data row21 col9\" >0.52</td>\n",
              "      <td id=\"T_337a6_row21_col10\" class=\"data row21 col10\" >0.52</td>\n",
              "      <td id=\"T_337a6_row21_col11\" class=\"data row21 col11\" >0.52</td>\n",
              "      <td id=\"T_337a6_row21_col12\" class=\"data row21 col12\" >0.52</td>\n",
              "      <td id=\"T_337a6_row21_col13\" class=\"data row21 col13\" >0.79</td>\n",
              "      <td id=\"T_337a6_row21_col14\" class=\"data row21 col14\" >0.99</td>\n",
              "      <td id=\"T_337a6_row21_col15\" class=\"data row21 col15\" >0.98</td>\n",
              "      <td id=\"T_337a6_row21_col16\" class=\"data row21 col16\" >0.98</td>\n",
              "      <td id=\"T_337a6_row21_col17\" class=\"data row21 col17\" >0.73</td>\n",
              "      <td id=\"T_337a6_row21_col18\" class=\"data row21 col18\" >0.32</td>\n",
              "      <td id=\"T_337a6_row21_col19\" class=\"data row21 col19\" >0.00</td>\n",
              "      <td id=\"T_337a6_row21_col20\" class=\"data row21 col20\" >0.00</td>\n",
              "      <td id=\"T_337a6_row21_col21\" class=\"data row21 col21\" >0.00</td>\n",
              "      <td id=\"T_337a6_row21_col22\" class=\"data row21 col22\" >0.00</td>\n",
              "      <td id=\"T_337a6_row21_col23\" class=\"data row21 col23\" >0.00</td>\n",
              "      <td id=\"T_337a6_row21_col24\" class=\"data row21 col24\" >0.00</td>\n",
              "      <td id=\"T_337a6_row21_col25\" class=\"data row21 col25\" >0.00</td>\n",
              "      <td id=\"T_337a6_row21_col26\" class=\"data row21 col26\" >0.00</td>\n",
              "      <td id=\"T_337a6_row21_col27\" class=\"data row21 col27\" >0.00</td>\n",
              "    </tr>\n",
              "    <tr>\n",
              "      <th id=\"T_337a6_level0_row22\" class=\"row_heading level0 row22\" >22</th>\n",
              "      <td id=\"T_337a6_row22_col0\" class=\"data row22 col0\" >0.00</td>\n",
              "      <td id=\"T_337a6_row22_col1\" class=\"data row22 col1\" >0.00</td>\n",
              "      <td id=\"T_337a6_row22_col2\" class=\"data row22 col2\" >0.00</td>\n",
              "      <td id=\"T_337a6_row22_col3\" class=\"data row22 col3\" >0.00</td>\n",
              "      <td id=\"T_337a6_row22_col4\" class=\"data row22 col4\" >0.00</td>\n",
              "      <td id=\"T_337a6_row22_col5\" class=\"data row22 col5\" >0.81</td>\n",
              "      <td id=\"T_337a6_row22_col6\" class=\"data row22 col6\" >0.98</td>\n",
              "      <td id=\"T_337a6_row22_col7\" class=\"data row22 col7\" >0.98</td>\n",
              "      <td id=\"T_337a6_row22_col8\" class=\"data row22 col8\" >0.98</td>\n",
              "      <td id=\"T_337a6_row22_col9\" class=\"data row22 col9\" >0.98</td>\n",
              "      <td id=\"T_337a6_row22_col10\" class=\"data row22 col10\" >0.98</td>\n",
              "      <td id=\"T_337a6_row22_col11\" class=\"data row22 col11\" >0.98</td>\n",
              "      <td id=\"T_337a6_row22_col12\" class=\"data row22 col12\" >0.98</td>\n",
              "      <td id=\"T_337a6_row22_col13\" class=\"data row22 col13\" >0.98</td>\n",
              "      <td id=\"T_337a6_row22_col14\" class=\"data row22 col14\" >0.99</td>\n",
              "      <td id=\"T_337a6_row22_col15\" class=\"data row22 col15\" >0.90</td>\n",
              "      <td id=\"T_337a6_row22_col16\" class=\"data row22 col16\" >0.60</td>\n",
              "      <td id=\"T_337a6_row22_col17\" class=\"data row22 col17\" >0.03</td>\n",
              "      <td id=\"T_337a6_row22_col18\" class=\"data row22 col18\" >0.00</td>\n",
              "      <td id=\"T_337a6_row22_col19\" class=\"data row22 col19\" >0.00</td>\n",
              "      <td id=\"T_337a6_row22_col20\" class=\"data row22 col20\" >0.00</td>\n",
              "      <td id=\"T_337a6_row22_col21\" class=\"data row22 col21\" >0.00</td>\n",
              "      <td id=\"T_337a6_row22_col22\" class=\"data row22 col22\" >0.00</td>\n",
              "      <td id=\"T_337a6_row22_col23\" class=\"data row22 col23\" >0.00</td>\n",
              "      <td id=\"T_337a6_row22_col24\" class=\"data row22 col24\" >0.00</td>\n",
              "      <td id=\"T_337a6_row22_col25\" class=\"data row22 col25\" >0.00</td>\n",
              "      <td id=\"T_337a6_row22_col26\" class=\"data row22 col26\" >0.00</td>\n",
              "      <td id=\"T_337a6_row22_col27\" class=\"data row22 col27\" >0.00</td>\n",
              "    </tr>\n",
              "    <tr>\n",
              "      <th id=\"T_337a6_level0_row23\" class=\"row_heading level0 row23\" >23</th>\n",
              "      <td id=\"T_337a6_row23_col0\" class=\"data row23 col0\" >0.00</td>\n",
              "      <td id=\"T_337a6_row23_col1\" class=\"data row23 col1\" >0.00</td>\n",
              "      <td id=\"T_337a6_row23_col2\" class=\"data row23 col2\" >0.00</td>\n",
              "      <td id=\"T_337a6_row23_col3\" class=\"data row23 col3\" >0.00</td>\n",
              "      <td id=\"T_337a6_row23_col4\" class=\"data row23 col4\" >0.00</td>\n",
              "      <td id=\"T_337a6_row23_col5\" class=\"data row23 col5\" >0.19</td>\n",
              "      <td id=\"T_337a6_row23_col6\" class=\"data row23 col6\" >0.61</td>\n",
              "      <td id=\"T_337a6_row23_col7\" class=\"data row23 col7\" >0.98</td>\n",
              "      <td id=\"T_337a6_row23_col8\" class=\"data row23 col8\" >0.98</td>\n",
              "      <td id=\"T_337a6_row23_col9\" class=\"data row23 col9\" >0.98</td>\n",
              "      <td id=\"T_337a6_row23_col10\" class=\"data row23 col10\" >0.98</td>\n",
              "      <td id=\"T_337a6_row23_col11\" class=\"data row23 col11\" >0.98</td>\n",
              "      <td id=\"T_337a6_row23_col12\" class=\"data row23 col12\" >0.85</td>\n",
              "      <td id=\"T_337a6_row23_col13\" class=\"data row23 col13\" >0.81</td>\n",
              "      <td id=\"T_337a6_row23_col14\" class=\"data row23 col14\" >0.57</td>\n",
              "      <td id=\"T_337a6_row23_col15\" class=\"data row23 col15\" >0.18</td>\n",
              "      <td id=\"T_337a6_row23_col16\" class=\"data row23 col16\" >0.00</td>\n",
              "      <td id=\"T_337a6_row23_col17\" class=\"data row23 col17\" >0.00</td>\n",
              "      <td id=\"T_337a6_row23_col18\" class=\"data row23 col18\" >0.00</td>\n",
              "      <td id=\"T_337a6_row23_col19\" class=\"data row23 col19\" >0.00</td>\n",
              "      <td id=\"T_337a6_row23_col20\" class=\"data row23 col20\" >0.00</td>\n",
              "      <td id=\"T_337a6_row23_col21\" class=\"data row23 col21\" >0.00</td>\n",
              "      <td id=\"T_337a6_row23_col22\" class=\"data row23 col22\" >0.00</td>\n",
              "      <td id=\"T_337a6_row23_col23\" class=\"data row23 col23\" >0.00</td>\n",
              "      <td id=\"T_337a6_row23_col24\" class=\"data row23 col24\" >0.00</td>\n",
              "      <td id=\"T_337a6_row23_col25\" class=\"data row23 col25\" >0.00</td>\n",
              "      <td id=\"T_337a6_row23_col26\" class=\"data row23 col26\" >0.00</td>\n",
              "      <td id=\"T_337a6_row23_col27\" class=\"data row23 col27\" >0.00</td>\n",
              "    </tr>\n",
              "    <tr>\n",
              "      <th id=\"T_337a6_level0_row24\" class=\"row_heading level0 row24\" >24</th>\n",
              "      <td id=\"T_337a6_row24_col0\" class=\"data row24 col0\" >0.00</td>\n",
              "      <td id=\"T_337a6_row24_col1\" class=\"data row24 col1\" >0.00</td>\n",
              "      <td id=\"T_337a6_row24_col2\" class=\"data row24 col2\" >0.00</td>\n",
              "      <td id=\"T_337a6_row24_col3\" class=\"data row24 col3\" >0.00</td>\n",
              "      <td id=\"T_337a6_row24_col4\" class=\"data row24 col4\" >0.00</td>\n",
              "      <td id=\"T_337a6_row24_col5\" class=\"data row24 col5\" >0.00</td>\n",
              "      <td id=\"T_337a6_row24_col6\" class=\"data row24 col6\" >0.03</td>\n",
              "      <td id=\"T_337a6_row24_col7\" class=\"data row24 col7\" >0.40</td>\n",
              "      <td id=\"T_337a6_row24_col8\" class=\"data row24 col8\" >0.92</td>\n",
              "      <td id=\"T_337a6_row24_col9\" class=\"data row24 col9\" >0.98</td>\n",
              "      <td id=\"T_337a6_row24_col10\" class=\"data row24 col10\" >0.67</td>\n",
              "      <td id=\"T_337a6_row24_col11\" class=\"data row24 col11\" >0.40</td>\n",
              "      <td id=\"T_337a6_row24_col12\" class=\"data row24 col12\" >0.09</td>\n",
              "      <td id=\"T_337a6_row24_col13\" class=\"data row24 col13\" >0.00</td>\n",
              "      <td id=\"T_337a6_row24_col14\" class=\"data row24 col14\" >0.00</td>\n",
              "      <td id=\"T_337a6_row24_col15\" class=\"data row24 col15\" >0.00</td>\n",
              "      <td id=\"T_337a6_row24_col16\" class=\"data row24 col16\" >0.00</td>\n",
              "      <td id=\"T_337a6_row24_col17\" class=\"data row24 col17\" >0.00</td>\n",
              "      <td id=\"T_337a6_row24_col18\" class=\"data row24 col18\" >0.00</td>\n",
              "      <td id=\"T_337a6_row24_col19\" class=\"data row24 col19\" >0.00</td>\n",
              "      <td id=\"T_337a6_row24_col20\" class=\"data row24 col20\" >0.00</td>\n",
              "      <td id=\"T_337a6_row24_col21\" class=\"data row24 col21\" >0.00</td>\n",
              "      <td id=\"T_337a6_row24_col22\" class=\"data row24 col22\" >0.00</td>\n",
              "      <td id=\"T_337a6_row24_col23\" class=\"data row24 col23\" >0.00</td>\n",
              "      <td id=\"T_337a6_row24_col24\" class=\"data row24 col24\" >0.00</td>\n",
              "      <td id=\"T_337a6_row24_col25\" class=\"data row24 col25\" >0.00</td>\n",
              "      <td id=\"T_337a6_row24_col26\" class=\"data row24 col26\" >0.00</td>\n",
              "      <td id=\"T_337a6_row24_col27\" class=\"data row24 col27\" >0.00</td>\n",
              "    </tr>\n",
              "    <tr>\n",
              "      <th id=\"T_337a6_level0_row25\" class=\"row_heading level0 row25\" >25</th>\n",
              "      <td id=\"T_337a6_row25_col0\" class=\"data row25 col0\" >0.00</td>\n",
              "      <td id=\"T_337a6_row25_col1\" class=\"data row25 col1\" >0.00</td>\n",
              "      <td id=\"T_337a6_row25_col2\" class=\"data row25 col2\" >0.00</td>\n",
              "      <td id=\"T_337a6_row25_col3\" class=\"data row25 col3\" >0.00</td>\n",
              "      <td id=\"T_337a6_row25_col4\" class=\"data row25 col4\" >0.00</td>\n",
              "      <td id=\"T_337a6_row25_col5\" class=\"data row25 col5\" >0.00</td>\n",
              "      <td id=\"T_337a6_row25_col6\" class=\"data row25 col6\" >0.00</td>\n",
              "      <td id=\"T_337a6_row25_col7\" class=\"data row25 col7\" >0.00</td>\n",
              "      <td id=\"T_337a6_row25_col8\" class=\"data row25 col8\" >0.00</td>\n",
              "      <td id=\"T_337a6_row25_col9\" class=\"data row25 col9\" >0.00</td>\n",
              "      <td id=\"T_337a6_row25_col10\" class=\"data row25 col10\" >0.00</td>\n",
              "      <td id=\"T_337a6_row25_col11\" class=\"data row25 col11\" >0.00</td>\n",
              "      <td id=\"T_337a6_row25_col12\" class=\"data row25 col12\" >0.00</td>\n",
              "      <td id=\"T_337a6_row25_col13\" class=\"data row25 col13\" >0.00</td>\n",
              "      <td id=\"T_337a6_row25_col14\" class=\"data row25 col14\" >0.00</td>\n",
              "      <td id=\"T_337a6_row25_col15\" class=\"data row25 col15\" >0.00</td>\n",
              "      <td id=\"T_337a6_row25_col16\" class=\"data row25 col16\" >0.00</td>\n",
              "      <td id=\"T_337a6_row25_col17\" class=\"data row25 col17\" >0.00</td>\n",
              "      <td id=\"T_337a6_row25_col18\" class=\"data row25 col18\" >0.00</td>\n",
              "      <td id=\"T_337a6_row25_col19\" class=\"data row25 col19\" >0.00</td>\n",
              "      <td id=\"T_337a6_row25_col20\" class=\"data row25 col20\" >0.00</td>\n",
              "      <td id=\"T_337a6_row25_col21\" class=\"data row25 col21\" >0.00</td>\n",
              "      <td id=\"T_337a6_row25_col22\" class=\"data row25 col22\" >0.00</td>\n",
              "      <td id=\"T_337a6_row25_col23\" class=\"data row25 col23\" >0.00</td>\n",
              "      <td id=\"T_337a6_row25_col24\" class=\"data row25 col24\" >0.00</td>\n",
              "      <td id=\"T_337a6_row25_col25\" class=\"data row25 col25\" >0.00</td>\n",
              "      <td id=\"T_337a6_row25_col26\" class=\"data row25 col26\" >0.00</td>\n",
              "      <td id=\"T_337a6_row25_col27\" class=\"data row25 col27\" >0.00</td>\n",
              "    </tr>\n",
              "    <tr>\n",
              "      <th id=\"T_337a6_level0_row26\" class=\"row_heading level0 row26\" >26</th>\n",
              "      <td id=\"T_337a6_row26_col0\" class=\"data row26 col0\" >0.00</td>\n",
              "      <td id=\"T_337a6_row26_col1\" class=\"data row26 col1\" >0.00</td>\n",
              "      <td id=\"T_337a6_row26_col2\" class=\"data row26 col2\" >0.00</td>\n",
              "      <td id=\"T_337a6_row26_col3\" class=\"data row26 col3\" >0.00</td>\n",
              "      <td id=\"T_337a6_row26_col4\" class=\"data row26 col4\" >0.00</td>\n",
              "      <td id=\"T_337a6_row26_col5\" class=\"data row26 col5\" >0.00</td>\n",
              "      <td id=\"T_337a6_row26_col6\" class=\"data row26 col6\" >0.00</td>\n",
              "      <td id=\"T_337a6_row26_col7\" class=\"data row26 col7\" >0.00</td>\n",
              "      <td id=\"T_337a6_row26_col8\" class=\"data row26 col8\" >0.00</td>\n",
              "      <td id=\"T_337a6_row26_col9\" class=\"data row26 col9\" >0.00</td>\n",
              "      <td id=\"T_337a6_row26_col10\" class=\"data row26 col10\" >0.00</td>\n",
              "      <td id=\"T_337a6_row26_col11\" class=\"data row26 col11\" >0.00</td>\n",
              "      <td id=\"T_337a6_row26_col12\" class=\"data row26 col12\" >0.00</td>\n",
              "      <td id=\"T_337a6_row26_col13\" class=\"data row26 col13\" >0.00</td>\n",
              "      <td id=\"T_337a6_row26_col14\" class=\"data row26 col14\" >0.00</td>\n",
              "      <td id=\"T_337a6_row26_col15\" class=\"data row26 col15\" >0.00</td>\n",
              "      <td id=\"T_337a6_row26_col16\" class=\"data row26 col16\" >0.00</td>\n",
              "      <td id=\"T_337a6_row26_col17\" class=\"data row26 col17\" >0.00</td>\n",
              "      <td id=\"T_337a6_row26_col18\" class=\"data row26 col18\" >0.00</td>\n",
              "      <td id=\"T_337a6_row26_col19\" class=\"data row26 col19\" >0.00</td>\n",
              "      <td id=\"T_337a6_row26_col20\" class=\"data row26 col20\" >0.00</td>\n",
              "      <td id=\"T_337a6_row26_col21\" class=\"data row26 col21\" >0.00</td>\n",
              "      <td id=\"T_337a6_row26_col22\" class=\"data row26 col22\" >0.00</td>\n",
              "      <td id=\"T_337a6_row26_col23\" class=\"data row26 col23\" >0.00</td>\n",
              "      <td id=\"T_337a6_row26_col24\" class=\"data row26 col24\" >0.00</td>\n",
              "      <td id=\"T_337a6_row26_col25\" class=\"data row26 col25\" >0.00</td>\n",
              "      <td id=\"T_337a6_row26_col26\" class=\"data row26 col26\" >0.00</td>\n",
              "      <td id=\"T_337a6_row26_col27\" class=\"data row26 col27\" >0.00</td>\n",
              "    </tr>\n",
              "    <tr>\n",
              "      <th id=\"T_337a6_level0_row27\" class=\"row_heading level0 row27\" >27</th>\n",
              "      <td id=\"T_337a6_row27_col0\" class=\"data row27 col0\" >0.00</td>\n",
              "      <td id=\"T_337a6_row27_col1\" class=\"data row27 col1\" >0.00</td>\n",
              "      <td id=\"T_337a6_row27_col2\" class=\"data row27 col2\" >0.00</td>\n",
              "      <td id=\"T_337a6_row27_col3\" class=\"data row27 col3\" >0.00</td>\n",
              "      <td id=\"T_337a6_row27_col4\" class=\"data row27 col4\" >0.00</td>\n",
              "      <td id=\"T_337a6_row27_col5\" class=\"data row27 col5\" >0.00</td>\n",
              "      <td id=\"T_337a6_row27_col6\" class=\"data row27 col6\" >0.00</td>\n",
              "      <td id=\"T_337a6_row27_col7\" class=\"data row27 col7\" >0.00</td>\n",
              "      <td id=\"T_337a6_row27_col8\" class=\"data row27 col8\" >0.00</td>\n",
              "      <td id=\"T_337a6_row27_col9\" class=\"data row27 col9\" >0.00</td>\n",
              "      <td id=\"T_337a6_row27_col10\" class=\"data row27 col10\" >0.00</td>\n",
              "      <td id=\"T_337a6_row27_col11\" class=\"data row27 col11\" >0.00</td>\n",
              "      <td id=\"T_337a6_row27_col12\" class=\"data row27 col12\" >0.00</td>\n",
              "      <td id=\"T_337a6_row27_col13\" class=\"data row27 col13\" >0.00</td>\n",
              "      <td id=\"T_337a6_row27_col14\" class=\"data row27 col14\" >0.00</td>\n",
              "      <td id=\"T_337a6_row27_col15\" class=\"data row27 col15\" >0.00</td>\n",
              "      <td id=\"T_337a6_row27_col16\" class=\"data row27 col16\" >0.00</td>\n",
              "      <td id=\"T_337a6_row27_col17\" class=\"data row27 col17\" >0.00</td>\n",
              "      <td id=\"T_337a6_row27_col18\" class=\"data row27 col18\" >0.00</td>\n",
              "      <td id=\"T_337a6_row27_col19\" class=\"data row27 col19\" >0.00</td>\n",
              "      <td id=\"T_337a6_row27_col20\" class=\"data row27 col20\" >0.00</td>\n",
              "      <td id=\"T_337a6_row27_col21\" class=\"data row27 col21\" >0.00</td>\n",
              "      <td id=\"T_337a6_row27_col22\" class=\"data row27 col22\" >0.00</td>\n",
              "      <td id=\"T_337a6_row27_col23\" class=\"data row27 col23\" >0.00</td>\n",
              "      <td id=\"T_337a6_row27_col24\" class=\"data row27 col24\" >0.00</td>\n",
              "      <td id=\"T_337a6_row27_col25\" class=\"data row27 col25\" >0.00</td>\n",
              "      <td id=\"T_337a6_row27_col26\" class=\"data row27 col26\" >0.00</td>\n",
              "      <td id=\"T_337a6_row27_col27\" class=\"data row27 col27\" >0.00</td>\n",
              "    </tr>\n",
              "  </tbody>\n",
              "</table>\n"
            ],
            "text/plain": [
              "<pandas.io.formats.style.Styler at 0x7ff5b446c700>"
            ]
          },
          "execution_count": 21,
          "metadata": {},
          "output_type": "execute_result"
        }
      ],
      "source": [
        "import pandas as pd\n",
        "\n",
        "df = pd.DataFrame(im3)\n",
        "df.style.format(precision=2).set_properties(**{'font_size': '7pt'}).background_gradient('Greys')"
      ]
    },
    {
      "cell_type": "code",
      "execution_count": 23,
      "metadata": {
        "colab": {
          "base_uri": "https://localhost:8080/"
        },
        "id": "pJIvy_8qDvqA",
        "outputId": "b34aa9bb-9373-4df7-dc6b-6f7db74436c3"
      },
      "outputs": [
        {
          "data": {
            "text/plain": [
              "tensor(2.9727)"
            ]
          },
          "execution_count": 23,
          "metadata": {},
          "output_type": "execute_result"
        }
      ],
      "source": [
        "(im3[3:6, 14:17] * top_edge).sum()"
      ]
    },
    {
      "cell_type": "code",
      "execution_count": 24,
      "metadata": {
        "colab": {
          "base_uri": "https://localhost:8080/"
        },
        "id": "vqttiF8nD3Ki",
        "outputId": "9558e24b-1091-4c09-8bb3-530d25384581"
      },
      "outputs": [
        {
          "data": {
            "text/plain": [
              "tensor(-2.9570)"
            ]
          },
          "execution_count": 24,
          "metadata": {},
          "output_type": "execute_result"
        }
      ],
      "source": [
        "(im3[7:10, 14:17] * top_edge).sum()"
      ]
    },
    {
      "cell_type": "code",
      "execution_count": 25,
      "metadata": {
        "id": "pO8eo7itEAO6"
      },
      "outputs": [],
      "source": [
        "def apply_kernel(row, col, kernel):\n",
        "    return (im3[row-1:row+2, col-1:col+2] * kernel).sum()"
      ]
    },
    {
      "cell_type": "code",
      "execution_count": 26,
      "metadata": {
        "colab": {
          "base_uri": "https://localhost:8080/"
        },
        "id": "ft3gvIj9EIRX",
        "outputId": "72051527-551b-49d0-b660-a345625ccf21"
      },
      "outputs": [
        {
          "data": {
            "text/plain": [
              "tensor(2.9727)"
            ]
          },
          "execution_count": 26,
          "metadata": {},
          "output_type": "execute_result"
        }
      ],
      "source": [
        "apply_kernel(4, 15, top_edge)"
      ]
    },
    {
      "cell_type": "code",
      "execution_count": 27,
      "metadata": {
        "colab": {
          "base_uri": "https://localhost:8080/",
          "height": 133
        },
        "id": "pXuQ9Fa8EK0A",
        "outputId": "317a76e8-6307-4470-c4ff-a7146c8e0666"
      },
      "outputs": [
        {
          "data": {
            "image/png": "[encoded data removed]",
            "text/plain": [
              "<Figure size 192x144 with 1 Axes>"
            ]
          },
          "metadata": {},
          "output_type": "display_data"
        }
      ],
      "source": [
        "rng = range(1, 27)\n",
        "top_edge3 = tensor([[apply_kernel(i, j, top_edge) for j in rng] for i in rng])\n",
        "show_image(top_edge3);"
      ]
    },
    {
      "cell_type": "code",
      "execution_count": 29,
      "metadata": {
        "colab": {
          "base_uri": "https://localhost:8080/",
          "height": 133
        },
        "id": "hQNvdELjEWOa",
        "outputId": "21c6760b-f589-43e6-878b-4f2fb8b5ec92"
      },
      "outputs": [
        {
          "data": {
            "image/png": "[encoded data removed]",
            "text/plain": [
              "<Figure size 192x144 with 1 Axes>"
            ]
          },
          "metadata": {},
          "output_type": "display_data"
        }
      ],
      "source": [
        "left_edge = tensor([[-1, 0, 1],\n",
        "                   [-1, 0, 1],\n",
        "                   [-1, 0, 1]]).float()\n",
        "show_image(left_edge, noframe=False);"
      ]
    },
    {
      "cell_type": "code",
      "execution_count": 30,
      "metadata": {
        "colab": {
          "base_uri": "https://localhost:8080/",
          "height": 133
        },
        "id": "amXamoJOEfTJ",
        "outputId": "6ee42b91-18fd-4138-8d27-82cda6cb9895"
      },
      "outputs": [
        {
          "data": {
            "image/png": "[encoded data removed]",
            "text/plain": [
              "<Figure size 192x144 with 1 Axes>"
            ]
          },
          "metadata": {},
          "output_type": "display_data"
        }
      ],
      "source": [
        "left_edge3 = tensor([[apply_kernel(i, j, left_edge) for j in rng] for i in rng])\n",
        "show_image(left_edge3);"
      ]
    },
    {
      "attachments": {},
      "cell_type": "markdown",
      "metadata": {
        "id": "igXH6eVWEtK-"
      },
      "source": [
        "## Convolutions in PyTorch"
      ]
    },
    {
      "cell_type": "code",
      "execution_count": 31,
      "metadata": {
        "id": "1aSF735lGtLH"
      },
      "outputs": [],
      "source": [
        "import torch.nn.functional as F\n",
        "import torch"
      ]
    },
    {
      "cell_type": "code",
      "execution_count": 32,
      "metadata": {
        "colab": {
          "base_uri": "https://localhost:8080/"
        },
        "id": "05MdqccVGwnk",
        "outputId": "e8e1c274-e0be-4542-9e12-099fe8d318ad"
      },
      "outputs": [
        {
          "data": {
            "text/plain": [
              "torch.Size([9, 676])"
            ]
          },
          "execution_count": 32,
          "metadata": {},
          "output_type": "execute_result"
        }
      ],
      "source": [
        "inp = im3[None, None, :, :].float()\n",
        "inp_unf = F.unfold(inp, (3, 3))[0]\n",
        "inp_unf.shape"
      ]
    },
    {
      "attachments": {},
      "cell_type": "markdown",
      "metadata": {
        "id": "Ff5fFzfpG75T"
      },
      "source": [
        "- `unfold` imagines a tensor as a long tensor with repeated columns/rows of values 'folded' on top of each other, which then is 'unfolded'\n"
      ]
    },
    {
      "cell_type": "code",
      "execution_count": 38,
      "metadata": {
        "colab": {
          "base_uri": "https://localhost:8080/"
        },
        "id": "ldfbsrqSHmNt",
        "outputId": "c6392c0a-92f5-478f-8a2b-ccf03f835bf0"
      },
      "outputs": [
        {
          "data": {
            "text/plain": [
              "torch.Size([2, 20, 6])"
            ]
          },
          "execution_count": 38,
          "metadata": {},
          "output_type": "execute_result"
        }
      ],
      "source": [
        "p = torch.randn(2, 5, 3, 4)\n",
        "F.unfold(p, (2, 2)).shape"
      ]
    },
    {
      "cell_type": "code",
      "execution_count": 39,
      "metadata": {
        "colab": {
          "base_uri": "https://localhost:8080/"
        },
        "id": "cC0JP_V2Hz0G",
        "outputId": "798c6524-e6e8-42da-d593-ec35161bd424"
      },
      "outputs": [
        {
          "data": {
            "text/plain": [
              "torch.Size([9])"
            ]
          },
          "execution_count": 39,
          "metadata": {},
          "output_type": "execute_result"
        }
      ],
      "source": [
        "w = left_edge.view(-1)\n",
        "w.shape"
      ]
    },
    {
      "cell_type": "code",
      "execution_count": 40,
      "metadata": {
        "colab": {
          "base_uri": "https://localhost:8080/"
        },
        "id": "F5WbK0I0IaeT",
        "outputId": "5379e630-d726-4645-fd40-1836f6671103"
      },
      "outputs": [
        {
          "data": {
            "text/plain": [
              "torch.Size([676])"
            ]
          },
          "execution_count": 40,
          "metadata": {},
          "output_type": "execute_result"
        }
      ],
      "source": [
        "out_unf = w @ inp_unf\n",
        "out_unf.shape"
      ]
    },
    {
      "cell_type": "code",
      "execution_count": 41,
      "metadata": {
        "colab": {
          "base_uri": "https://localhost:8080/",
          "height": 133
        },
        "id": "ZNxkJM8mIdrF",
        "outputId": "dfe6f3af-6beb-4697-eabe-0dd33d197cf7"
      },
      "outputs": [
        {
          "data": {
            "image/png": "[encoded data removed]",
            "text/plain": [
              "<Figure size 192x144 with 1 Axes>"
            ]
          },
          "metadata": {},
          "output_type": "display_data"
        }
      ],
      "source": [
        "out = out_unf.view(26, 26)\n",
        "show_image(out);"
      ]
    },
    {
      "cell_type": "code",
      "execution_count": 42,
      "metadata": {
        "colab": {
          "base_uri": "https://localhost:8080/"
        },
        "id": "ThtzinG4IiRg",
        "outputId": "c546601b-4aa1-4d99-a06b-e07aa7a2ad4a"
      },
      "outputs": [
        {
          "name": "stdout",
          "output_type": "stream",
          "text": [
            "10.2 ms ± 3.15 ms per loop (mean ± std. dev. of 7 runs, 1 loop each)\n"
          ]
        }
      ],
      "source": [
        "%timeit -n 1 tensor([[apply_kernel(i, j, left_edge) for j in rng] for i in rng]);"
      ]
    },
    {
      "cell_type": "code",
      "execution_count": 43,
      "metadata": {
        "colab": {
          "base_uri": "https://localhost:8080/"
        },
        "id": "riwY9OFMIsXk",
        "outputId": "d7a2d950-1ca9-4356-ab15-c518eb0a35df"
      },
      "outputs": [
        {
          "name": "stdout",
          "output_type": "stream",
          "text": [
            "68.4 µs ± 28.7 µs per loop (mean ± std. dev. of 7 runs, 100 loops each)\n"
          ]
        }
      ],
      "source": [
        "%timeit -n 100 (w @ F.unfold(inp, (3, 3))[0]).view(26, 26);"
      ]
    },
    {
      "cell_type": "code",
      "execution_count": 44,
      "metadata": {
        "colab": {
          "base_uri": "https://localhost:8080/"
        },
        "id": "p8ie4oTZI0Yv",
        "outputId": "9b867cb9-9d9d-45a0-96b0-59d7a7ccb948"
      },
      "outputs": [
        {
          "name": "stdout",
          "output_type": "stream",
          "text": [
            "The slowest run took 5.54 times longer than the fastest. This could mean that an intermediate result is being cached.\n",
            "26.3 µs ± 23.4 µs per loop (mean ± std. dev. of 7 runs, 100 loops each)\n"
          ]
        }
      ],
      "source": [
        "%timeit -n 100 F.conv2d(inp, left_edge[None, None])"
      ]
    },
    {
      "cell_type": "code",
      "execution_count": 45,
      "metadata": {
        "colab": {
          "base_uri": "https://localhost:8080/",
          "height": 133
        },
        "id": "l6IaRtWBI6bc",
        "outputId": "77d326af-3151-4234-9d7e-f7f406d25626"
      },
      "outputs": [
        {
          "data": {
            "image/png": "[encoded data removed]",
            "text/plain": [
              "<Figure size 192x144 with 1 Axes>"
            ]
          },
          "metadata": {},
          "output_type": "display_data"
        }
      ],
      "source": [
        "diag1_edge = tensor([[0, -1, 1],\n",
        "                     [-1, 1, 0],\n",
        "                     [1, 0, -1]]).float()\n",
        "show_image(diag1_edge, noframe=False);"
      ]
    },
    {
      "cell_type": "code",
      "execution_count": 46,
      "metadata": {
        "colab": {
          "base_uri": "https://localhost:8080/",
          "height": 133
        },
        "id": "mxmfWDB7JK9T",
        "outputId": "0eed5e49-fa2c-4f6e-d39c-941b035c4351"
      },
      "outputs": [
        {
          "data": {
            "image/png": "[encoded data removed]",
            "text/plain": [
              "<Figure size 192x144 with 1 Axes>"
            ]
          },
          "metadata": {},
          "output_type": "display_data"
        }
      ],
      "source": [
        "diag2_edge = tensor([[1, -1, 0],\n",
        "                     [0, 1, -1],\n",
        "                     [0, 0, 1]]).float()\n",
        "show_image(diag2_edge, noframe=False);"
      ]
    },
    {
      "cell_type": "code",
      "execution_count": 47,
      "metadata": {
        "colab": {
          "base_uri": "https://localhost:8080/"
        },
        "id": "afXhRVC5JWRD",
        "outputId": "4061bdcc-f7d7-4fe3-ace1-dd77435d4543"
      },
      "outputs": [
        {
          "data": {
            "text/plain": [
              "torch.Size([16, 1, 28, 28])"
            ]
          },
          "execution_count": 47,
          "metadata": {},
          "output_type": "execute_result"
        }
      ],
      "source": [
        "xb = x_imgs[:16][:, None]\n",
        "xb.shape"
      ]
    },
    {
      "cell_type": "code",
      "execution_count": 49,
      "metadata": {
        "colab": {
          "base_uri": "https://localhost:8080/"
        },
        "id": "vxVTeb2kJaHQ",
        "outputId": "c02a7420-ef6a-4135-9d56-1b7545d532eb"
      },
      "outputs": [
        {
          "data": {
            "text/plain": [
              "torch.Size([4, 1, 3, 3])"
            ]
          },
          "execution_count": 49,
          "metadata": {},
          "output_type": "execute_result"
        }
      ],
      "source": [
        "edge_kernels = torch.stack([left_edge, top_edge, diag1_edge, diag2_edge])[:, None]\n",
        "edge_kernels.shape"
      ]
    },
    {
      "cell_type": "code",
      "execution_count": 50,
      "metadata": {
        "colab": {
          "base_uri": "https://localhost:8080/"
        },
        "id": "_OkJp7vpJi4V",
        "outputId": "7f415d8a-a53d-4acc-9734-1d58ad420a65"
      },
      "outputs": [
        {
          "data": {
            "text/plain": [
              "torch.Size([16, 4, 26, 26])"
            ]
          },
          "execution_count": 50,
          "metadata": {},
          "output_type": "execute_result"
        }
      ],
      "source": [
        "batch_features = F.conv2d(xb, edge_kernels)\n",
        "batch_features.shape"
      ]
    },
    {
      "cell_type": "code",
      "execution_count": 51,
      "metadata": {
        "colab": {
          "base_uri": "https://localhost:8080/",
          "height": 133
        },
        "id": "J2-9MN4eJqCq",
        "outputId": "63c5bde4-b0dd-4dd6-cabb-aafbf40f3faa"
      },
      "outputs": [
        {
          "data": {
            "image/png": "[encoded data removed]",
            "text/plain": [
              "<Figure size 192x144 with 1 Axes>"
            ]
          },
          "metadata": {},
          "output_type": "display_data"
        }
      ],
      "source": [
        "img0 = xb[1, 0]\n",
        "show_image(img0);"
      ]
    },
    {
      "cell_type": "code",
      "execution_count": 52,
      "metadata": {
        "colab": {
          "base_uri": "https://localhost:8080/",
          "height": 161
        },
        "id": "8hHqMhWAJu3F",
        "outputId": "fa10ef2f-d2bc-4ad9-f9ab-142afc7ddccc"
      },
      "outputs": [
        {
          "data": {
            "image/png": "[encoded data removed]",
            "text/plain": [
              "<Figure size 180x180 with 4 Axes>"
            ]
          },
          "metadata": {},
          "output_type": "display_data"
        }
      ],
      "source": [
        "show_images([batch_features[1, i] for i in range(4)])"
      ]
    },
    {
      "attachments": {},
      "cell_type": "markdown",
      "metadata": {
        "id": "O0J6e_xeJ0Tr"
      },
      "source": [
        "## Creating a CNN"
      ]
    },
    {
      "cell_type": "code",
      "execution_count": 53,
      "metadata": {
        "id": "jRa2-WUzJ4Eg"
      },
      "outputs": [],
      "source": [
        "n, m = x_train.shape\n",
        "c = y_train.max() + 1\n",
        "nh = 50"
      ]
    },
    {
      "cell_type": "code",
      "execution_count": 54,
      "metadata": {
        "id": "t29xpwe0KG-d"
      },
      "outputs": [],
      "source": [
        "model = nn.Sequential(nn.Linear(m, nh), nn.ReLU(), nn.Linear(nh, 10))"
      ]
    },
    {
      "cell_type": "code",
      "execution_count": 55,
      "metadata": {
        "id": "N6XH0oKXKNo4"
      },
      "outputs": [],
      "source": [
        "broken_cnn = nn.Sequential(\n",
        "    nn.Conv2d(1, 30, kernel_size=3, padding=1),\n",
        "    nn.ReLU(),\n",
        "    nn.Conv2d(30, 10, kernel_size=3, padding=1)\n",
        ")"
      ]
    },
    {
      "cell_type": "code",
      "execution_count": 56,
      "metadata": {
        "colab": {
          "base_uri": "https://localhost:8080/"
        },
        "id": "7PBl3VaQKYxS",
        "outputId": "ecd0aa1d-ff0c-4209-9b2c-77370a0d0cbb"
      },
      "outputs": [
        {
          "data": {
            "text/plain": [
              "torch.Size([16, 10, 28, 28])"
            ]
          },
          "execution_count": 56,
          "metadata": {},
          "output_type": "execute_result"
        }
      ],
      "source": [
        "broken_cnn(xb).shape"
      ]
    },
    {
      "cell_type": "code",
      "execution_count": 57,
      "metadata": {
        "id": "wfkmZldnKaxB"
      },
      "outputs": [],
      "source": [
        "#| export\n",
        "def conv(ni, nf, ks=3, stride=2, act=True):\n",
        "    res = nn.Conv2d(ni, nf, stride=stride, kernel_size=ks, padding=ks//2)\n",
        "    if act:\n",
        "        res = nn.Sequential(res, nn.ReLU())\n",
        "    return res"
      ]
    },
    {
      "cell_type": "code",
      "execution_count": 58,
      "metadata": {
        "id": "2Coj6m9dKpiR"
      },
      "outputs": [],
      "source": [
        "simple_cnn = nn.Sequential(\n",
        "    conv(1, 4),                 # 14x14\n",
        "    conv(4, 8),                 # 7x7\n",
        "    conv(8, 16),                # 4x4\n",
        "    conv(16, 16),               # 2x2\n",
        "    conv(16, 10, act=False),    # 1x1\n",
        "    nn.Flatten()\n",
        ")"
      ]
    },
    {
      "cell_type": "code",
      "execution_count": 59,
      "metadata": {
        "colab": {
          "base_uri": "https://localhost:8080/"
        },
        "id": "Z9jeiipjLNzH",
        "outputId": "8108c2f3-77ac-49ac-a768-e4e57b9af129"
      },
      "outputs": [
        {
          "data": {
            "text/plain": [
              "torch.Size([16, 10])"
            ]
          },
          "execution_count": 59,
          "metadata": {},
          "output_type": "execute_result"
        }
      ],
      "source": [
        "simple_cnn(xb).shape"
      ]
    },
    {
      "cell_type": "code",
      "execution_count": 60,
      "metadata": {
        "id": "L727h7JhLPUV"
      },
      "outputs": [],
      "source": [
        "x_imgs = x_train.view(-1, 1, 28, 28)\n",
        "xv_imgs = x_valid.view(-1, 1, 28, 28)\n",
        "train_ds, valid_ds = Dataset(x_imgs, y_train), Dataset(xv_imgs, y_valid)"
      ]
    },
    {
      "cell_type": "code",
      "execution_count": 65,
      "metadata": {
        "id": "LvLVVZ_nLcjn"
      },
      "outputs": [],
      "source": [
        "#| export\n",
        "def_device = 'mps' if torch.backends.mps.is_available() else 'cuda' if torch.cuda.is_available() else 'cpu'\n",
        "\n",
        "def to_device(x, device=def_device):\n",
        "    if isinstance(x, torch.Tensor): return x.to(device)\n",
        "    if isinstance(x, Mapping): return {k:v.to(device) for k, v in x.items()}\n",
        "    return type(x)(to_device(o, device) for o in x)\n",
        "\n",
        "def collate_device(b): return to_device(default_collate(b))"
      ]
    },
    {
      "cell_type": "code",
      "execution_count": 66,
      "metadata": {
        "id": "fC2IM9v2MDf_"
      },
      "outputs": [],
      "source": [
        "from torch import optim\n",
        "\n",
        "bs = 256\n",
        "lr = 0.4\n",
        "train_dl, valid_dl = get_dls(train_ds, valid_ds, bs, collate_fn=collate_device)\n",
        "opt = optim.SGD(simple_cnn.parameters(), lr=lr)"
      ]
    },
    {
      "cell_type": "code",
      "execution_count": 67,
      "metadata": {
        "colab": {
          "base_uri": "https://localhost:8080/"
        },
        "id": "fZkgjakoMSCa",
        "outputId": "fb11541e-b344-4116-c902-c476614e4f9c"
      },
      "outputs": [
        {
          "name": "stdout",
          "output_type": "stream",
          "text": [
            "0 0.33882025413513184 0.8981000002861023\n",
            "1 0.5687522699356079 0.8220000004768372\n",
            "2 0.13053474612236024 0.9617999995231629\n",
            "3 0.10712715346813202 0.969799999332428\n",
            "4 0.16189455966949462 0.9541000006675721\n"
          ]
        }
      ],
      "source": [
        "loss, acc = fit(5, simple_cnn.to(def_device), F.cross_entropy, opt, train_dl, valid_dl)"
      ]
    },
    {
      "cell_type": "code",
      "execution_count": 68,
      "metadata": {
        "colab": {
          "base_uri": "https://localhost:8080/"
        },
        "id": "7mAtM7TOMdVh",
        "outputId": "af025d5f-7d94-4189-93cd-c6e4a7110717"
      },
      "outputs": [
        {
          "name": "stdout",
          "output_type": "stream",
          "text": [
            "0 0.16189455966949462 0.9541000006675721\n",
            "1 0.16189455966949462 0.9541000006675721\n",
            "2 0.16189455966949462 0.9541000006675721\n",
            "3 0.16189455966949462 0.9541000006675721\n",
            "4 0.16189455966949462 0.9541000006675721\n"
          ]
        }
      ],
      "source": [
        "opt = optim.SGD(simple_cnn.parameters(), lr=lr//4)\n",
        "loss, acc = fit(5, simple_cnn.to(def_device), F.cross_entropy, opt, train_dl, valid_dl)"
      ]
    },
    {
      "cell_type": "code",
      "execution_count": 1,
      "metadata": {
        "id": "cIvVTAy8MtZM"
      },
      "outputs": [],
      "source": [
        "import nbdev\n",
        "nbdev.nbdev_export()"
      ]
    },
    {
      "cell_type": "code",
      "execution_count": null,
      "metadata": {},
      "outputs": [],
      "source": []
    }
  ],
  "metadata": {
    "accelerator": "GPU",
    "colab": {
      "gpuType": "T4",
      "provenance": []
    },
    "kernelspec": {
      "display_name": "Python 3",
      "name": "python3"
    },
    "language_info": {
      "codemirror_mode": {
        "name": "ipython",
        "version": 3
      },
      "file_extension": ".py",
      "mimetype": "text/x-python",
      "name": "python",
      "nbconvert_exporter": "python",
      "pygments_lexer": "ipython3",
      "version": "3.9.13"
    }
  },
  "nbformat": 4,
  "nbformat_minor": 0
}
